{
 "cells": [
  {
   "cell_type": "code",
   "execution_count": null,
   "id": "966e3666",
   "metadata": {},
   "outputs": [],
   "source": []
  },
  {
   "cell_type": "code",
   "execution_count": 1,
   "id": "90a6288b",
   "metadata": {},
   "outputs": [],
   "source": [
    "import numpy as np \n",
    "import pandas as pd\n",
    "import csv\n",
    "\n",
    "import time\n",
    "import datetime as dt"
   ]
  },
  {
   "cell_type": "markdown",
   "id": "3d8fa5d3",
   "metadata": {},
   "source": [
    "### Function section"
   ]
  },
  {
   "cell_type": "code",
   "execution_count": 13,
   "id": "769a84c9",
   "metadata": {},
   "outputs": [],
   "source": [
    "def convert_date(w):\n",
    "    \"\"\" convert a date 'mm/jj/yyyy' to a format : 'yyyymmjj' \"\"\"\n",
    "    print(w)\n",
    "    w_length = len(w)\n",
    "    year = w[w_length - 4:]\n",
    "    day = w[w_length - 7 : w_length - 5]\n",
    "\n",
    "    if w_length == 10 :\n",
    "        month = w[:2]\n",
    "    else :\n",
    "        month = '0' + w[0]\n",
    "    f = year + month + day\n",
    "     \n",
    "    return f\n",
    "\n",
    "def convert_time(w):\n",
    "    \n",
    "    \"\"\" convert a time '3:20:40.50 PM' to a format : 'hhmmssddd' \"\"\"\n",
    "\n",
    "    a = w[-2:]\n",
    "    h = w[0]\n",
    "    m = w[2:4]\n",
    "    s = w[5:7]\n",
    "    millis = w[8:10] + '0'\n",
    "\n",
    "    if a == 'PM':\n",
    "\n",
    "        hour = int(h) + 12\n",
    "        h = str(hour)\n",
    "\n",
    "    \n",
    "    f = h + m + s + millis\n",
    "    \n",
    "    return f \n",
    "\n",
    "def convert_UTC(date,t):\n",
    "    \n",
    "    \"\"\" Merge date 'yyyymmjj' and a time 'hhmmssddd' to UTC time 'yyyymmjj'T'hhmmssddd'Z format, used by Dany Dumont team\"\"\"\n",
    "    \n",
    "    year = int(date[:4])\n",
    "    month = int(date[4:6])\n",
    "    day = int(date[6:8])\n",
    "\n",
    "    hour = int(t[:2])\n",
    "    minute = int(t[2:4])\n",
    "    sec = int(t[4:6])\n",
    "    millisec = t[6:]\n",
    "    print(millisec)\n",
    "    # convert a time year, month, day, hour, min, sec, microsec to a timme in seconds since the epoch\n",
    "    t = dt.datetime(year,month,day,hour,minute,sec).timestamp()\n",
    "\n",
    "    # convert a time to UTC time \n",
    "    UTC_t = time.gmtime(t)\n",
    "    \n",
    "    y_txt = str(UTC_t[0])\n",
    "    UTC_txt = y_txt\n",
    "    \n",
    "    for i in range(1,6):\n",
    "        \n",
    "        a_txt = str(UTC_t[i])\n",
    "        if UTC_t[i] < 10:\n",
    "            a_txt = '0' + a_txt \n",
    "        \n",
    "        UTC_txt += a_txt     \n",
    "        \n",
    "        if i == 2:\n",
    "            UTC_txt += 'T'\n",
    "        \n",
    "    UTC_txt += millisec + 'Z'\n",
    "    \n",
    "    return UTC_txt\n",
    "    \n",
    "\n",
    "def get_timeline_row(data,idx,comments,facq):\n",
    "    \"\"\" This function takes the index of a given panda DataFrame, and builds a row to be written in a timeline csv file\"\n",
    "    The timeline has the following headers :\n",
    "    'Index','Objet','T_0','T_F','X','Y','Z','Latitude','Longitude','Elevation','Commentaire','Facq','Theta'\n",
    "    \n",
    "    The function takes as arguments : \n",
    "    - data, a pandas DataFrame\n",
    "    - idx, the index of the DataFrame in which we are interested\n",
    "    - comments, envetual comments to add, must be a string\n",
    "    - facq, acquisition frequency, must be a float\n",
    "    \"\"\"\n",
    "    # Get the date and time\n",
    "    date = data['CUSTOM.date [local]'][idx]\n",
    "    t = data['CUSTOM.updateTime [local]'][idx]\n",
    "    \n",
    "    # Convert date and time in suitable formats\n",
    "    date = convert_date(date)\n",
    "    t = convert_time(t)\n",
    "    \n",
    "    # Convert date and time in UTC format\n",
    "    UTC_t = convert_UTC(date,t)\n",
    "    \n",
    "    # Get other variables\n",
    "    Z = float(data['OSD.height [ft]'][idx_start])*0.308\n",
    "    latitude = data['OSD.latitude'][idx_start]\n",
    "    longitude = data['OSD.longitude'][idx_start]\n",
    "    elevation = float(data['OSD.altitude [ft]'][idx_start])*0.308\n",
    "    theta = data['GIMBAL.pitch'][idx_start]\n",
    "\n",
    "    # Build a line to be written in a csv \n",
    "    line_csv = ['','',UTC_t,'','','',Z,latitude,longitude,elevation,comments,facq,theta]\n",
    "    return line_csv\n",
    "    \n",
    "    \n",
    "    \n",
    "    "
   ]
  },
  {
   "cell_type": "code",
   "execution_count": 5,
   "id": "7b1c67d7",
   "metadata": {},
   "outputs": [
    {
     "data": {
      "text/html": [
       "<div>\n",
       "<style scoped>\n",
       "    .dataframe tbody tr th:only-of-type {\n",
       "        vertical-align: middle;\n",
       "    }\n",
       "\n",
       "    .dataframe tbody tr th {\n",
       "        vertical-align: top;\n",
       "    }\n",
       "\n",
       "    .dataframe thead th {\n",
       "        text-align: right;\n",
       "    }\n",
       "</style>\n",
       "<table border=\"1\" class=\"dataframe\">\n",
       "  <thead>\n",
       "    <tr style=\"text-align: right;\">\n",
       "      <th></th>\n",
       "      <th>CUSTOM.date [local]</th>\n",
       "      <th>CUSTOM.updateTime [local]</th>\n",
       "      <th>OSD.flyTime</th>\n",
       "      <th>OSD.flyTime [s]</th>\n",
       "      <th>OSD.latitude</th>\n",
       "      <th>OSD.longitude</th>\n",
       "      <th>OSD.height [ft]</th>\n",
       "      <th>OSD.heightMax [ft]</th>\n",
       "      <th>OSD.vpsHeight [ft]</th>\n",
       "      <th>OSD.altitude [ft]</th>\n",
       "      <th>...</th>\n",
       "      <th>SERIAL.flightController</th>\n",
       "      <th>SERIAL.camera</th>\n",
       "      <th>SERIAL.gimbal</th>\n",
       "      <th>SERIAL.rc</th>\n",
       "      <th>SERIAL.battery</th>\n",
       "      <th>APPGPS.latitude</th>\n",
       "      <th>APPGPS.longitude</th>\n",
       "      <th>APPGPS.accuracy</th>\n",
       "      <th>APP.tip</th>\n",
       "      <th>APP.warning</th>\n",
       "    </tr>\n",
       "  </thead>\n",
       "  <tbody>\n",
       "    <tr>\n",
       "      <th>0</th>\n",
       "      <td>2/11/2024</td>\n",
       "      <td>3:26:43.99 PM</td>\n",
       "      <td>0m 0.0s</td>\n",
       "      <td>0.0</td>\n",
       "      <td>48.251745</td>\n",
       "      <td>-70.091148</td>\n",
       "      <td>0.0</td>\n",
       "      <td>0.0</td>\n",
       "      <td>0.3</td>\n",
       "      <td>0</td>\n",
       "      <td>...</td>\n",
       "      <td>1581F67QC23680149Q44</td>\n",
       "      <td>NaN</td>\n",
       "      <td>NaN</td>\n",
       "      <td>NaN</td>\n",
       "      <td>NaN</td>\n",
       "      <td>NaN</td>\n",
       "      <td>NaN</td>\n",
       "      <td>NaN</td>\n",
       "      <td>Flight mode changed to P-GPS (Brake).</td>\n",
       "      <td>NaN</td>\n",
       "    </tr>\n",
       "    <tr>\n",
       "      <th>1</th>\n",
       "      <td>2/11/2024</td>\n",
       "      <td>3:26:44.11 PM</td>\n",
       "      <td>0m 0.1s</td>\n",
       "      <td>0.1</td>\n",
       "      <td>48.251745</td>\n",
       "      <td>-70.091148</td>\n",
       "      <td>0.0</td>\n",
       "      <td>0.0</td>\n",
       "      <td>0.3</td>\n",
       "      <td>0</td>\n",
       "      <td>...</td>\n",
       "      <td>1581F67QC23680149Q44</td>\n",
       "      <td>NaN</td>\n",
       "      <td>NaN</td>\n",
       "      <td>NaN</td>\n",
       "      <td>NaN</td>\n",
       "      <td>NaN</td>\n",
       "      <td>NaN</td>\n",
       "      <td>NaN</td>\n",
       "      <td>Data Recorder File Index is 28.; Set Return to...</td>\n",
       "      <td>NaN</td>\n",
       "    </tr>\n",
       "    <tr>\n",
       "      <th>2</th>\n",
       "      <td>2/11/2024</td>\n",
       "      <td>3:26:44.21 PM</td>\n",
       "      <td>0m 0.2s</td>\n",
       "      <td>0.2</td>\n",
       "      <td>48.251744</td>\n",
       "      <td>-70.091148</td>\n",
       "      <td>0.0</td>\n",
       "      <td>0.0</td>\n",
       "      <td>0.3</td>\n",
       "      <td>0</td>\n",
       "      <td>...</td>\n",
       "      <td>1581F67QC23680149Q44</td>\n",
       "      <td>NaN</td>\n",
       "      <td>NaN</td>\n",
       "      <td>NaN</td>\n",
       "      <td>NaN</td>\n",
       "      <td>NaN</td>\n",
       "      <td>NaN</td>\n",
       "      <td>NaN</td>\n",
       "      <td>L'appareil n'est pas en vol. Systèmes optiques...</td>\n",
       "      <td>NaN</td>\n",
       "    </tr>\n",
       "    <tr>\n",
       "      <th>3</th>\n",
       "      <td>2/11/2024</td>\n",
       "      <td>3:26:44.32 PM</td>\n",
       "      <td>0m 0.3s</td>\n",
       "      <td>0.3</td>\n",
       "      <td>48.251744</td>\n",
       "      <td>-70.091148</td>\n",
       "      <td>0.0</td>\n",
       "      <td>0.0</td>\n",
       "      <td>0.3</td>\n",
       "      <td>0</td>\n",
       "      <td>...</td>\n",
       "      <td>1581F67QC23680149Q44</td>\n",
       "      <td>NaN</td>\n",
       "      <td>NaN</td>\n",
       "      <td>NaN</td>\n",
       "      <td>NaN</td>\n",
       "      <td>NaN</td>\n",
       "      <td>NaN</td>\n",
       "      <td>NaN</td>\n",
       "      <td>NaN</td>\n",
       "      <td>NaN</td>\n",
       "    </tr>\n",
       "    <tr>\n",
       "      <th>4</th>\n",
       "      <td>2/11/2024</td>\n",
       "      <td>3:26:44.42 PM</td>\n",
       "      <td>0m 0.4s</td>\n",
       "      <td>0.4</td>\n",
       "      <td>48.251744</td>\n",
       "      <td>-70.091148</td>\n",
       "      <td>0.0</td>\n",
       "      <td>0.0</td>\n",
       "      <td>0.3</td>\n",
       "      <td>0</td>\n",
       "      <td>...</td>\n",
       "      <td>1581F67QC23680149Q44</td>\n",
       "      <td>NaN</td>\n",
       "      <td>NaN</td>\n",
       "      <td>NaN</td>\n",
       "      <td>NaN</td>\n",
       "      <td>NaN</td>\n",
       "      <td>NaN</td>\n",
       "      <td>NaN</td>\n",
       "      <td>NaN</td>\n",
       "      <td>NaN</td>\n",
       "    </tr>\n",
       "    <tr>\n",
       "      <th>...</th>\n",
       "      <td>...</td>\n",
       "      <td>...</td>\n",
       "      <td>...</td>\n",
       "      <td>...</td>\n",
       "      <td>...</td>\n",
       "      <td>...</td>\n",
       "      <td>...</td>\n",
       "      <td>...</td>\n",
       "      <td>...</td>\n",
       "      <td>...</td>\n",
       "      <td>...</td>\n",
       "      <td>...</td>\n",
       "      <td>...</td>\n",
       "      <td>...</td>\n",
       "      <td>...</td>\n",
       "      <td>...</td>\n",
       "      <td>...</td>\n",
       "      <td>...</td>\n",
       "      <td>...</td>\n",
       "      <td>...</td>\n",
       "      <td>...</td>\n",
       "    </tr>\n",
       "    <tr>\n",
       "      <th>7446</th>\n",
       "      <td>2/11/2024</td>\n",
       "      <td>3:39:18.29 PM</td>\n",
       "      <td>12m 34.3s</td>\n",
       "      <td>754.3</td>\n",
       "      <td>48.251750</td>\n",
       "      <td>-70.091118</td>\n",
       "      <td>2.2</td>\n",
       "      <td>312.0</td>\n",
       "      <td>0.3</td>\n",
       "      <td>2</td>\n",
       "      <td>...</td>\n",
       "      <td>1581F67QC23680149Q44</td>\n",
       "      <td>NaN</td>\n",
       "      <td>NaN</td>\n",
       "      <td>NaN</td>\n",
       "      <td>NaN</td>\n",
       "      <td>NaN</td>\n",
       "      <td>NaN</td>\n",
       "      <td>NaN</td>\n",
       "      <td>NaN</td>\n",
       "      <td>NaN</td>\n",
       "    </tr>\n",
       "    <tr>\n",
       "      <th>7447</th>\n",
       "      <td>2/11/2024</td>\n",
       "      <td>3:39:18.49 PM</td>\n",
       "      <td>12m 34.4s</td>\n",
       "      <td>754.4</td>\n",
       "      <td>48.251750</td>\n",
       "      <td>-70.091118</td>\n",
       "      <td>2.2</td>\n",
       "      <td>312.0</td>\n",
       "      <td>0.3</td>\n",
       "      <td>2</td>\n",
       "      <td>...</td>\n",
       "      <td>1581F67QC23680149Q44</td>\n",
       "      <td>NaN</td>\n",
       "      <td>NaN</td>\n",
       "      <td>NaN</td>\n",
       "      <td>NaN</td>\n",
       "      <td>NaN</td>\n",
       "      <td>NaN</td>\n",
       "      <td>NaN</td>\n",
       "      <td>NaN</td>\n",
       "      <td>NaN</td>\n",
       "    </tr>\n",
       "    <tr>\n",
       "      <th>7448</th>\n",
       "      <td>2/11/2024</td>\n",
       "      <td>3:39:18.59 PM</td>\n",
       "      <td>12m 34.5s</td>\n",
       "      <td>754.5</td>\n",
       "      <td>48.251750</td>\n",
       "      <td>-70.091118</td>\n",
       "      <td>2.2</td>\n",
       "      <td>312.0</td>\n",
       "      <td>0.3</td>\n",
       "      <td>2</td>\n",
       "      <td>...</td>\n",
       "      <td>1581F67QC23680149Q44</td>\n",
       "      <td>NaN</td>\n",
       "      <td>NaN</td>\n",
       "      <td>NaN</td>\n",
       "      <td>NaN</td>\n",
       "      <td>NaN</td>\n",
       "      <td>NaN</td>\n",
       "      <td>NaN</td>\n",
       "      <td>NaN</td>\n",
       "      <td>NaN</td>\n",
       "    </tr>\n",
       "    <tr>\n",
       "      <th>7449</th>\n",
       "      <td>2/11/2024</td>\n",
       "      <td>3:39:18.59 PM</td>\n",
       "      <td>12m 34.6s</td>\n",
       "      <td>754.6</td>\n",
       "      <td>48.251750</td>\n",
       "      <td>-70.091118</td>\n",
       "      <td>2.2</td>\n",
       "      <td>312.0</td>\n",
       "      <td>0.3</td>\n",
       "      <td>2</td>\n",
       "      <td>...</td>\n",
       "      <td>1581F67QC23680149Q44</td>\n",
       "      <td>NaN</td>\n",
       "      <td>NaN</td>\n",
       "      <td>NaN</td>\n",
       "      <td>NaN</td>\n",
       "      <td>NaN</td>\n",
       "      <td>NaN</td>\n",
       "      <td>NaN</td>\n",
       "      <td>NaN</td>\n",
       "      <td>NaN</td>\n",
       "    </tr>\n",
       "    <tr>\n",
       "      <th>7450</th>\n",
       "      <td>2/11/2024</td>\n",
       "      <td>3:39:18.59 PM</td>\n",
       "      <td>12m 34.7s</td>\n",
       "      <td>754.7</td>\n",
       "      <td>48.251750</td>\n",
       "      <td>-70.091118</td>\n",
       "      <td>0.0</td>\n",
       "      <td>312.0</td>\n",
       "      <td>0.3</td>\n",
       "      <td>0</td>\n",
       "      <td>...</td>\n",
       "      <td>1581F67QC23680149Q44</td>\n",
       "      <td>NaN</td>\n",
       "      <td>NaN</td>\n",
       "      <td>NaN</td>\n",
       "      <td>NaN</td>\n",
       "      <td>NaN</td>\n",
       "      <td>NaN</td>\n",
       "      <td>NaN</td>\n",
       "      <td>NaN</td>\n",
       "      <td>NaN</td>\n",
       "    </tr>\n",
       "  </tbody>\n",
       "</table>\n",
       "<p>7451 rows × 186 columns</p>\n",
       "</div>"
      ],
      "text/plain": [
       "     CUSTOM.date [local] CUSTOM.updateTime [local] OSD.flyTime  \\\n",
       "0              2/11/2024             3:26:43.99 PM     0m 0.0s   \n",
       "1              2/11/2024             3:26:44.11 PM     0m 0.1s   \n",
       "2              2/11/2024             3:26:44.21 PM     0m 0.2s   \n",
       "3              2/11/2024             3:26:44.32 PM     0m 0.3s   \n",
       "4              2/11/2024             3:26:44.42 PM     0m 0.4s   \n",
       "...                  ...                       ...         ...   \n",
       "7446           2/11/2024             3:39:18.29 PM   12m 34.3s   \n",
       "7447           2/11/2024             3:39:18.49 PM   12m 34.4s   \n",
       "7448           2/11/2024             3:39:18.59 PM   12m 34.5s   \n",
       "7449           2/11/2024             3:39:18.59 PM   12m 34.6s   \n",
       "7450           2/11/2024             3:39:18.59 PM   12m 34.7s   \n",
       "\n",
       "      OSD.flyTime [s]  OSD.latitude  OSD.longitude  OSD.height [ft]  \\\n",
       "0                 0.0     48.251745     -70.091148              0.0   \n",
       "1                 0.1     48.251745     -70.091148              0.0   \n",
       "2                 0.2     48.251744     -70.091148              0.0   \n",
       "3                 0.3     48.251744     -70.091148              0.0   \n",
       "4                 0.4     48.251744     -70.091148              0.0   \n",
       "...               ...           ...            ...              ...   \n",
       "7446            754.3     48.251750     -70.091118              2.2   \n",
       "7447            754.4     48.251750     -70.091118              2.2   \n",
       "7448            754.5     48.251750     -70.091118              2.2   \n",
       "7449            754.6     48.251750     -70.091118              2.2   \n",
       "7450            754.7     48.251750     -70.091118              0.0   \n",
       "\n",
       "      OSD.heightMax [ft]  OSD.vpsHeight [ft]  OSD.altitude [ft]  ...  \\\n",
       "0                    0.0                 0.3                  0  ...   \n",
       "1                    0.0                 0.3                  0  ...   \n",
       "2                    0.0                 0.3                  0  ...   \n",
       "3                    0.0                 0.3                  0  ...   \n",
       "4                    0.0                 0.3                  0  ...   \n",
       "...                  ...                 ...                ...  ...   \n",
       "7446               312.0                 0.3                  2  ...   \n",
       "7447               312.0                 0.3                  2  ...   \n",
       "7448               312.0                 0.3                  2  ...   \n",
       "7449               312.0                 0.3                  2  ...   \n",
       "7450               312.0                 0.3                  0  ...   \n",
       "\n",
       "      SERIAL.flightController  SERIAL.camera  SERIAL.gimbal  SERIAL.rc  \\\n",
       "0        1581F67QC23680149Q44            NaN            NaN        NaN   \n",
       "1        1581F67QC23680149Q44            NaN            NaN        NaN   \n",
       "2        1581F67QC23680149Q44            NaN            NaN        NaN   \n",
       "3        1581F67QC23680149Q44            NaN            NaN        NaN   \n",
       "4        1581F67QC23680149Q44            NaN            NaN        NaN   \n",
       "...                       ...            ...            ...        ...   \n",
       "7446     1581F67QC23680149Q44            NaN            NaN        NaN   \n",
       "7447     1581F67QC23680149Q44            NaN            NaN        NaN   \n",
       "7448     1581F67QC23680149Q44            NaN            NaN        NaN   \n",
       "7449     1581F67QC23680149Q44            NaN            NaN        NaN   \n",
       "7450     1581F67QC23680149Q44            NaN            NaN        NaN   \n",
       "\n",
       "      SERIAL.battery  APPGPS.latitude  APPGPS.longitude  APPGPS.accuracy  \\\n",
       "0                NaN              NaN               NaN              NaN   \n",
       "1                NaN              NaN               NaN              NaN   \n",
       "2                NaN              NaN               NaN              NaN   \n",
       "3                NaN              NaN               NaN              NaN   \n",
       "4                NaN              NaN               NaN              NaN   \n",
       "...              ...              ...               ...              ...   \n",
       "7446             NaN              NaN               NaN              NaN   \n",
       "7447             NaN              NaN               NaN              NaN   \n",
       "7448             NaN              NaN               NaN              NaN   \n",
       "7449             NaN              NaN               NaN              NaN   \n",
       "7450             NaN              NaN               NaN              NaN   \n",
       "\n",
       "                                                APP.tip  APP.warning  \n",
       "0                 Flight mode changed to P-GPS (Brake).          NaN  \n",
       "1     Data Recorder File Index is 28.; Set Return to...          NaN  \n",
       "2     L'appareil n'est pas en vol. Systèmes optiques...          NaN  \n",
       "3                                                   NaN          NaN  \n",
       "4                                                   NaN          NaN  \n",
       "...                                                 ...          ...  \n",
       "7446                                                NaN          NaN  \n",
       "7447                                                NaN          NaN  \n",
       "7448                                                NaN          NaN  \n",
       "7449                                                NaN          NaN  \n",
       "7450                                                NaN          NaN  \n",
       "\n",
       "[7451 rows x 186 columns]"
      ]
     },
     "execution_count": 5,
     "metadata": {},
     "output_type": "execute_result"
    }
   ],
   "source": [
    "path = 'G:/Rimouski_2024/Data/2024/0211/Drones/bernache/flightrecords/DJIFlightRecord_2024-02-11_[15-26-43].csv'\n",
    "\n",
    "data = pd.read_csv(path,header = 1, low_memory = False)\n",
    "data"
   ]
  },
  {
   "cell_type": "code",
   "execution_count": 6,
   "id": "db841de2",
   "metadata": {
    "scrolled": true
   },
   "outputs": [
    {
     "name": "stdout",
     "output_type": "stream",
     "text": [
      "  CUSTOM.date [local] CUSTOM.updateTime [local] OSD.flyTime  OSD.flyTime [s]  \\\n",
      "0           2/11/2024             3:26:43.99 PM     0m 0.0s              0.0   \n",
      "1           2/11/2024             3:26:44.11 PM     0m 0.1s              0.1   \n",
      "2           2/11/2024             3:26:44.21 PM     0m 0.2s              0.2   \n",
      "3           2/11/2024             3:26:44.32 PM     0m 0.3s              0.3   \n",
      "4           2/11/2024             3:26:44.42 PM     0m 0.4s              0.4   \n",
      "\n",
      "   OSD.latitude  OSD.longitude  OSD.height [ft]  OSD.heightMax [ft]  \\\n",
      "0     48.251745     -70.091148              0.0                 0.0   \n",
      "1     48.251745     -70.091148              0.0                 0.0   \n",
      "2     48.251744     -70.091148              0.0                 0.0   \n",
      "3     48.251744     -70.091148              0.0                 0.0   \n",
      "4     48.251744     -70.091148              0.0                 0.0   \n",
      "\n",
      "   OSD.vpsHeight [ft]  OSD.altitude [ft]  ...  SERIAL.flightController  \\\n",
      "0                 0.3                  0  ...     1581F67QC23680149Q44   \n",
      "1                 0.3                  0  ...     1581F67QC23680149Q44   \n",
      "2                 0.3                  0  ...     1581F67QC23680149Q44   \n",
      "3                 0.3                  0  ...     1581F67QC23680149Q44   \n",
      "4                 0.3                  0  ...     1581F67QC23680149Q44   \n",
      "\n",
      "   SERIAL.camera  SERIAL.gimbal  SERIAL.rc  SERIAL.battery  APPGPS.latitude  \\\n",
      "0            NaN            NaN        NaN             NaN              NaN   \n",
      "1            NaN            NaN        NaN             NaN              NaN   \n",
      "2            NaN            NaN        NaN             NaN              NaN   \n",
      "3            NaN            NaN        NaN             NaN              NaN   \n",
      "4            NaN            NaN        NaN             NaN              NaN   \n",
      "\n",
      "   APPGPS.longitude  APPGPS.accuracy  \\\n",
      "0               NaN              NaN   \n",
      "1               NaN              NaN   \n",
      "2               NaN              NaN   \n",
      "3               NaN              NaN   \n",
      "4               NaN              NaN   \n",
      "\n",
      "                                             APP.tip  APP.warning  \n",
      "0              Flight mode changed to P-GPS (Brake).          NaN  \n",
      "1  Data Recorder File Index is 28.; Set Return to...          NaN  \n",
      "2  L'appareil n'est pas en vol. Systèmes optiques...          NaN  \n",
      "3                                                NaN          NaN  \n",
      "4                                                NaN          NaN  \n",
      "\n",
      "[5 rows x 186 columns]\n"
     ]
    }
   ],
   "source": [
    "data.shape\n",
    "print(data.head())"
   ]
  },
  {
   "cell_type": "code",
   "execution_count": 23,
   "id": "85fbafc1",
   "metadata": {},
   "outputs": [
    {
     "data": {
      "text/plain": [
       "(7451, 186)"
      ]
     },
     "execution_count": 23,
     "metadata": {},
     "output_type": "execute_result"
    }
   ],
   "source": [
    "data.shape"
   ]
  },
  {
   "cell_type": "code",
   "execution_count": 26,
   "id": "e0ed82f5",
   "metadata": {},
   "outputs": [
    {
     "data": {
      "text/plain": [
       "Index(['CUSTOM.date [local]', 'CUSTOM.updateTime [local]', 'OSD.flyTime',\n",
       "       'OSD.flyTime [s]', 'OSD.latitude', 'OSD.longitude', 'OSD.height [ft]',\n",
       "       'OSD.heightMax [ft]', 'OSD.vpsHeight [ft]', 'OSD.altitude [ft]',\n",
       "       ...\n",
       "       'SERIAL.flightController', 'SERIAL.camera', 'SERIAL.gimbal',\n",
       "       'SERIAL.rc', 'SERIAL.battery', 'APPGPS.latitude', 'APPGPS.longitude',\n",
       "       'APPGPS.accuracy', 'APP.tip', 'APP.warning'],\n",
       "      dtype='object', length=186)"
      ]
     },
     "execution_count": 26,
     "metadata": {},
     "output_type": "execute_result"
    }
   ],
   "source": [
    "data.columns"
   ]
  },
  {
   "cell_type": "code",
   "execution_count": 27,
   "id": "0b1747d9",
   "metadata": {},
   "outputs": [
    {
     "data": {
      "text/plain": [
       "0       False\n",
       "1       False\n",
       "2       False\n",
       "3       False\n",
       "4       False\n",
       "        ...  \n",
       "7446     True\n",
       "7447     True\n",
       "7448     True\n",
       "7449     True\n",
       "7450     True\n",
       "Name: CAMERA.isVideo, Length: 7451, dtype: bool"
      ]
     },
     "execution_count": 27,
     "metadata": {},
     "output_type": "execute_result"
    }
   ],
   "source": [
    "data['CAMERA.isVideo']"
   ]
  },
  {
   "cell_type": "markdown",
   "id": "87d1c207",
   "metadata": {},
   "source": [
    "### Detect start of the video "
   ]
  },
  {
   "cell_type": "code",
   "execution_count": 7,
   "id": "fa9eea3d",
   "metadata": {},
   "outputs": [
    {
     "data": {
      "text/plain": [
       "1230"
      ]
     },
     "execution_count": 7,
     "metadata": {},
     "output_type": "execute_result"
    }
   ],
   "source": [
    "mask = np.where(data['CAMERA.isVideo'] == 1)\n",
    "idx_start = np.min(mask)\n",
    "idx_start"
   ]
  },
  {
   "cell_type": "code",
   "execution_count": 8,
   "id": "e81f910e",
   "metadata": {},
   "outputs": [
    {
     "data": {
      "text/plain": [
       "0       2/11/2024\n",
       "1       2/11/2024\n",
       "2       2/11/2024\n",
       "3       2/11/2024\n",
       "4       2/11/2024\n",
       "          ...    \n",
       "7446    2/11/2024\n",
       "7447    2/11/2024\n",
       "7448    2/11/2024\n",
       "7449    2/11/2024\n",
       "7450    2/11/2024\n",
       "Name: CUSTOM.date [local], Length: 7451, dtype: object"
      ]
     },
     "execution_count": 8,
     "metadata": {},
     "output_type": "execute_result"
    }
   ],
   "source": [
    "data['CUSTOM.date [local]']"
   ]
  },
  {
   "cell_type": "markdown",
   "id": "0c687e11",
   "metadata": {},
   "source": [
    "### Get relevant variables"
   ]
  },
  {
   "cell_type": "code",
   "execution_count": 108,
   "id": "c250b119",
   "metadata": {},
   "outputs": [
    {
     "name": "stdout",
     "output_type": "stream",
     "text": [
      "CUSTOM.date [local]\n",
      "2/11/2024\n",
      "2/11/2024\n",
      "CUSTOM.updateTime [local]\n",
      "3:28:48.53 PM\n",
      "OSD.latitude\n",
      "48.2517258135521\n",
      "OSD.longitude\n",
      "-70.0911424895404\n",
      "OSD.height [ft]\n",
      "49.2\n",
      "OSD.altitude [ft]\n",
      "49\n",
      "GIMBAL.pitch\n",
      "-90.0\n",
      "['20240211', '152848530', 48.2517258135521, -70.0911424895404, 49.2, 49, -90.0]\n"
     ]
    }
   ],
   "source": [
    "relevant_heads = ['CUSTOM.date [local]','CUSTOM.updateTime [local]','OSD.latitude','OSD.longitude','OSD.height [ft]','OSD.altitude [ft]','GIMBAL.pitch']\n",
    "\n",
    "line = []\n",
    "for head in relevant_heads :\n",
    "    \n",
    "    word = data[head][idx_start]\n",
    "    print(head)\n",
    "    print(word)\n",
    "    if head == 'CUSTOM.date [local]':\n",
    "        \n",
    "        word = convert_date(word)\n",
    "        \n",
    "    if head == 'CUSTOM.updateTime [local]':\n",
    "#         new_word = time.gmtime(word)\n",
    "#         print(new_word)\n",
    "        word = convert_time(word)\n",
    "    \n",
    "    line.append(word)\n",
    "    \n",
    "    \n",
    "print(line)\n",
    "\n"
   ]
  },
  {
   "cell_type": "code",
   "execution_count": 166,
   "id": "a4f1c538",
   "metadata": {},
   "outputs": [
    {
     "name": "stdout",
     "output_type": "stream",
     "text": [
      "152848530\n"
     ]
    }
   ],
   "source": [
    "date = line[ relevant_heads == 'CUSTOM.date [local]']\n",
    "\n",
    "mask = np.where( np.array(relevant_heads) == 'CUSTOM.date [local]')[0]\n",
    "date = line[mask[0]]\n",
    "\n",
    "mask = np.where( np.array(relevant_heads) == 'CUSTOM.updateTime [local]')[0]\n",
    "t = line[mask[0]]\n",
    "print(t)\n",
    "# date_formated = date + t\n",
    "# print(date_formated)\n",
    "\n",
    "# test = line[np.where(relevant_heads == 'CUSTOM.date [local]')]"
   ]
  },
  {
   "cell_type": "markdown",
   "id": "e77b2b3a",
   "metadata": {},
   "source": [
    "### Convert a date/time to UTC time"
   ]
  },
  {
   "cell_type": "code",
   "execution_count": 171,
   "id": "1bc2f8fd",
   "metadata": {
    "scrolled": true
   },
   "outputs": [
    {
     "name": "stdout",
     "output_type": "stream",
     "text": [
      "530\n",
      "20240211T202848530Z\n"
     ]
    }
   ],
   "source": [
    "UTC_start = convert_UTC(date,t)\n",
    "print(UTC_start)"
   ]
  },
  {
   "cell_type": "markdown",
   "id": "d86b9476",
   "metadata": {},
   "source": [
    "### Create line to write in the Timeline csv file "
   ]
  },
  {
   "cell_type": "code",
   "execution_count": 16,
   "id": "e921d13e",
   "metadata": {},
   "outputs": [],
   "source": [
    "header_0 = ['Instrument','','Temps','','Geometrie','','','Position','','','Texte','Variables','']\n",
    "header_1 = ['Index','Objet','T_0','T_F','X','Y','Z','Latitude','Longitude','Elevation','Commentaire','Facq','Theta']\n",
    "\n"
   ]
  },
  {
   "cell_type": "code",
   "execution_count": 175,
   "id": "ba8ccfd5",
   "metadata": {},
   "outputs": [
    {
     "name": "stdout",
     "output_type": "stream",
     "text": [
      "['', '', '20240211T202848530Z', '', '', '', '15.1536', 48.2517258135521, -70.0911424895404, '15.092', '', '30', -90.0]\n"
     ]
    }
   ],
   "source": [
    "Z = str(float(data['OSD.height [ft]'][idx_start])*0.308)\n",
    "latitude = data['OSD.latitude'][idx_start]\n",
    "longitude = data['OSD.longitude'][idx_start]\n",
    "elevation = str(float(data['OSD.altitude [ft]'][idx_start])*0.308)\n",
    "theta = data['GIMBAL.pitch'][idx_start]\n",
    "\n",
    "line_csv = ['','',UTC_start,'','','',Z,latitude,longitude,elevation,'','30',theta]\n",
    "print(line_csv)"
   ]
  },
  {
   "cell_type": "code",
   "execution_count": 172,
   "id": "ff109a9a",
   "metadata": {},
   "outputs": [
    {
     "name": "stdout",
     "output_type": "stream",
     "text": [
      "20.08\n"
     ]
    }
   ],
   "source": [
    "a = '20.08'\n",
    "b = float(a)\n",
    "print(b)"
   ]
  },
  {
   "cell_type": "code",
   "execution_count": null,
   "id": "395b3f47",
   "metadata": {},
   "outputs": [],
   "source": []
  },
  {
   "cell_type": "code",
   "execution_count": 67,
   "id": "2895660a",
   "metadata": {},
   "outputs": [
    {
     "name": "stdout",
     "output_type": "stream",
     "text": [
      "20240201\n"
     ]
    }
   ],
   "source": [
    "w = '02/01/2024'\n",
    "w_length = len(w)\n",
    "year = w[w_length - 4:]\n",
    "day = w[w_length - 7 : w_length - 5]\n",
    "\n",
    "if w_length == 10 :\n",
    "    month = w[:2]\n",
    "else :\n",
    "    month = '0' + w[0]\n",
    "\n",
    "f = year + month + day\n",
    "    \n",
    "print(f)"
   ]
  },
  {
   "cell_type": "code",
   "execution_count": 14,
   "id": "ca1765b5",
   "metadata": {},
   "outputs": [
    {
     "name": "stdout",
     "output_type": "stream",
     "text": [
      "2/11/2024\n",
      "530\n",
      "['', '', '20240211T202848530Z', '', '', '', 15.1536, 48.2517258135521, -70.0911424895404, 15.092, '', 30, -90.0]\n"
     ]
    }
   ],
   "source": [
    "facq = 30\n",
    "line_csv = get_timeline_row(data,idx_start,'',facq)\n",
    "\n",
    "print(line_csv)\n"
   ]
  },
  {
   "cell_type": "code",
   "execution_count": 18,
   "id": "188c01ea",
   "metadata": {},
   "outputs": [],
   "source": [
    "filename = 'G:/Rimouski_2024/Data/2024/0211/Drones/bernache/test.csv'\n",
    "\n",
    "\n",
    "with open(filename, 'w', newline=\"\") as file:\n",
    "    csvwriter = csv.writer(file) # 1. create a csvwriter object\n",
    "    csvwriter.writerow(header_0) # 2. write the header\n",
    "    csvwriter.writerow(header_1) # 3. write second header\n",
    "    csvwriter.writerow(line_csv) # 4. write data\n",
    "    \n",
    "    "
   ]
  },
  {
   "cell_type": "code",
   "execution_count": 161,
   "id": "b6ef46f7",
   "metadata": {},
   "outputs": [
    {
     "name": "stdout",
     "output_type": "stream",
     "text": [
      "time.struct_time(tm_year=2024, tm_mon=10, tm_mday=1, tm_hour=14, tm_min=2, tm_sec=3, tm_wday=1, tm_yday=275, tm_isdst=0)\n"
     ]
    }
   ],
   "source": [
    "# convert a time year, month, day, hour, min, sec, microsec to a timme in seconds since the epoch\n",
    "t = dt.datetime(2024,10,1,10,2,3).timestamp()\n",
    "\n",
    "# convert a time to UTC time \n",
    "UTC_t = time.gmtime(t)\n",
    "print(UTC_t)"
   ]
  },
  {
   "cell_type": "code",
   "execution_count": 162,
   "id": "1100e91f",
   "metadata": {},
   "outputs": [
    {
     "name": "stdout",
     "output_type": "stream",
     "text": [
      "1\n",
      "2\n",
      "3\n",
      "4\n",
      "5\n",
      "6\n",
      "7\n",
      "8\n",
      "9\n"
     ]
    }
   ],
   "source": [
    "for i in range(1,10):\n",
    "    print(i)"
   ]
  }
 ],
 "metadata": {
  "kernelspec": {
   "display_name": "Python 3 (ipykernel)",
   "language": "python",
   "name": "python3"
  },
  "language_info": {
   "codemirror_mode": {
    "name": "ipython",
    "version": 3
   },
   "file_extension": ".py",
   "mimetype": "text/x-python",
   "name": "python",
   "nbconvert_exporter": "python",
   "pygments_lexer": "ipython3",
   "version": "3.10.11"
  }
 },
 "nbformat": 4,
 "nbformat_minor": 5
}
