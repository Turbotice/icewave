{
 "cells": [
  {
   "cell_type": "code",
   "execution_count": 1,
   "metadata": {},
   "outputs": [],
   "source": [
    "%load_ext autoreload\n",
    "%autoreload 2\n",
    "%matplotlib inline"
   ]
  },
  {
   "cell_type": "code",
   "execution_count": 7,
   "metadata": {},
   "outputs": [],
   "source": [
    "import numpy as np\n",
    "import pylab as plt\n",
    "import glob\n",
    "import os\n",
    "\n",
    "import scipy.signal as sig\n",
    "from pprint import pprint"
   ]
  },
  {
   "cell_type": "code",
   "execution_count": 3,
   "metadata": {},
   "outputs": [],
   "source": [
    "import stephane.display.graphes as graphes\n",
    "import stephane.tools.Smath as smath\n",
    "\n",
    "import stephane.rimouski.geophones as geo"
   ]
  },
  {
   "cell_type": "code",
   "execution_count": 14,
   "metadata": {},
   "outputs": [
    {
     "name": "stdout",
     "output_type": "stream",
     "text": [
      "['Data']\n"
     ]
    }
   ],
   "source": [
    "date = '2023_0310'.split('_')\n",
    "\n",
    "base = '/Volumes/labshared2/SagWin2024/'\n",
    "datafolder = base+'Data/'\n",
    "#folder = base+date+'/'\n",
    "savefolder = base + '/Resultats/'\n",
    "\n",
    "if not os.path.isdir(savefolder):\n",
    "    os.makedirs(savefolder)\n",
    "    \n",
    "filelist = glob.glob(datafolder+'*/'+date[0]+'/'+date[1]+'/*')\n",
    "print(fil)\n",
    "instruments = list(set([filename.split(base)[1].split('/')[0] for filename in filelist]))\n",
    "pprint(instruments)"
   ]
  },
  {
   "cell_type": "code",
   "execution_count": 9,
   "metadata": {},
   "outputs": [
    {
     "name": "stdout",
     "output_type": "stream",
     "text": [
      "20230306\n",
      "['/Volumes/labshared2/Banquise/Rimouski_2023/Data/Geophones/20230306/230306_1600.105.txt', '/Volumes/labshared2/Banquise/Rimouski_2023/Data/Geophones/20230306/230306_1529.030.txt', '/Volumes/labshared2/Banquise/Rimouski_2023/Data/Geophones/20230306/230306_1555.104.txt', '/Volumes/labshared2/Banquise/Rimouski_2023/Data/Geophones/20230306/230306_1546.031.txt', '/Volumes/labshared2/Banquise/Rimouski_2023/Data/Geophones/20230306/230306_1622.107.txt', '/Volumes/labshared2/Banquise/Rimouski_2023/Data/Geophones/20230306/230306_1644.032.txt', '/Volumes/labshared2/Banquise/Rimouski_2023/Data/Geophones/20230306/230306_1626.108.txt', '/Volumes/labshared2/Banquise/Rimouski_2023/Data/Geophones/20230306/230306_1700.033.txt', '/Volumes/labshared2/Banquise/Rimouski_2023/Data/Geophones/20230306/230306_1604.106.txt']\n",
      "20230309\n",
      "['/Volumes/labshared2/Banquise/Rimouski_2023/Data/Geophones/20230309/230309_1432.040.txt', '/Volumes/labshared2/Banquise/Rimouski_2023/Data/Geophones/20230309/230309_1512.044.txt', '/Volumes/labshared2/Banquise/Rimouski_2023/Data/Geophones/20230309/230309_1454.042.txt', '/Volumes/labshared2/Banquise/Rimouski_2023/Data/Geophones/20230309/230309_1449.041.txt', '/Volumes/labshared2/Banquise/Rimouski_2023/Data/Geophones/20230309/230309_1500.043.txt', '/Volumes/labshared2/Banquise/Rimouski_2023/Data/Geophones/20230309/230309_1522.045.txt']\n",
      "20230310\n",
      "['/Volumes/labshared2/Banquise/Rimouski_2023/Data/Geophones/20230310/230310_1522.109.txt']\n",
      "20230313\n",
      "['/Volumes/labshared2/Banquise/Rimouski_2023/Data/Geophones/20230313/230313_1446.110.txt', '/Volumes/labshared2/Banquise/Rimouski_2023/Data/Geophones/20230313/230313_1800.049.txt', '/Volumes/labshared2/Banquise/Rimouski_2023/Data/Geophones/20230313/230313_1714.048.txt', '/Volumes/labshared2/Banquise/Rimouski_2023/Data/Geophones/20230313/230313_1535.047.txt', '/Volumes/labshared2/Banquise/Rimouski_2023/Data/Geophones/20230313/230313_1511.046.txt', '/Volumes/labshared2/Banquise/Rimouski_2023/Data/Geophones/20230313/230313_1820.050.txt']\n",
      "20230228\n",
      "['/Volumes/labshared2/Banquise/Rimouski_2023/Data/Geophones/20230228/230228_1624.010.txt']\n",
      "20230307\n",
      "['/Volumes/labshared2/Banquise/Rimouski_2023/Data/Geophones/20230307/230307_1619.039.txt', '/Volumes/labshared2/Banquise/Rimouski_2023/Data/Geophones/20230307/230307_1602.037.txt', '/Volumes/labshared2/Banquise/Rimouski_2023/Data/Geophones/20230307/230307_1616.038.txt', '/Volumes/labshared2/Banquise/Rimouski_2023/Data/Geophones/20230307/230307_1431.035.txt', '/Volumes/labshared2/Banquise/Rimouski_2023/Data/Geophones/20230307/230307_1416.034.txt', '/Volumes/labshared2/Banquise/Rimouski_2023/Data/Geophones/20230307/230307_1453.036.txt']\n"
     ]
    }
   ],
   "source": [
    "for filename in glob.glob(base+'*'):\n",
    "    print(os.path.basename(filename))\n",
    "    print(glob.glob(filename+'/*.txt'))"
   ]
  },
  {
   "cell_type": "code",
   "execution_count": 12,
   "metadata": {},
   "outputs": [
    {
     "name": "stdout",
     "output_type": "stream",
     "text": [
      "20\n",
      "DJI_0228.MOV\n",
      "DJI_0229.MOV\n",
      "DJI_0306.MOV\n",
      "DJI_0404.MOV\n",
      "DJI_0403.MOV\n",
      "DJI_0307.MOV\n",
      "DJI_0401.MOV\n",
      "DJI_0308.MOV\n",
      "DJI_0309.MOV\n",
      "DJI_0402.MOV\n",
      "DJI_0932.MOV\n",
      "DJI_0856.MOV\n",
      "DJI_0849.MOV\n",
      "DJI_0931.MOV\n",
      "DJI_0231.MP4\n",
      "DJI_0232.MP4\n",
      "DJI_0229.MP4\n",
      "DJI_0234.MP4\n",
      "DJI_0230.MP4\n",
      "DJI_0233.MP4\n",
      "/Volumes/labshared2/Banquise/Rimouski_2023/Data/drone/20230308/contexte/video\n",
      "(2160, 3840, 3)\n",
      "/Volumes/labshared2/Banquise/Rimouski_2023/Data/drone/20230308/contexte/video\n",
      "(2160, 3840, 3)\n",
      "/Volumes/labshared2/Banquise/Rimouski_2023/Data/drone/20230310/contexte/video\n"
     ]
    },
    {
     "ename": "KeyboardInterrupt",
     "evalue": "",
     "output_type": "error",
     "traceback": [
      "\u001b[0;31m---------------------------------------------------------------------------\u001b[0m",
      "\u001b[0;31mKeyboardInterrupt\u001b[0m                         Traceback (most recent call last)",
      "\u001b[0;32m<ipython-input-12-4c4e1e8812e3>\u001b[0m in \u001b[0;36m<module>\u001b[0;34m\u001b[0m\n\u001b[1;32m     23\u001b[0m \u001b[0;34m\u001b[0m\u001b[0m\n\u001b[1;32m     24\u001b[0m     \u001b[0;32mfor\u001b[0m \u001b[0mnum\u001b[0m \u001b[0;32min\u001b[0m \u001b[0mnums\u001b[0m\u001b[0;34m[\u001b[0m\u001b[0;34m:\u001b[0m\u001b[0;36m1\u001b[0m\u001b[0;34m]\u001b[0m\u001b[0;34m:\u001b[0m\u001b[0;34m\u001b[0m\u001b[0;34m\u001b[0m\u001b[0m\n\u001b[0;32m---> 25\u001b[0;31m         \u001b[0mimage\u001b[0m \u001b[0;34m=\u001b[0m \u001b[0mvid\u001b[0m\u001b[0;34m.\u001b[0m\u001b[0mget_data\u001b[0m\u001b[0;34m(\u001b[0m\u001b[0mnum\u001b[0m\u001b[0;34m)\u001b[0m\u001b[0;34m\u001b[0m\u001b[0;34m\u001b[0m\u001b[0m\n\u001b[0m\u001b[1;32m     26\u001b[0m         \u001b[0mprint\u001b[0m\u001b[0;34m(\u001b[0m\u001b[0mimage\u001b[0m\u001b[0;34m.\u001b[0m\u001b[0mshape\u001b[0m\u001b[0;34m)\u001b[0m\u001b[0;34m\u001b[0m\u001b[0;34m\u001b[0m\u001b[0m\n\u001b[1;32m     27\u001b[0m \u001b[0;34m\u001b[0m\u001b[0m\n",
      "\u001b[0;32m/Library/Frameworks/Python.framework/Versions/3.7/lib/python3.7/site-packages/imageio-2.5.0-py3.7.egg/imageio/core/format.py\u001b[0m in \u001b[0;36mget_data\u001b[0;34m(self, index, **kwargs)\u001b[0m\n\u001b[1;32m    337\u001b[0m             \u001b[0mself\u001b[0m\u001b[0;34m.\u001b[0m\u001b[0m_BaseReaderWriter_last_index\u001b[0m \u001b[0;34m=\u001b[0m \u001b[0mindex\u001b[0m\u001b[0;34m\u001b[0m\u001b[0;34m\u001b[0m\u001b[0m\n\u001b[1;32m    338\u001b[0m             \u001b[0;32mtry\u001b[0m\u001b[0;34m:\u001b[0m\u001b[0;34m\u001b[0m\u001b[0;34m\u001b[0m\u001b[0m\n\u001b[0;32m--> 339\u001b[0;31m                 \u001b[0mim\u001b[0m\u001b[0;34m,\u001b[0m \u001b[0mmeta\u001b[0m \u001b[0;34m=\u001b[0m \u001b[0mself\u001b[0m\u001b[0;34m.\u001b[0m\u001b[0m_get_data\u001b[0m\u001b[0;34m(\u001b[0m\u001b[0mindex\u001b[0m\u001b[0;34m,\u001b[0m \u001b[0;34m**\u001b[0m\u001b[0mkwargs\u001b[0m\u001b[0;34m)\u001b[0m\u001b[0;34m\u001b[0m\u001b[0;34m\u001b[0m\u001b[0m\n\u001b[0m\u001b[1;32m    340\u001b[0m             \u001b[0;32mexcept\u001b[0m \u001b[0mStopIteration\u001b[0m\u001b[0;34m:\u001b[0m\u001b[0;34m\u001b[0m\u001b[0;34m\u001b[0m\u001b[0m\n\u001b[1;32m    341\u001b[0m                 \u001b[0;32mraise\u001b[0m \u001b[0mIndexError\u001b[0m\u001b[0;34m(\u001b[0m\u001b[0mindex\u001b[0m\u001b[0;34m)\u001b[0m\u001b[0;34m\u001b[0m\u001b[0;34m\u001b[0m\u001b[0m\n",
      "\u001b[0;32m/Library/Frameworks/Python.framework/Versions/3.7/lib/python3.7/site-packages/imageio-2.5.0-py3.7.egg/imageio/plugins/ffmpeg.py\u001b[0m in \u001b[0;36m_get_data\u001b[0;34m(self, index)\u001b[0m\n\u001b[1;32m    380\u001b[0m                     \u001b[0mself\u001b[0m\u001b[0;34m.\u001b[0m\u001b[0m_initialize\u001b[0m\u001b[0;34m(\u001b[0m\u001b[0mindex\u001b[0m\u001b[0;34m)\u001b[0m\u001b[0;34m\u001b[0m\u001b[0;34m\u001b[0m\u001b[0m\n\u001b[1;32m    381\u001b[0m                 \u001b[0;32melse\u001b[0m\u001b[0;34m:\u001b[0m\u001b[0;34m\u001b[0m\u001b[0;34m\u001b[0m\u001b[0m\n\u001b[0;32m--> 382\u001b[0;31m                     \u001b[0mself\u001b[0m\u001b[0;34m.\u001b[0m\u001b[0m_skip_frames\u001b[0m\u001b[0;34m(\u001b[0m\u001b[0mindex\u001b[0m \u001b[0;34m-\u001b[0m \u001b[0mself\u001b[0m\u001b[0;34m.\u001b[0m\u001b[0m_pos\u001b[0m \u001b[0;34m-\u001b[0m \u001b[0;36m1\u001b[0m\u001b[0;34m)\u001b[0m\u001b[0;34m\u001b[0m\u001b[0;34m\u001b[0m\u001b[0m\n\u001b[0m\u001b[1;32m    383\u001b[0m                 \u001b[0mresult\u001b[0m\u001b[0;34m,\u001b[0m \u001b[0mis_new\u001b[0m \u001b[0;34m=\u001b[0m \u001b[0mself\u001b[0m\u001b[0;34m.\u001b[0m\u001b[0m_read_frame\u001b[0m\u001b[0;34m(\u001b[0m\u001b[0;34m)\u001b[0m\u001b[0;34m\u001b[0m\u001b[0;34m\u001b[0m\u001b[0m\n\u001b[1;32m    384\u001b[0m                 \u001b[0mself\u001b[0m\u001b[0;34m.\u001b[0m\u001b[0m_pos\u001b[0m \u001b[0;34m=\u001b[0m \u001b[0mindex\u001b[0m\u001b[0;34m\u001b[0m\u001b[0;34m\u001b[0m\u001b[0m\n",
      "\u001b[0;32m/Library/Frameworks/Python.framework/Versions/3.7/lib/python3.7/site-packages/imageio-2.5.0-py3.7.egg/imageio/plugins/ffmpeg.py\u001b[0m in \u001b[0;36m_skip_frames\u001b[0;34m(self, n)\u001b[0m\n\u001b[1;32m    470\u001b[0m             \u001b[0;34m\"\"\" Reads and throws away n frames \"\"\"\u001b[0m\u001b[0;34m\u001b[0m\u001b[0;34m\u001b[0m\u001b[0m\n\u001b[1;32m    471\u001b[0m             \u001b[0;32mfor\u001b[0m \u001b[0mi\u001b[0m \u001b[0;32min\u001b[0m \u001b[0mrange\u001b[0m\u001b[0;34m(\u001b[0m\u001b[0mn\u001b[0m\u001b[0;34m)\u001b[0m\u001b[0;34m:\u001b[0m\u001b[0;34m\u001b[0m\u001b[0;34m\u001b[0m\u001b[0m\n\u001b[0;32m--> 472\u001b[0;31m                 \u001b[0mself\u001b[0m\u001b[0;34m.\u001b[0m\u001b[0m_read_gen\u001b[0m\u001b[0;34m.\u001b[0m\u001b[0m__next__\u001b[0m\u001b[0;34m(\u001b[0m\u001b[0;34m)\u001b[0m\u001b[0;34m\u001b[0m\u001b[0;34m\u001b[0m\u001b[0m\n\u001b[0m\u001b[1;32m    473\u001b[0m             \u001b[0mself\u001b[0m\u001b[0;34m.\u001b[0m\u001b[0m_pos\u001b[0m \u001b[0;34m+=\u001b[0m \u001b[0mn\u001b[0m\u001b[0;34m\u001b[0m\u001b[0;34m\u001b[0m\u001b[0m\n\u001b[1;32m    474\u001b[0m \u001b[0;34m\u001b[0m\u001b[0m\n",
      "\u001b[0;32m/Library/Frameworks/Python.framework/Versions/3.7/lib/python3.7/site-packages/imageio_ffmpeg/_io.py\u001b[0m in \u001b[0;36mread_frames\u001b[0;34m(path, pix_fmt, bpp, input_params, output_params, bits_per_pixel)\u001b[0m\n\u001b[1;32m    318\u001b[0m                 \u001b[0mbb\u001b[0m \u001b[0;34m=\u001b[0m \u001b[0mbytes\u001b[0m\u001b[0;34m(\u001b[0m\u001b[0;34m)\u001b[0m\u001b[0;34m\u001b[0m\u001b[0;34m\u001b[0m\u001b[0m\n\u001b[1;32m    319\u001b[0m                 \u001b[0;32mwhile\u001b[0m \u001b[0mlen\u001b[0m\u001b[0;34m(\u001b[0m\u001b[0mbb\u001b[0m\u001b[0;34m)\u001b[0m \u001b[0;34m<\u001b[0m \u001b[0mframesize_bytes\u001b[0m\u001b[0;34m:\u001b[0m\u001b[0;34m\u001b[0m\u001b[0;34m\u001b[0m\u001b[0m\n\u001b[0;32m--> 320\u001b[0;31m                     \u001b[0mextra_bytes\u001b[0m \u001b[0;34m=\u001b[0m \u001b[0mp\u001b[0m\u001b[0;34m.\u001b[0m\u001b[0mstdout\u001b[0m\u001b[0;34m.\u001b[0m\u001b[0mread\u001b[0m\u001b[0;34m(\u001b[0m\u001b[0mframesize_bytes\u001b[0m \u001b[0;34m-\u001b[0m \u001b[0mlen\u001b[0m\u001b[0;34m(\u001b[0m\u001b[0mbb\u001b[0m\u001b[0;34m)\u001b[0m\u001b[0;34m)\u001b[0m\u001b[0;34m\u001b[0m\u001b[0;34m\u001b[0m\u001b[0m\n\u001b[0m\u001b[1;32m    321\u001b[0m                     \u001b[0;32mif\u001b[0m \u001b[0;32mnot\u001b[0m \u001b[0mextra_bytes\u001b[0m\u001b[0;34m:\u001b[0m\u001b[0;34m\u001b[0m\u001b[0;34m\u001b[0m\u001b[0m\n\u001b[1;32m    322\u001b[0m                         \u001b[0;32mif\u001b[0m \u001b[0mlen\u001b[0m\u001b[0;34m(\u001b[0m\u001b[0mbb\u001b[0m\u001b[0;34m)\u001b[0m \u001b[0;34m==\u001b[0m \u001b[0;36m0\u001b[0m\u001b[0;34m:\u001b[0m\u001b[0;34m\u001b[0m\u001b[0;34m\u001b[0m\u001b[0m\n",
      "\u001b[0;31mKeyboardInterrupt\u001b[0m: "
     ]
    }
   ],
   "source": [
    "import glob\n",
    "import pylab\n",
    "import imageio\n",
    "\n",
    "datafolder = '/Volumes/labshared2/Banquise/Rimouski_2023/Data/drone/'\n",
    "\n",
    "file_mov = glob.glob(datafolder+'*/contexte/video/*.MOV')\n",
    "file_mp4 = glob.glob(datafolder+'*/contexte/video/*.MP4')\n",
    "\n",
    "filelist = file_mov+file_mp4\n",
    "print(len(filelist))\n",
    "\n",
    "\n",
    "for filename in file_mov+file_mp4:\n",
    "    print(os.path.basename(filename))\n",
    "\n",
    "\n",
    "for filename in filelist:\n",
    "    vid = imageio.get_reader(filename,  'ffmpeg')\n",
    "    nums = [10]\n",
    "    directory = os.path.dirname(filename)\n",
    "    print(directory)\n",
    "    \n",
    "    for num in nums[:1]:\n",
    "        image = vid.get_data(num)\n",
    "        print(image.shape)\n",
    "        \n",
    "#        fig = pylab.figure()\n",
    "#        fig.suptitle('image #{}'.format(num), fontsize=20)\n",
    "#        pylab.imshow(image)\n",
    "#    pylab.show()\n"
   ]
  },
  {
   "cell_type": "code",
   "execution_count": 17,
   "metadata": {},
   "outputs": [],
   "source": [
    "if not os.path.isdir(savefolder):\n",
    "    os.makedirs(savefolder)"
   ]
  },
  {
   "cell_type": "code",
   "execution_count": 19,
   "metadata": {},
   "outputs": [
    {
     "name": "stdout",
     "output_type": "stream",
     "text": [
      "/Volumes/labshared2/Banquise/Rimouski_2023/Data/Geophones/20230313/Resultats/\n"
     ]
    }
   ],
   "source": [
    "import cv2\n",
    "print(savefolder)"
   ]
  },
  {
   "cell_type": "code",
   "execution_count": 18,
   "metadata": {},
   "outputs": [
    {
     "data": {
      "text/plain": [
       "True"
      ]
     },
     "execution_count": 18,
     "metadata": {},
     "output_type": "execute_result"
    }
   ],
   "source": [
    "cv2.imwrite(savefolder+'im_exemple.tiff', image)"
   ]
  },
  {
   "cell_type": "code",
   "execution_count": null,
   "metadata": {},
   "outputs": [],
   "source": []
  }
 ],
 "metadata": {
  "kernelspec": {
   "display_name": "Python 3",
   "language": "python",
   "name": "python3"
  },
  "language_info": {
   "codemirror_mode": {
    "name": "ipython",
    "version": 3
   },
   "file_extension": ".py",
   "mimetype": "text/x-python",
   "name": "python",
   "nbconvert_exporter": "python",
   "pygments_lexer": "ipython3",
   "version": "3.7.1"
  }
 },
 "nbformat": 4,
 "nbformat_minor": 2
}
