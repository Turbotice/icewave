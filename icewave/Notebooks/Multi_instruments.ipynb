{
 "cells": [
  {
   "cell_type": "code",
   "execution_count": 1,
   "metadata": {},
   "outputs": [],
   "source": [
    "%load_ext autoreload\n",
    "%autoreload 2\n",
    "%matplotlib inline"
   ]
  },
  {
   "cell_type": "code",
   "execution_count": 7,
   "metadata": {},
   "outputs": [],
   "source": [
    "import numpy as np\n",
    "import pylab as plt\n",
    "import glob\n",
    "import os\n",
    "\n",
    "import scipy.signal as sig\n",
    "from pprint import pprint"
   ]
  },
  {
   "cell_type": "code",
   "execution_count": 3,
   "metadata": {},
   "outputs": [],
   "source": [
    "import stephane.display.graphes as graphes\n",
    "import stephane.tools.Smath as smath\n",
    "\n",
    "import stephane.rimouski.geophones as geo"
   ]
  },
  {
   "cell_type": "code",
   "execution_count": 21,
   "metadata": {},
   "outputs": [
    {
     "name": "stdout",
     "output_type": "stream",
     "text": [
      "['Geophones', 'Buoys', 'GPS', 'Drone']\n"
     ]
    }
   ],
   "source": [
    "date = '2023_0310'.split('_')\n",
    "\n",
    "base = '/Volumes/labshared2/SagWin2024/'\n",
    "datafolder = base+'Data/'\n",
    "#folder = base+date+'/'\n",
    "savefolder = base + '/Resultats/'\n",
    "\n",
    "if not os.path.isdir(savefolder):\n",
    "    os.makedirs(savefolder)\n",
    "    \n",
    "filelist = glob.glob(datafolder+'*/'+date[0]+'/'+date[1]+'/0*_*')\n",
    "filelist = glob.glob(datafolder+'*/'+date[0]+'/'+date[1]+'/*')\n",
    "\n",
    "#pprint(filelist)\n",
    "instruments = list(set([filename.split(datafolder)[1].split('/')[0] for filename in filelist]))\n",
    "pprint(instruments)"
   ]
  },
  {
   "cell_type": "code",
   "execution_count": null,
   "metadata": {},
   "outputs": [],
   "source": []
  },
  {
   "cell_type": "code",
   "execution_count": null,
   "metadata": {},
   "outputs": [],
   "source": []
  },
  {
   "cell_type": "code",
   "execution_count": null,
   "metadata": {},
   "outputs": [],
   "source": []
  },
  {
   "cell_type": "code",
   "execution_count": null,
   "metadata": {},
   "outputs": [],
   "source": []
  },
  {
   "cell_type": "code",
   "execution_count": null,
   "metadata": {},
   "outputs": [],
   "source": []
  },
  {
   "cell_type": "code",
   "execution_count": null,
   "metadata": {},
   "outputs": [],
   "source": []
  }
 ],
 "metadata": {
  "kernelspec": {
   "display_name": "Python 3",
   "language": "python",
   "name": "python3"
  },
  "language_info": {
   "codemirror_mode": {
    "name": "ipython",
    "version": 3
   },
   "file_extension": ".py",
   "mimetype": "text/x-python",
   "name": "python",
   "nbconvert_exporter": "python",
   "pygments_lexer": "ipython3",
   "version": "3.7.1"
  }
 },
 "nbformat": 4,
 "nbformat_minor": 2
}
