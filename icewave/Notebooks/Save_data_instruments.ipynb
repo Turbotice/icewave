{
 "cells": [
  {
   "cell_type": "code",
   "execution_count": 1,
   "id": "448b8213",
   "metadata": {},
   "outputs": [],
   "source": [
    "%load_ext autoreload\n",
    "%autoreload 2\n",
    "%matplotlib inline"
   ]
  },
  {
   "cell_type": "code",
   "execution_count": 2,
   "id": "9c805242",
   "metadata": {},
   "outputs": [],
   "source": [
    "import icewave.tools.datafolders as df\n",
    "import os\n",
    "import glob"
   ]
  },
  {
   "cell_type": "code",
   "execution_count": 3,
   "id": "2671c45f",
   "metadata": {},
   "outputs": [
    {
     "name": "stdout",
     "output_type": "stream",
     "text": [
      "OS type : Linux\n",
      "Computer name : oural\n",
      "2024_0204\n",
      "2024 0204\n"
     ]
    },
    {
     "data": {
      "text/plain": [
       "'/home/turbots/Documents/Bicwin2024/Data/2024/0204/Geophones'"
      ]
     },
     "execution_count": 3,
     "metadata": {},
     "output_type": "execute_result"
    }
   ],
   "source": [
    "df.instrument_folder()"
   ]
  },
  {
   "cell_type": "code",
   "execution_count": 4,
   "id": "03873098",
   "metadata": {},
   "outputs": [
    {
     "name": "stdout",
     "output_type": "stream",
     "text": [
      "Please install garmin and fitdecode package\n"
     ]
    }
   ],
   "source": [
    "import icewave.gps.garmin as gar"
   ]
  },
  {
   "cell_type": "code",
   "execution_count": 114,
   "id": "f7ee6766",
   "metadata": {},
   "outputs": [],
   "source": [
    "import icewave.tools.datafolders as df"
   ]
  },
  {
   "cell_type": "code",
   "execution_count": 144,
   "id": "ddae84dc",
   "metadata": {},
   "outputs": [
    {
     "name": "stdout",
     "output_type": "stream",
     "text": [
      "80 RZ8T805210W\n",
      "RZ8T805210W\n",
      "time.struct_time(tm_year=2024, tm_mon=2, tm_mday=4, tm_hour=18, tm_min=5, tm_sec=8, tm_wday=6, tm_yday=35, tm_isdst=0)\n",
      "2024 0204\n",
      "OS type : Linux\n",
      "Computer name : oural\n",
      "time.struct_time(tm_year=2024, tm_mon=2, tm_mday=4, tm_hour=18, tm_min=5, tm_sec=8, tm_wday=6, tm_yday=35, tm_isdst=0)\n",
      "Warning, /home/turbots/Documents/Bicwin2024/Data/2024/0204/Telephones/0000/T80 does not exist. Do you want to create it ?\n",
      "storage/self/primary/Acclration avec g 2024-02-04 17-59-30 /home/turbots/Documents/Bicwin2024/Data/2024/0204/Telephones/0000/T80\n",
      "storage/self/primary/Acclration avec g 2024-02-04 17-59-30/: 3 files pulled. 2.9 MB/s (223146 bytes in 0.075s)\n",
      "None\n"
     ]
    }
   ],
   "source": [
    "import icewave.field.save_data as save\n",
    "\n",
    "folderlist = ls.download(folder='storage/self/primary/')\n",
    "pprint(folderlist)\n"
   ]
  },
  {
   "cell_type": "code",
   "execution_count": 15,
   "id": "167ac48b",
   "metadata": {},
   "outputs": [
    {
     "name": "stdout",
     "output_type": "stream",
     "text": [
      "2024_0204\n",
      "2024 0204\n",
      "['/media/turbots/GARMIN/Garmin/Activities/2024-02-04 00.11.26.fit']\n",
      "['/media/turbots/GARMIN/Garmin/GPX/Waypoints_2024-02-04.gpx']\n"
     ]
    },
    {
     "data": {
      "text/plain": [
       "(['/media/turbots/GARMIN/Garmin/Activities/2024-02-04 00.11.26.fit'],\n",
       " ['/media/turbots/GARMIN/Garmin/GPX/Waypoints_2024-02-04.gpx'])"
      ]
     },
     "execution_count": 15,
     "metadata": {},
     "output_type": "execute_result"
    }
   ],
   "source": [
    "gar.ls_date()"
   ]
  },
  {
   "cell_type": "code",
   "execution_count": 25,
   "id": "af7b3d2d",
   "metadata": {},
   "outputs": [
    {
     "name": "stdout",
     "output_type": "stream",
     "text": [
      "Please install garmin and fitdecode package\n",
      "2024_0204\n",
      "2024 0204\n",
      "['/media/turbots/GARMIN/Garmin/Activities/2024-02-04 00.11.26.fit']\n",
      "['/media/turbots/GARMIN/Garmin/GPX/Waypoints_2024-02-04.gpx']\n",
      "OS type : Linux\n",
      "Computer name : oural\n",
      "2024_0204\n",
      "2024 0204\n",
      "/home/turbots/Documents/Bicwin2024/Data/2024/0204/GPS/\n",
      "/media/turbots/GARMIN/Garmin/Activities/2024-02-04 00.11.26.fit /home/turbots/Documents/Bicwin2024/Data/2024/0204/GPS/0000_2024-02-04 00_11_26.fit\n",
      "/media/turbots/GARMIN/Garmin/GPX/Waypoints_2024-02-04.gpx /home/turbots/Documents/Bicwin2024/Data/2024/0204/GPS/1000_Waypoints_2024-02-04.gpx\n"
     ]
    }
   ],
   "source": [
    "gar.download()"
   ]
  },
  {
   "cell_type": "code",
   "execution_count": 26,
   "id": "e242e882",
   "metadata": {},
   "outputs": [],
   "source": [
    "import icewave.pyphone_v2.connect as connect"
   ]
  },
  {
   "cell_type": "code",
   "execution_count": 57,
   "id": "a8b06e10",
   "metadata": {},
   "outputs": [
    {
     "name": "stdout",
     "output_type": "stream",
     "text": [
      "68982cdc0611\n",
      "['68982cdc0611']\n",
      "0 68982cdc0611\n"
     ]
    }
   ],
   "source": [
    "connected = connect.connected()\n",
    "print(connected)\n",
    "phone = connect.identify(connected[0])\n",
    "id = connected[0]\n",
    "print(phone,id)"
   ]
  },
  {
   "cell_type": "code",
   "execution_count": 105,
   "id": "ad45bad6",
   "metadata": {},
   "outputs": [
    {
     "name": "stdout",
     "output_type": "stream",
     "text": [
      "0 68982cdc0611\n",
      "{0: '68982cdc0611'}\n",
      "68982cdc0611\n",
      "['Accelero_Gyro_Magneto_GPS 2024-01-21 14-34-07.xls',\n",
      " 'Accelero_Gyro_Magneto_GPS 2024-01-21 14-39-05.xls',\n",
      " 'Accelero_Gyro_Magneto_GPS 2024-02-04 16-47-45',\n",
      " 'Accelero_Gyro_Magneto_GPS 2024-02-04 16-56-13',\n",
      " \"'\"]\n"
     ]
    }
   ],
   "source": [
    "import numpy as np\n",
    "from pprint import pprint\n",
    "import icewave.pyphone_v2.ls_phone as ls\n",
    "\n",
    "pprint(ls.ls_all(folder='storage/self/primary/phyphox/'))"
   ]
  },
  {
   "cell_type": "code",
   "execution_count": 82,
   "id": "748fc974",
   "metadata": {},
   "outputs": [
    {
     "name": "stdout",
     "output_type": "stream",
     "text": [
      "b'acct\\napex\\nbin\\nbugreports\\ncache\\nconfig\\ncust\\nd\\ndata\\ndata_mirror\\ndebug_ramdisk\\ndefault.prop\\ndev\\netc\\ninit\\ninit.environ.rc\\ninit.exaid.hardware.rc\\ninit.mishow.ctl.rc\\ninit.miui.cust.rc\\ninit.miui.early_boot.sh\\ninit.miui.google_revenue_share.rc\\ninit.miui.nativedebug.rc\\ninit.miui.perf_init.rc\\ninit.miui.post_boot.sh\\ninit.miui.qadaemon.rc\\ninit.miui.rc\\ninit.recovery.hardware.rc\\nlinkerconfig\\nlost+found\\nmetadata\\nmnt\\nodm\\noem\\npostinstall\\nproc\\nproduct\\nsdcard\\nstorage\\nsys\\nsystem\\nsystem_ext\\nvendor\\nverity_key\\n'\n"
     ]
    }
   ],
   "source": [
    "import subprocess\n",
    "\n",
    "output = subprocess.run(['adb','shell','ls'],stdout=subprocess.PIPE)\n",
    "print(output.stdout)"
   ]
  },
  {
   "cell_type": "code",
   "execution_count": null,
   "id": "ff5be447",
   "metadata": {},
   "outputs": [],
   "source": []
  }
 ],
 "metadata": {
  "kernelspec": {
   "display_name": "Python 3 (ipykernel)",
   "language": "python",
   "name": "python3"
  },
  "language_info": {
   "codemirror_mode": {
    "name": "ipython",
    "version": 3
   },
   "file_extension": ".py",
   "mimetype": "text/x-python",
   "name": "python",
   "nbconvert_exporter": "python",
   "pygments_lexer": "ipython3",
   "version": "3.11.4"
  }
 },
 "nbformat": 4,
 "nbformat_minor": 5
}
