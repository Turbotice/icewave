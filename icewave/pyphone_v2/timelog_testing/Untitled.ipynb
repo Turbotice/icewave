{
 "cells": [
  {
   "cell_type": "code",
   "execution_count": 2,
   "id": "0f924a6c",
   "metadata": {},
   "outputs": [
    {
     "name": "stdout",
     "output_type": "stream",
     "text": [
      "CompletedProcess(args=['adb', '-s', '192.168.1.100', 'shell', 'dumpsys', 'battery'], returncode=0, stdout=b'Current Battery Service state:\\n  AC powered: false\\n  USB powered: false\\n  Wireless powered: false\\n  Max charging current: 0\\n  Max charging voltage: 0\\n  Charge counter: 3112400\\n  status: 3\\n  health: 2\\n  present: true\\n  level: 62\\n  scale: 100\\n  voltage: 3918\\n  temperature: 265\\n  technology: Li-poly\\n')\n"
     ]
    }
   ],
   "source": [
    "import subprocess\n",
    "\n",
    "ip = '192.168.1.100'\n",
    "output = subprocess.run(['adb','-s',ip,'shell','dumpsys','battery'],stdout=subprocess.PIPE)\n",
    "print(output)"
   ]
  },
  {
   "cell_type": "code",
   "execution_count": 24,
   "id": "f2fb8937",
   "metadata": {},
   "outputs": [
    {
     "name": "stdout",
     "output_type": "stream",
     "text": [
      "['List of devices attached',\n",
      " '192.168.1.100:5500\\tdevice',\n",
      " '192.168.1.111:5511\\tdevice',\n",
      " '192.168.1.125:5525\\tdevice',\n",
      " '',\n",
      " '']\n"
     ]
    }
   ],
   "source": [
    "c=subprocess.run(['adb','devices'],text=True,capture_output=True)\n",
    "from pprint import pprint\n",
    "pprint(c.stdout.split('\\n'))"
   ]
  },
  {
   "cell_type": "code",
   "execution_count": 30,
   "id": "e6feeb82",
   "metadata": {},
   "outputs": [
    {
     "name": "stdout",
     "output_type": "stream",
     "text": [
      "CompletedProcess(args=['/system/bin/bash', 'echo', '$EPOCHREALTIME'], returncode=127)\n"
     ]
    },
    {
     "name": "stderr",
     "output_type": "stream",
     "text": [
      "echo: 1: /system/bin/bash: not found\n"
     ]
    }
   ],
   "source": [
    "#output = subprocess.run(['adb','-s',ip,'shell','dumpsys','battery'],stdout=subprocess.PIPE)\n",
    "#output = subprocess.run(['adb','-s',ip,'shell','dumpsys','battery'],stdout=subprocess.PIPE)\n",
    "output = subprocess.run(['/system/bin/bash','echo','$EPOCHREALTIME'],shell=True)\n",
    "print(output)#,&& adb -s 192.168.1.100:5500 shell /system/bin/time -p echo \\$EPOCHREALTIME && echo $EPOCHREALTIME)']) "
   ]
  },
  {
   "cell_type": "code",
   "execution_count": 9,
   "id": "17c32e4f",
   "metadata": {},
   "outputs": [
    {
     "name": "stdout",
     "output_type": "stream",
     "text": [
      "CompletedProcess(args=['echo', '$EPOCHREALTIME'], returncode=0, stdout='\\n', stderr='')\n"
     ]
    }
   ],
   "source": [
    "print(output)"
   ]
  },
  {
   "cell_type": "code",
   "execution_count": null,
   "id": "c3089d43",
   "metadata": {},
   "outputs": [],
   "source": []
  }
 ],
 "metadata": {
  "kernelspec": {
   "display_name": "Python 3 (ipykernel)",
   "language": "python",
   "name": "python3"
  },
  "language_info": {
   "codemirror_mode": {
    "name": "ipython",
    "version": 3
   },
   "file_extension": ".py",
   "mimetype": "text/x-python",
   "name": "python",
   "nbconvert_exporter": "python",
   "pygments_lexer": "ipython3",
   "version": "3.11.4"
  }
 },
 "nbformat": 4,
 "nbformat_minor": 5
}
