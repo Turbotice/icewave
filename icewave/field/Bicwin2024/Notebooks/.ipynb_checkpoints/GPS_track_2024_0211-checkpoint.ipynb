{
 "cells": [
  {
   "cell_type": "code",
   "execution_count": 1,
   "metadata": {},
   "outputs": [],
   "source": [
    "%load_ext autoreload\n",
    "%autoreload 2\n",
    "%matplotlib inline"
   ]
  },
  {
   "cell_type": "code",
   "execution_count": 3,
   "metadata": {},
   "outputs": [],
   "source": [
    "import numpy as np\n",
    "import pylab as plt\n",
    "import glob\n",
    "import os\n",
    "import shutil\n",
    "from pprint import pprint"
   ]
  },
  {
   "cell_type": "code",
   "execution_count": 10,
   "metadata": {},
   "outputs": [],
   "source": [
    "import stephane.display.graphes as graphes\n",
    "import stephane.tools.Smath as smath\n",
    "import icewave.gps.gps as gps\n",
    "import icewave.gps.garmin as garmin"
   ]
  },
  {
   "cell_type": "code",
   "execution_count": null,
   "metadata": {},
   "outputs": [],
   "source": []
  },
  {
   "cell_type": "code",
   "execution_count": 12,
   "metadata": {},
   "outputs": [
    {
     "name": "stdout",
     "output_type": "stream",
     "text": [
      "['/Users/stephane/Documents/git/icewave/icewave/field/Bicwin2024/Data/2024/0211/GPS/1000_Waypoints_2024-02-11.gpx']\n",
      "waypoint Sag240102, Sun Feb 11 14:00:11 2024 -> (48.354159,-70.41197)\n",
      "waypoint Sag240103, Sun Feb 11 14:08:30 2024 -> (48.351689,-70.375057)\n",
      "waypoint Sag240104, Sun Feb 11 14:13:12 2024 -> (48.347114,-70.355861)\n",
      "waypoint Sag240105, Sun Feb 11 17:22:43 2024 -> (48.256069,-70.034441)\n",
      "waypoint Sag240106, Sun Feb 11 17:28:04 2024 -> (48.255746,-70.044663)\n",
      "waypoint Sag240107, Sun Feb 11 17:34:00 2024 -> (48.254961,-70.063102)\n",
      "waypoint Sag240108, Sun Feb 11 17:59:26 2024 -> (48.253948,-70.090416)\n",
      "waypoint Sag240109, Sun Feb 11 18:28:10 2024 -> (48.253644,-70.091281)\n",
      "waypoint Sag240110, Sun Feb 11 18:36:19 2024 -> (48.253513,-70.09116)\n",
      "waypoint Sag240111, Sun Feb 11 18:37:59 2024 -> (48.253107,-70.09112)\n",
      "waypoint Sag240112, Sun Feb 11 18:41:05 2024 -> (48.253457,-70.091761)\n",
      "waypoint Sag240113, Sun Feb 11 18:43:01 2024 -> (48.253475,-70.091463)\n",
      "waypoint Sag240114, Sun Feb 11 18:53:49 2024 -> (48.253087,-70.091414)\n",
      "waypoint Sag240115, Sun Feb 11 18:55:30 2024 -> (48.253052,-70.091725)\n",
      "waypoint Sag240116, Sun Feb 11 18:56:54 2024 -> (48.2533,-70.09141)\n",
      "waypoint Sag240117, Sun Feb 11 19:12:20 2024 -> (48.252862,-70.091369)\n",
      "waypoint Sag240118, Sun Feb 11 19:23:32 2024 -> (48.253309,-70.091415)\n",
      "waypoint Sag240119, Sun Feb 11 19:28:10 2024 -> (48.253619,-70.090434)\n",
      "waypoint Sag240120, Sun Feb 11 19:28:53 2024 -> (48.253446,-70.090365)\n",
      "waypoint Sag240121, Sun Feb 11 19:29:46 2024 -> (48.253259,-70.090346)\n",
      "waypoint Sag240122, Sun Feb 11 19:30:21 2024 -> (48.253078,-70.09039)\n",
      "waypoint Sag240123, Sun Feb 11 19:31:05 2024 -> (48.252908,-70.090505)\n",
      "waypoint Sag240124, Sun Feb 11 19:31:58 2024 -> (48.252778,-70.090697)\n",
      "waypoint Sag240125, Sun Feb 11 19:32:46 2024 -> (48.252674,-70.090905)\n",
      "waypoint Sag240126, Sun Feb 11 19:33:26 2024 -> (48.252615,-70.091171)\n",
      "waypoint Sag240127, Sun Feb 11 19:34:09 2024 -> (48.252575,-70.09133)\n",
      "waypoint Sag240128, Sun Feb 11 19:35:09 2024 -> (48.252566,-70.091442)\n",
      "waypoint Sag240129, Sun Feb 11 19:36:16 2024 -> (48.252613,-70.091683)\n",
      "waypoint Sag240130, Sun Feb 11 19:37:43 2024 -> (48.252668,-70.091943)\n",
      "waypoint Sag240131, Sun Feb 11 19:38:28 2024 -> (48.25278,-70.092156)\n",
      "waypoint Sag240132, Sun Feb 11 19:39:13 2024 -> (48.252907,-70.092307)\n",
      "waypoint Sag240133, Sun Feb 11 19:40:09 2024 -> (48.253065,-70.092437)\n",
      "waypoint Sag240134, Sun Feb 11 19:41:14 2024 -> (48.253235,-70.092498)\n",
      "waypoint Sag240135, Sun Feb 11 19:42:14 2024 -> (48.253405,-70.092475)\n",
      "waypoint Sag240136, Sun Feb 11 19:46:00 2024 -> (48.252634,-70.091346)\n",
      "waypoint Sag240137, Sun Feb 11 19:51:01 2024 -> (48.252432,-70.091302)\n",
      "waypoint Sag240138, Sun Feb 11 19:52:27 2024 -> (48.252226,-70.091283)\n",
      "waypoint Sag240139, Sun Feb 11 19:54:29 2024 -> (48.252035,-70.09127)\n",
      "waypoint Sag240140, Sun Feb 11 19:56:32 2024 -> (48.251834,-70.091233)\n",
      "waypoint Sag240141, Sun Feb 11 19:58:21 2024 -> (48.25247,-70.091275)\n",
      "waypoint Sag240142, Sun Feb 11 19:59:09 2024 -> (48.252457,-70.092084)\n",
      "waypoint Sag240143, Sun Feb 11 20:00:15 2024 -> (48.252229,-70.092276)\n",
      "waypoint Sag240144, Sun Feb 11 20:03:01 2024 -> (48.252247,-70.089863)\n",
      "waypoint Sag240145, Sun Feb 11 20:03:56 2024 -> (48.252475,-70.09007)\n",
      "waypoint Sag240146, Sun Feb 11 20:06:17 2024 -> (48.252462,-70.090867)\n",
      "waypoint Sag240147, Sun Feb 11 20:10:12 2024 -> (48.253366,-70.091429)\n",
      "waypoint Sag240148, Sun Feb 11 20:14:03 2024 -> (48.251747,-70.09117)\n",
      "waypoint Sag240149, Sun Feb 11 20:58:37 2024 -> (48.253687,-70.091252)\n",
      "waypoint Sag240150, Sun Feb 11 21:08:07 2024 -> (48.252167,-70.091057)\n",
      "waypoint Sag240151, Sun Feb 11 21:40:15 2024 -> (48.25339,-70.103602)\n"
     ]
    }
   ],
   "source": [
    "date = '2024_0211'\n",
    "year,day = date.split('_')\n",
    "\n",
    "base = '/Users/stephane/Documents/git/icewave/icewave/field/Bicwin2024/'\n",
    "folder = base+'Data/'+year+'/'+day+'/GPS/'\n",
    "norme_folder = base + 'Nomenclature/'\n",
    "\n",
    "filelist = glob.glob(folder+'*.gpx')\n",
    "print(filelist)\n",
    "filegpx = filelist[0]\n",
    "\n",
    "base = '/Users/stephane/Documents/git/icewave/icewave/field/Bicwin2024/Data/'\n",
    "date = '2024_0211'\n",
    "datesave=date.replace('_','/')\n",
    "savefolder = base + datesave + '/GPS/' \n",
    "\n",
    "import gpxpy\n",
    "\n",
    "gpx_file = open(filegpx, 'r')\n",
    "gpx = gpxpy.parse(gpx_file)\n",
    "for track in gpx.tracks:\n",
    "    for segment in track.segments:\n",
    "        for point in segment.points:\n",
    "            print('Point at ({0},{1}) -> {2}'.format(point.latitude, point.longitude, point.elevation))\n",
    "\n",
    "for waypoint in gpx.waypoints:\n",
    "    print('waypoint {0}, {1} -> ({2},{3})'.format(waypoint.name, waypoint.time.ctime(), waypoint.latitude, waypoint.longitude))"
   ]
  },
  {
   "cell_type": "code",
   "execution_count": 13,
   "metadata": {},
   "outputs": [
    {
     "data": {
      "text/plain": [
       "array([GPXWaypoint(48.354159, -70.41197, elevation=27.651859, time=datetime.datetime(2024, 2, 11, 14, 0, 11, tzinfo=SimpleTZ('Z')), name='Sag240102', symbol='Flag, Blue'),\n",
       "       GPXWaypoint(48.351689, -70.375057, elevation=11.319143, time=datetime.datetime(2024, 2, 11, 14, 8, 30, tzinfo=SimpleTZ('Z')), name='Sag240103', symbol='Flag, Blue'),\n",
       "       GPXWaypoint(48.347114, -70.355861, elevation=13.281659, time=datetime.datetime(2024, 2, 11, 14, 13, 12, tzinfo=SimpleTZ('Z')), name='Sag240104', symbol='Flag, Blue'),\n",
       "       GPXWaypoint(48.256069, -70.034441, elevation=-7.929217, time=datetime.datetime(2024, 2, 11, 17, 22, 43, tzinfo=SimpleTZ('Z')), name='Sag240105', symbol='Flag, Blue'),\n",
       "       GPXWaypoint(48.255746, -70.044663, elevation=-8.689998, time=datetime.datetime(2024, 2, 11, 17, 28, 4, tzinfo=SimpleTZ('Z')), name='Sag240106', symbol='Flag, Blue'),\n",
       "       GPXWaypoint(48.254961, -70.063102, elevation=17.09655, time=datetime.datetime(2024, 2, 11, 17, 34, tzinfo=SimpleTZ('Z')), name='Sag240107', symbol='Flag, Blue'),\n",
       "       GPXWaypoint(48.253948, -70.090416, elevation=7.420036, time=datetime.datetime(2024, 2, 11, 17, 59, 26, tzinfo=SimpleTZ('Z')), name='Sag240108', symbol='Flag, Blue'),\n",
       "       GPXWaypoint(48.253644, -70.091281, elevation=5.248787, time=datetime.datetime(2024, 2, 11, 18, 28, 10, tzinfo=SimpleTZ('Z')), name='Sag240109', symbol='Flag, Blue'),\n",
       "       GPXWaypoint(48.253513, -70.09116, elevation=1.280256, time=datetime.datetime(2024, 2, 11, 18, 36, 19, tzinfo=SimpleTZ('Z')), name='Sag240110', symbol='Flag, Blue'),\n",
       "       GPXWaypoint(48.253107, -70.09112, elevation=1.869486, time=datetime.datetime(2024, 2, 11, 18, 37, 59, tzinfo=SimpleTZ('Z')), name='Sag240111', symbol='Flag, Blue'),\n",
       "       GPXWaypoint(48.253457, -70.091761, elevation=1.130851, time=datetime.datetime(2024, 2, 11, 18, 41, 5, tzinfo=SimpleTZ('Z')), name='Sag240112', symbol='Flag, Blue'),\n",
       "       GPXWaypoint(48.253475, -70.091463, elevation=7.179643, time=datetime.datetime(2024, 2, 11, 18, 43, 1, tzinfo=SimpleTZ('Z')), name='Sag240113', symbol='Flag, Blue'),\n",
       "       GPXWaypoint(48.253087, -70.091414, elevation=3.9256, time=datetime.datetime(2024, 2, 11, 18, 53, 49, tzinfo=SimpleTZ('Z')), name='Sag240114', symbol='Flag, Blue'),\n",
       "       GPXWaypoint(48.253052, -70.091725, elevation=2.812141, time=datetime.datetime(2024, 2, 11, 18, 55, 30, tzinfo=SimpleTZ('Z')), name='Sag240115', symbol='Flag, Blue'),\n",
       "       GPXWaypoint(48.2533, -70.09141, elevation=4.739311, time=datetime.datetime(2024, 2, 11, 18, 56, 54, tzinfo=SimpleTZ('Z')), name='Sag240116', symbol='Flag, Blue'),\n",
       "       GPXWaypoint(48.252862, -70.091369, elevation=3.395482, time=datetime.datetime(2024, 2, 11, 19, 12, 20, tzinfo=SimpleTZ('Z')), name='Sag240117', symbol='Flag, Blue'),\n",
       "       GPXWaypoint(48.253309, -70.091415, elevation=2.341534, time=datetime.datetime(2024, 2, 11, 19, 23, 32, tzinfo=SimpleTZ('Z')), name='Sag240118', symbol='Flag, Blue'),\n",
       "       GPXWaypoint(48.253619, -70.090434, elevation=1.844991, time=datetime.datetime(2024, 2, 11, 19, 28, 10, tzinfo=SimpleTZ('Z')), name='Sag240119', symbol='Flag, Blue'),\n",
       "       GPXWaypoint(48.253446, -70.090365, elevation=1.221923, time=datetime.datetime(2024, 2, 11, 19, 28, 53, tzinfo=SimpleTZ('Z')), name='Sag240120', symbol='Flag, Blue'),\n",
       "       GPXWaypoint(48.253259, -70.090346, elevation=2.354787, time=datetime.datetime(2024, 2, 11, 19, 29, 46, tzinfo=SimpleTZ('Z')), name='Sag240121', symbol='Flag, Blue'),\n",
       "       GPXWaypoint(48.253078, -70.09039, elevation=2.599064, time=datetime.datetime(2024, 2, 11, 19, 30, 21, tzinfo=SimpleTZ('Z')), name='Sag240122', symbol='Flag, Blue'),\n",
       "       GPXWaypoint(48.252908, -70.090505, elevation=0.619918, time=datetime.datetime(2024, 2, 11, 19, 31, 5, tzinfo=SimpleTZ('Z')), name='Sag240123', symbol='Flag, Blue'),\n",
       "       GPXWaypoint(48.252778, -70.090697, elevation=0.832878, time=datetime.datetime(2024, 2, 11, 19, 31, 58, tzinfo=SimpleTZ('Z')), name='Sag240124', symbol='Flag, Blue'),\n",
       "       GPXWaypoint(48.252674, -70.090905, elevation=1.080315, time=datetime.datetime(2024, 2, 11, 19, 32, 46, tzinfo=SimpleTZ('Z')), name='Sag240125', symbol='Flag, Blue'),\n",
       "       GPXWaypoint(48.252615, -70.091171, elevation=1.688745, time=datetime.datetime(2024, 2, 11, 19, 33, 26, tzinfo=SimpleTZ('Z')), name='Sag240126', symbol='Flag, Blue'),\n",
       "       GPXWaypoint(48.252575, -70.09133, elevation=1.083994, time=datetime.datetime(2024, 2, 11, 19, 34, 9, tzinfo=SimpleTZ('Z')), name='Sag240127', symbol='Flag, Blue'),\n",
       "       GPXWaypoint(48.252566, -70.091442, elevation=3.80145, time=datetime.datetime(2024, 2, 11, 19, 35, 9, tzinfo=SimpleTZ('Z')), name='Sag240128', symbol='Flag, Blue'),\n",
       "       GPXWaypoint(48.252613, -70.091683, elevation=3.235748, time=datetime.datetime(2024, 2, 11, 19, 36, 16, tzinfo=SimpleTZ('Z')), name='Sag240129', symbol='Flag, Blue'),\n",
       "       GPXWaypoint(48.252668, -70.091943, elevation=5.19728, time=datetime.datetime(2024, 2, 11, 19, 37, 43, tzinfo=SimpleTZ('Z')), name='Sag240130', symbol='Flag, Blue'),\n",
       "       GPXWaypoint(48.25278, -70.092156, elevation=5.444175, time=datetime.datetime(2024, 2, 11, 19, 38, 28, tzinfo=SimpleTZ('Z')), name='Sag240131', symbol='Flag, Blue'),\n",
       "       GPXWaypoint(48.252907, -70.092307, elevation=4.434718, time=datetime.datetime(2024, 2, 11, 19, 39, 13, tzinfo=SimpleTZ('Z')), name='Sag240132', symbol='Flag, Blue'),\n",
       "       GPXWaypoint(48.253065, -70.092437, elevation=4.466173, time=datetime.datetime(2024, 2, 11, 19, 40, 9, tzinfo=SimpleTZ('Z')), name='Sag240133', symbol='Flag, Blue'),\n",
       "       GPXWaypoint(48.253235, -70.092498, elevation=4.466198, time=datetime.datetime(2024, 2, 11, 19, 41, 14, tzinfo=SimpleTZ('Z')), name='Sag240134', symbol='Flag, Blue'),\n",
       "       GPXWaypoint(48.253405, -70.092475, elevation=4.628741, time=datetime.datetime(2024, 2, 11, 19, 42, 14, tzinfo=SimpleTZ('Z')), name='Sag240135', symbol='Flag, Blue'),\n",
       "       GPXWaypoint(48.252634, -70.091346, elevation=3.723095, time=datetime.datetime(2024, 2, 11, 19, 46, tzinfo=SimpleTZ('Z')), name='Sag240136', symbol='Flag, Blue'),\n",
       "       GPXWaypoint(48.252432, -70.091302, elevation=3.694297, time=datetime.datetime(2024, 2, 11, 19, 51, 1, tzinfo=SimpleTZ('Z')), name='Sag240137', symbol='Flag, Blue'),\n",
       "       GPXWaypoint(48.252226, -70.091283, elevation=4.98498, time=datetime.datetime(2024, 2, 11, 19, 52, 27, tzinfo=SimpleTZ('Z')), name='Sag240138', symbol='Flag, Blue'),\n",
       "       GPXWaypoint(48.252035, -70.09127, elevation=5.632928, time=datetime.datetime(2024, 2, 11, 19, 54, 29, tzinfo=SimpleTZ('Z')), name='Sag240139', symbol='Flag, Blue'),\n",
       "       GPXWaypoint(48.251834, -70.091233, elevation=7.551206, time=datetime.datetime(2024, 2, 11, 19, 56, 32, tzinfo=SimpleTZ('Z')), name='Sag240140', symbol='Flag, Blue'),\n",
       "       GPXWaypoint(48.25247, -70.091275, elevation=6.867528, time=datetime.datetime(2024, 2, 11, 19, 58, 21, tzinfo=SimpleTZ('Z')), name='Sag240141', symbol='Flag, Blue'),\n",
       "       GPXWaypoint(48.252457, -70.092084, elevation=6.340399, time=datetime.datetime(2024, 2, 11, 19, 59, 9, tzinfo=SimpleTZ('Z')), name='Sag240142', symbol='Flag, Blue'),\n",
       "       GPXWaypoint(48.252229, -70.092276, elevation=4.589988, time=datetime.datetime(2024, 2, 11, 20, 0, 15, tzinfo=SimpleTZ('Z')), name='Sag240143', symbol='Flag, Blue'),\n",
       "       GPXWaypoint(48.252247, -70.089863, elevation=5.110025, time=datetime.datetime(2024, 2, 11, 20, 3, 1, tzinfo=SimpleTZ('Z')), name='Sag240144', symbol='Flag, Blue'),\n",
       "       GPXWaypoint(48.252475, -70.09007, elevation=5.295564, time=datetime.datetime(2024, 2, 11, 20, 3, 56, tzinfo=SimpleTZ('Z')), name='Sag240145', symbol='Flag, Blue'),\n",
       "       GPXWaypoint(48.252462, -70.090867, elevation=3.005148, time=datetime.datetime(2024, 2, 11, 20, 6, 17, tzinfo=SimpleTZ('Z')), name='Sag240146', symbol='Flag, Blue'),\n",
       "       GPXWaypoint(48.253366, -70.091429, elevation=3.757471, time=datetime.datetime(2024, 2, 11, 20, 10, 12, tzinfo=SimpleTZ('Z')), name='Sag240147', symbol='Flag, Blue'),\n",
       "       GPXWaypoint(48.251747, -70.09117, elevation=4.106771, time=datetime.datetime(2024, 2, 11, 20, 14, 3, tzinfo=SimpleTZ('Z')), name='Sag240148', symbol='Flag, Blue'),\n",
       "       GPXWaypoint(48.253687, -70.091252, elevation=4.160201, time=datetime.datetime(2024, 2, 11, 20, 58, 37, tzinfo=SimpleTZ('Z')), name='Sag240149', symbol='Flag, Blue'),\n",
       "       GPXWaypoint(48.252167, -70.091057, elevation=9.124368, time=datetime.datetime(2024, 2, 11, 21, 8, 7, tzinfo=SimpleTZ('Z')), name='Sag240150', symbol='Flag, Blue'),\n",
       "       GPXWaypoint(48.25339, -70.103602, elevation=12.947484, time=datetime.datetime(2024, 2, 11, 21, 40, 15, tzinfo=SimpleTZ('Z')), name='Sag240151', symbol='Flag, Blue')],\n",
       "      dtype=object)"
      ]
     },
     "execution_count": 13,
     "metadata": {},
     "output_type": "execute_result"
    }
   ],
   "source": [
    "np.asarray(gpx.waypoints)"
   ]
  },
  {
   "cell_type": "code",
   "execution_count": null,
   "metadata": {},
   "outputs": [],
   "source": []
  },
  {
   "cell_type": "code",
   "execution_count": 23,
   "metadata": {},
   "outputs": [],
   "source": [
    "def represent_waypoints(gpx,imin,imax,table=None):\n",
    "    if table is None:\n",
    "        table = read_table()\n",
    "        \n",
    "    indices = select(gpx,imin,imax)\n",
    "    Long,Lat = [],[]\n",
    "    waypoints = np.asarray(gpx.waypoints)[indices]\n",
    "    for waypoint in waypoints:\n",
    "        Long.append(waypoint.longitude)\n",
    "        Lat.append(waypoint.latitude)\n",
    "\n",
    "    BBox = gps.box_data(Long,Lat,scale=0.7)\n",
    "    ext = gps.extent(BBox)\n",
    "    t = gps.tmp_connect()\n",
    "    fig, ax = plt.subplots(figsize=(10, 10), dpi=200)\n",
    "    ax,figs = gps.display_map(ext,t,title=date,ax=ax,width=600)\n",
    "\n",
    "    X,Y = [],[]\n",
    "    for waypoint in waypoints:\n",
    "        number = int(waypoint.name[-3:])\n",
    "        x,y = gps.project(waypoint.longitude,waypoint.latitude)\n",
    "        X.append(x)\n",
    "        Y.append(y)\n",
    "        display(x,y,ax=ax,name=waypoint.name,table=table)\n",
    "    #savefolder = os.path.dirname(filename)+'/'\n",
    "    return ax,figs\n",
    "\n",
    "def represent_table(table,gpx,imin,imax):\n",
    "    indices = select(gpx,imin,imax)\n",
    "    Long,Lat = [],[]\n",
    "    waypoints = np.asarray(gpx.waypoints)[indices]\n",
    "    for waypoint in waypoints:\n",
    "        Long.append(waypoint.longitude)\n",
    "        Lat.append(waypoint.latitude)\n",
    "\n",
    "    BBox = gps.box_data(Long,Lat,scale=0.7)\n",
    "    ext = gps.extent(BBox)\n",
    "    t = gps.tmp_connect()\n",
    "    fig, ax = plt.subplots(figsize=(10, 10), dpi=200)\n",
    "    ax,figs = gps.display_map(ext,t,title=date,ax=ax,width=600)\n",
    "\n",
    "    X,Y = [],[]\n",
    "    numbers = np.asarray([int(waypoint.name[-3:]) for waypoint in gpx.waypoints])\n",
    "    for (number,elem) in table:\n",
    "        if number in numbers:\n",
    "            ind = np.where(np.asarray(numbers)==number)[0][0]\n",
    "            waypoint = gpx.waypoints[ind]\n",
    "            x,y = gps.project(waypoint.longitude,waypoint.latitude)\n",
    "            X.append(x)\n",
    "            Y.append(y)\n",
    "            name = elem\n",
    "            if '_' in elem:\n",
    "                tag,num = elem.split('_')\n",
    "                label = norme[tag]\n",
    "            else:\n",
    "                label = norme[elem]\n",
    "            ax.plot(x,y,label)\n",
    "            \n",
    "            name = name.replace('_','_{')\n",
    "            name = r'$'+name+'}$'\n",
    "            plt.text(x,y-10**(-7),name)\n",
    "    print(filename)\n",
    "    savefolder = os.path.dirname(filename)+'/'\n",
    "    return ax,figs\n",
    "    \n",
    "def display(x,y,ax=None,name='',table=None):\n",
    "    if table==None:\n",
    "        label = 'bo'\n",
    "    else:\n",
    "        number = int(name[-3:])\n",
    "        numbers = [tab[0] for tab in table]\n",
    "        if number in numbers:\n",
    "            ind = np.where(np.asarray(numbers)==number)[0][0]\n",
    "            key,elem = table[ind]\n",
    "            if '_' in elem:\n",
    "                name = elem\n",
    "                tag,num = elem.split('_')\n",
    "                label = norme[tag]\n",
    "            else:\n",
    "                label = norme[elem]\n",
    "            #print(number,table[number],label)\n",
    "        elif number>max(numbers):\n",
    "            label='bo'\n",
    "        else:\n",
    "            label='bo'\n",
    "        ax.plot(x,y,label)\n",
    "        \n",
    "    name = name.replace('_','_{')\n",
    "    name = r'$'+name+'}$'\n",
    "    plt.text(x,y-10**(-7),name)\n",
    "    \n",
    "\n",
    "def select(gpx,imin,imax):\n",
    "    indices = []\n",
    "    for i,waypoint in enumerate(gpx.waypoints):\n",
    "        number = int(waypoint.name[-3:])\n",
    "        #print(number)\n",
    "        if number>=imin and number<=imax:#True:#int(waypoint.name)>155 and int(waypoint.name)<250:\n",
    "            indices.append(i)\n",
    "    return indices\n",
    "\n",
    "def read_table():\n",
    "    print(glob.glob(folder+'*.txt'))\n",
    "    filename = glob.glob(folder+'*.txt')[0]\n",
    "    with open(filename,'r') as f:\n",
    "        out = f.read()\n",
    "    \n",
    "    lines = out.split('\\n')\n",
    "    table = [line.split('\\t') for line in lines]\n",
    "    dtable = [(int(tab[0]),tab[1]) for tab in table]\n",
    "    return dtable\n",
    "\n",
    "def read_norme(folder):\n",
    "    print(glob.glob(folder+'*.txt'))\n",
    "    filename = glob.glob(folder+'*.txt')[0]\n",
    "    \n",
    "    with open(filename,'r') as f:\n",
    "        out = f.read()\n",
    "    \n",
    "    lines = out.split('\\n')\n",
    "    table = np.asarray([line.split('\\t') for line in lines])\n",
    "\n",
    "    dtable = {tab[0]:tab[1] for tab in table}\n",
    "    pprint(dtable)\n",
    "    return dtable"
   ]
  },
  {
   "cell_type": "code",
   "execution_count": 24,
   "metadata": {},
   "outputs": [
    {
     "name": "stdout",
     "output_type": "stream",
     "text": [
      "['/Users/stephane/Documents/git/icewave/icewave/field/Bicwin2024/Nomenclature/Nomenclature_GPS.txt']\n",
      "{'B': 'mo',\n",
      " 'Canot': 'yo',\n",
      " 'D': 'kp',\n",
      " 'G': 'g^',\n",
      " 'H': 'bv',\n",
      " 'R': 'bs',\n",
      " 'S': 'bo',\n",
      " 'T': 'rs',\n",
      " 'Tomo': 'g>',\n",
      " 'borne': 'ks',\n",
      " 'depart': 'g*',\n",
      " 'fin': 'g*',\n",
      " 'name': 'label',\n",
      " 'plot': 'rp'}\n",
      "['/Users/stephane/Documents/git/icewave/icewave/field/Bicwin2024/Data/2024/0211/GPS/Map_Table.txt']\n"
     ]
    }
   ],
   "source": [
    "global norme\n",
    "norme = read_norme(norme_folder)\n",
    "table = read_table()"
   ]
  },
  {
   "cell_type": "code",
   "execution_count": 25,
   "metadata": {},
   "outputs": [
    {
     "name": "stdout",
     "output_type": "stream",
     "text": [
      "[(109, 'depart'), (110, 'plot_01'), (111, 'plot_03'), (112, 'plot_02'), (113, 'T_11'), (114, 'B_03'), (114, 'T_13'), (115, 'plot_04'), (118, 'B_02'), (117, 'B_04'), (116, 'borne_00'), (118, 'T_12'), (119, 'S_401'), (120, 'S_402'), (121, 'S_403'), (122, 'S_404'), (123, 'S_405'), (124, 'S_406'), (125, 'S_407'), (126, 'S_408'), (127, 'S_409'), (128, 'S_410'), (129, 'S_411'), (130, 'S_412'), (131, 'S_413'), (132, 'S_414'), (133, 'S_415'), (134, 'S_416'), (135, 'S_417'), (136, 'B_05'), (137, 'B_07'), (138, 'T_09'), (139, 'Tomo_211'), (140, 'Tomo_212'), (141, 'Tomo_204'), (142, 'Tomo_206'), (143, 'Tomo_216'), (144, 'Tomo_207'), (145, 'Tomo_201'), (146, 'Tomo_203'), (147, 'B_01'), (148, 'Canot_01'), (149, 'Canot_02')]\n",
      "{'name': 'label', 'depart': 'g*', 'fin': 'g*', 'G': 'g^', 'B': 'mo', 'T': 'rs', 'D': 'kp', 'H': 'bv', 'S': 'bo', 'Tomo': 'g>', 'borne': 'ks', 'plot': 'rp', 'R': 'bs', 'Canot': 'yo'}\n"
     ]
    }
   ],
   "source": [
    "print(table)\n",
    "print(norme)"
   ]
  },
  {
   "cell_type": "code",
   "execution_count": 26,
   "metadata": {},
   "outputs": [
    {
     "data": {
      "text/plain": [
       "'/Users/stephane/Documents/git/icewave/icewave/field/Bicwin2024/Data/2024/0211/GPS/'"
      ]
     },
     "execution_count": 26,
     "metadata": {},
     "output_type": "execute_result"
    }
   ],
   "source": [
    "savefolder"
   ]
  },
  {
   "cell_type": "code",
   "execution_count": 27,
   "metadata": {},
   "outputs": [
    {
     "name": "stdout",
     "output_type": "stream",
     "text": [
      "['/Users/stephane/Documents/git/icewave/icewave/field/Bicwin2024/Data/2024/0211/GPS/Map_Table.txt']\n",
      "Extent((0.3052971527777777,0.34655760038575845)->(0.3053074,0.34656784760798076) projected as normal)\n",
      "Error in callback <function _draw_all_if_interactive at 0x11b7d9260> (for post_execute), with arguments args (),kwargs {}:\n"
     ]
    },
    {
     "ename": "ValueError",
     "evalue": "\n$Sag240109}$\n^\nParseException: Expected end of text, found '$'  (at char 0), (line:1, col:1)",
     "output_type": "error",
     "traceback": [
      "\u001b[0;31m---------------------------------------------------------------------------\u001b[0m",
      "\u001b[0;31mValueError\u001b[0m                                Traceback (most recent call last)",
      "File \u001b[0;32m/Library/Frameworks/Python.framework/Versions/3.12/lib/python3.12/site-packages/matplotlib/pyplot.py:197\u001b[0m, in \u001b[0;36m_draw_all_if_interactive\u001b[0;34m()\u001b[0m\n\u001b[1;32m    195\u001b[0m \u001b[38;5;28;01mdef\u001b[39;00m \u001b[38;5;21m_draw_all_if_interactive\u001b[39m() \u001b[38;5;241m-\u001b[39m\u001b[38;5;241m>\u001b[39m \u001b[38;5;28;01mNone\u001b[39;00m:\n\u001b[1;32m    196\u001b[0m     \u001b[38;5;28;01mif\u001b[39;00m matplotlib\u001b[38;5;241m.\u001b[39mis_interactive():\n\u001b[0;32m--> 197\u001b[0m         \u001b[43mdraw_all\u001b[49m\u001b[43m(\u001b[49m\u001b[43m)\u001b[49m\n",
      "File \u001b[0;32m/Library/Frameworks/Python.framework/Versions/3.12/lib/python3.12/site-packages/matplotlib/_pylab_helpers.py:132\u001b[0m, in \u001b[0;36mGcf.draw_all\u001b[0;34m(cls, force)\u001b[0m\n\u001b[1;32m    130\u001b[0m \u001b[38;5;28;01mfor\u001b[39;00m manager \u001b[38;5;129;01min\u001b[39;00m \u001b[38;5;28mcls\u001b[39m\u001b[38;5;241m.\u001b[39mget_all_fig_managers():\n\u001b[1;32m    131\u001b[0m     \u001b[38;5;28;01mif\u001b[39;00m force \u001b[38;5;129;01mor\u001b[39;00m manager\u001b[38;5;241m.\u001b[39mcanvas\u001b[38;5;241m.\u001b[39mfigure\u001b[38;5;241m.\u001b[39mstale:\n\u001b[0;32m--> 132\u001b[0m         \u001b[43mmanager\u001b[49m\u001b[38;5;241;43m.\u001b[39;49m\u001b[43mcanvas\u001b[49m\u001b[38;5;241;43m.\u001b[39;49m\u001b[43mdraw_idle\u001b[49m\u001b[43m(\u001b[49m\u001b[43m)\u001b[49m\n",
      "File \u001b[0;32m/Library/Frameworks/Python.framework/Versions/3.12/lib/python3.12/site-packages/matplotlib/backend_bases.py:1893\u001b[0m, in \u001b[0;36mFigureCanvasBase.draw_idle\u001b[0;34m(self, *args, **kwargs)\u001b[0m\n\u001b[1;32m   1891\u001b[0m \u001b[38;5;28;01mif\u001b[39;00m \u001b[38;5;129;01mnot\u001b[39;00m \u001b[38;5;28mself\u001b[39m\u001b[38;5;241m.\u001b[39m_is_idle_drawing:\n\u001b[1;32m   1892\u001b[0m     \u001b[38;5;28;01mwith\u001b[39;00m \u001b[38;5;28mself\u001b[39m\u001b[38;5;241m.\u001b[39m_idle_draw_cntx():\n\u001b[0;32m-> 1893\u001b[0m         \u001b[38;5;28;43mself\u001b[39;49m\u001b[38;5;241;43m.\u001b[39;49m\u001b[43mdraw\u001b[49m\u001b[43m(\u001b[49m\u001b[38;5;241;43m*\u001b[39;49m\u001b[43margs\u001b[49m\u001b[43m,\u001b[49m\u001b[43m \u001b[49m\u001b[38;5;241;43m*\u001b[39;49m\u001b[38;5;241;43m*\u001b[39;49m\u001b[43mkwargs\u001b[49m\u001b[43m)\u001b[49m\n",
      "File \u001b[0;32m/Library/Frameworks/Python.framework/Versions/3.12/lib/python3.12/site-packages/matplotlib/backends/backend_agg.py:388\u001b[0m, in \u001b[0;36mFigureCanvasAgg.draw\u001b[0;34m(self)\u001b[0m\n\u001b[1;32m    385\u001b[0m \u001b[38;5;66;03m# Acquire a lock on the shared font cache.\u001b[39;00m\n\u001b[1;32m    386\u001b[0m \u001b[38;5;28;01mwith\u001b[39;00m (\u001b[38;5;28mself\u001b[39m\u001b[38;5;241m.\u001b[39mtoolbar\u001b[38;5;241m.\u001b[39m_wait_cursor_for_draw_cm() \u001b[38;5;28;01mif\u001b[39;00m \u001b[38;5;28mself\u001b[39m\u001b[38;5;241m.\u001b[39mtoolbar\n\u001b[1;32m    387\u001b[0m       \u001b[38;5;28;01melse\u001b[39;00m nullcontext()):\n\u001b[0;32m--> 388\u001b[0m     \u001b[38;5;28;43mself\u001b[39;49m\u001b[38;5;241;43m.\u001b[39;49m\u001b[43mfigure\u001b[49m\u001b[38;5;241;43m.\u001b[39;49m\u001b[43mdraw\u001b[49m\u001b[43m(\u001b[49m\u001b[38;5;28;43mself\u001b[39;49m\u001b[38;5;241;43m.\u001b[39;49m\u001b[43mrenderer\u001b[49m\u001b[43m)\u001b[49m\n\u001b[1;32m    389\u001b[0m     \u001b[38;5;66;03m# A GUI class may be need to update a window using this draw, so\u001b[39;00m\n\u001b[1;32m    390\u001b[0m     \u001b[38;5;66;03m# don't forget to call the superclass.\u001b[39;00m\n\u001b[1;32m    391\u001b[0m     \u001b[38;5;28msuper\u001b[39m()\u001b[38;5;241m.\u001b[39mdraw()\n",
      "File \u001b[0;32m/Library/Frameworks/Python.framework/Versions/3.12/lib/python3.12/site-packages/matplotlib/artist.py:95\u001b[0m, in \u001b[0;36m_finalize_rasterization.<locals>.draw_wrapper\u001b[0;34m(artist, renderer, *args, **kwargs)\u001b[0m\n\u001b[1;32m     93\u001b[0m \u001b[38;5;129m@wraps\u001b[39m(draw)\n\u001b[1;32m     94\u001b[0m \u001b[38;5;28;01mdef\u001b[39;00m \u001b[38;5;21mdraw_wrapper\u001b[39m(artist, renderer, \u001b[38;5;241m*\u001b[39margs, \u001b[38;5;241m*\u001b[39m\u001b[38;5;241m*\u001b[39mkwargs):\n\u001b[0;32m---> 95\u001b[0m     result \u001b[38;5;241m=\u001b[39m \u001b[43mdraw\u001b[49m\u001b[43m(\u001b[49m\u001b[43martist\u001b[49m\u001b[43m,\u001b[49m\u001b[43m \u001b[49m\u001b[43mrenderer\u001b[49m\u001b[43m,\u001b[49m\u001b[43m \u001b[49m\u001b[38;5;241;43m*\u001b[39;49m\u001b[43margs\u001b[49m\u001b[43m,\u001b[49m\u001b[43m \u001b[49m\u001b[38;5;241;43m*\u001b[39;49m\u001b[38;5;241;43m*\u001b[39;49m\u001b[43mkwargs\u001b[49m\u001b[43m)\u001b[49m\n\u001b[1;32m     96\u001b[0m     \u001b[38;5;28;01mif\u001b[39;00m renderer\u001b[38;5;241m.\u001b[39m_rasterizing:\n\u001b[1;32m     97\u001b[0m         renderer\u001b[38;5;241m.\u001b[39mstop_rasterizing()\n",
      "File \u001b[0;32m/Library/Frameworks/Python.framework/Versions/3.12/lib/python3.12/site-packages/matplotlib/artist.py:72\u001b[0m, in \u001b[0;36mallow_rasterization.<locals>.draw_wrapper\u001b[0;34m(artist, renderer)\u001b[0m\n\u001b[1;32m     69\u001b[0m     \u001b[38;5;28;01mif\u001b[39;00m artist\u001b[38;5;241m.\u001b[39mget_agg_filter() \u001b[38;5;129;01mis\u001b[39;00m \u001b[38;5;129;01mnot\u001b[39;00m \u001b[38;5;28;01mNone\u001b[39;00m:\n\u001b[1;32m     70\u001b[0m         renderer\u001b[38;5;241m.\u001b[39mstart_filter()\n\u001b[0;32m---> 72\u001b[0m     \u001b[38;5;28;01mreturn\u001b[39;00m \u001b[43mdraw\u001b[49m\u001b[43m(\u001b[49m\u001b[43martist\u001b[49m\u001b[43m,\u001b[49m\u001b[43m \u001b[49m\u001b[43mrenderer\u001b[49m\u001b[43m)\u001b[49m\n\u001b[1;32m     73\u001b[0m \u001b[38;5;28;01mfinally\u001b[39;00m:\n\u001b[1;32m     74\u001b[0m     \u001b[38;5;28;01mif\u001b[39;00m artist\u001b[38;5;241m.\u001b[39mget_agg_filter() \u001b[38;5;129;01mis\u001b[39;00m \u001b[38;5;129;01mnot\u001b[39;00m \u001b[38;5;28;01mNone\u001b[39;00m:\n",
      "File \u001b[0;32m/Library/Frameworks/Python.framework/Versions/3.12/lib/python3.12/site-packages/matplotlib/figure.py:3154\u001b[0m, in \u001b[0;36mFigure.draw\u001b[0;34m(self, renderer)\u001b[0m\n\u001b[1;32m   3151\u001b[0m         \u001b[38;5;66;03m# ValueError can occur when resizing a window.\u001b[39;00m\n\u001b[1;32m   3153\u001b[0m \u001b[38;5;28mself\u001b[39m\u001b[38;5;241m.\u001b[39mpatch\u001b[38;5;241m.\u001b[39mdraw(renderer)\n\u001b[0;32m-> 3154\u001b[0m \u001b[43mmimage\u001b[49m\u001b[38;5;241;43m.\u001b[39;49m\u001b[43m_draw_list_compositing_images\u001b[49m\u001b[43m(\u001b[49m\n\u001b[1;32m   3155\u001b[0m \u001b[43m    \u001b[49m\u001b[43mrenderer\u001b[49m\u001b[43m,\u001b[49m\u001b[43m \u001b[49m\u001b[38;5;28;43mself\u001b[39;49m\u001b[43m,\u001b[49m\u001b[43m \u001b[49m\u001b[43martists\u001b[49m\u001b[43m,\u001b[49m\u001b[43m \u001b[49m\u001b[38;5;28;43mself\u001b[39;49m\u001b[38;5;241;43m.\u001b[39;49m\u001b[43msuppressComposite\u001b[49m\u001b[43m)\u001b[49m\n\u001b[1;32m   3157\u001b[0m \u001b[38;5;28;01mfor\u001b[39;00m sfig \u001b[38;5;129;01min\u001b[39;00m \u001b[38;5;28mself\u001b[39m\u001b[38;5;241m.\u001b[39msubfigs:\n\u001b[1;32m   3158\u001b[0m     sfig\u001b[38;5;241m.\u001b[39mdraw(renderer)\n",
      "File \u001b[0;32m/Library/Frameworks/Python.framework/Versions/3.12/lib/python3.12/site-packages/matplotlib/image.py:132\u001b[0m, in \u001b[0;36m_draw_list_compositing_images\u001b[0;34m(renderer, parent, artists, suppress_composite)\u001b[0m\n\u001b[1;32m    130\u001b[0m \u001b[38;5;28;01mif\u001b[39;00m not_composite \u001b[38;5;129;01mor\u001b[39;00m \u001b[38;5;129;01mnot\u001b[39;00m has_images:\n\u001b[1;32m    131\u001b[0m     \u001b[38;5;28;01mfor\u001b[39;00m a \u001b[38;5;129;01min\u001b[39;00m artists:\n\u001b[0;32m--> 132\u001b[0m         \u001b[43ma\u001b[49m\u001b[38;5;241;43m.\u001b[39;49m\u001b[43mdraw\u001b[49m\u001b[43m(\u001b[49m\u001b[43mrenderer\u001b[49m\u001b[43m)\u001b[49m\n\u001b[1;32m    133\u001b[0m \u001b[38;5;28;01melse\u001b[39;00m:\n\u001b[1;32m    134\u001b[0m     \u001b[38;5;66;03m# Composite any adjacent images together\u001b[39;00m\n\u001b[1;32m    135\u001b[0m     image_group \u001b[38;5;241m=\u001b[39m []\n",
      "File \u001b[0;32m/Library/Frameworks/Python.framework/Versions/3.12/lib/python3.12/site-packages/matplotlib/artist.py:72\u001b[0m, in \u001b[0;36mallow_rasterization.<locals>.draw_wrapper\u001b[0;34m(artist, renderer)\u001b[0m\n\u001b[1;32m     69\u001b[0m     \u001b[38;5;28;01mif\u001b[39;00m artist\u001b[38;5;241m.\u001b[39mget_agg_filter() \u001b[38;5;129;01mis\u001b[39;00m \u001b[38;5;129;01mnot\u001b[39;00m \u001b[38;5;28;01mNone\u001b[39;00m:\n\u001b[1;32m     70\u001b[0m         renderer\u001b[38;5;241m.\u001b[39mstart_filter()\n\u001b[0;32m---> 72\u001b[0m     \u001b[38;5;28;01mreturn\u001b[39;00m \u001b[43mdraw\u001b[49m\u001b[43m(\u001b[49m\u001b[43martist\u001b[49m\u001b[43m,\u001b[49m\u001b[43m \u001b[49m\u001b[43mrenderer\u001b[49m\u001b[43m)\u001b[49m\n\u001b[1;32m     73\u001b[0m \u001b[38;5;28;01mfinally\u001b[39;00m:\n\u001b[1;32m     74\u001b[0m     \u001b[38;5;28;01mif\u001b[39;00m artist\u001b[38;5;241m.\u001b[39mget_agg_filter() \u001b[38;5;129;01mis\u001b[39;00m \u001b[38;5;129;01mnot\u001b[39;00m \u001b[38;5;28;01mNone\u001b[39;00m:\n",
      "File \u001b[0;32m/Library/Frameworks/Python.framework/Versions/3.12/lib/python3.12/site-packages/matplotlib/axes/_base.py:3070\u001b[0m, in \u001b[0;36m_AxesBase.draw\u001b[0;34m(self, renderer)\u001b[0m\n\u001b[1;32m   3067\u001b[0m \u001b[38;5;28;01mif\u001b[39;00m artists_rasterized:\n\u001b[1;32m   3068\u001b[0m     _draw_rasterized(\u001b[38;5;28mself\u001b[39m\u001b[38;5;241m.\u001b[39mfigure, artists_rasterized, renderer)\n\u001b[0;32m-> 3070\u001b[0m \u001b[43mmimage\u001b[49m\u001b[38;5;241;43m.\u001b[39;49m\u001b[43m_draw_list_compositing_images\u001b[49m\u001b[43m(\u001b[49m\n\u001b[1;32m   3071\u001b[0m \u001b[43m    \u001b[49m\u001b[43mrenderer\u001b[49m\u001b[43m,\u001b[49m\u001b[43m \u001b[49m\u001b[38;5;28;43mself\u001b[39;49m\u001b[43m,\u001b[49m\u001b[43m \u001b[49m\u001b[43martists\u001b[49m\u001b[43m,\u001b[49m\u001b[43m \u001b[49m\u001b[38;5;28;43mself\u001b[39;49m\u001b[38;5;241;43m.\u001b[39;49m\u001b[43mfigure\u001b[49m\u001b[38;5;241;43m.\u001b[39;49m\u001b[43msuppressComposite\u001b[49m\u001b[43m)\u001b[49m\n\u001b[1;32m   3073\u001b[0m renderer\u001b[38;5;241m.\u001b[39mclose_group(\u001b[38;5;124m'\u001b[39m\u001b[38;5;124maxes\u001b[39m\u001b[38;5;124m'\u001b[39m)\n\u001b[1;32m   3074\u001b[0m \u001b[38;5;28mself\u001b[39m\u001b[38;5;241m.\u001b[39mstale \u001b[38;5;241m=\u001b[39m \u001b[38;5;28;01mFalse\u001b[39;00m\n",
      "File \u001b[0;32m/Library/Frameworks/Python.framework/Versions/3.12/lib/python3.12/site-packages/matplotlib/image.py:132\u001b[0m, in \u001b[0;36m_draw_list_compositing_images\u001b[0;34m(renderer, parent, artists, suppress_composite)\u001b[0m\n\u001b[1;32m    130\u001b[0m \u001b[38;5;28;01mif\u001b[39;00m not_composite \u001b[38;5;129;01mor\u001b[39;00m \u001b[38;5;129;01mnot\u001b[39;00m has_images:\n\u001b[1;32m    131\u001b[0m     \u001b[38;5;28;01mfor\u001b[39;00m a \u001b[38;5;129;01min\u001b[39;00m artists:\n\u001b[0;32m--> 132\u001b[0m         \u001b[43ma\u001b[49m\u001b[38;5;241;43m.\u001b[39;49m\u001b[43mdraw\u001b[49m\u001b[43m(\u001b[49m\u001b[43mrenderer\u001b[49m\u001b[43m)\u001b[49m\n\u001b[1;32m    133\u001b[0m \u001b[38;5;28;01melse\u001b[39;00m:\n\u001b[1;32m    134\u001b[0m     \u001b[38;5;66;03m# Composite any adjacent images together\u001b[39;00m\n\u001b[1;32m    135\u001b[0m     image_group \u001b[38;5;241m=\u001b[39m []\n",
      "File \u001b[0;32m/Library/Frameworks/Python.framework/Versions/3.12/lib/python3.12/site-packages/matplotlib/artist.py:72\u001b[0m, in \u001b[0;36mallow_rasterization.<locals>.draw_wrapper\u001b[0;34m(artist, renderer)\u001b[0m\n\u001b[1;32m     69\u001b[0m     \u001b[38;5;28;01mif\u001b[39;00m artist\u001b[38;5;241m.\u001b[39mget_agg_filter() \u001b[38;5;129;01mis\u001b[39;00m \u001b[38;5;129;01mnot\u001b[39;00m \u001b[38;5;28;01mNone\u001b[39;00m:\n\u001b[1;32m     70\u001b[0m         renderer\u001b[38;5;241m.\u001b[39mstart_filter()\n\u001b[0;32m---> 72\u001b[0m     \u001b[38;5;28;01mreturn\u001b[39;00m \u001b[43mdraw\u001b[49m\u001b[43m(\u001b[49m\u001b[43martist\u001b[49m\u001b[43m,\u001b[49m\u001b[43m \u001b[49m\u001b[43mrenderer\u001b[49m\u001b[43m)\u001b[49m\n\u001b[1;32m     73\u001b[0m \u001b[38;5;28;01mfinally\u001b[39;00m:\n\u001b[1;32m     74\u001b[0m     \u001b[38;5;28;01mif\u001b[39;00m artist\u001b[38;5;241m.\u001b[39mget_agg_filter() \u001b[38;5;129;01mis\u001b[39;00m \u001b[38;5;129;01mnot\u001b[39;00m \u001b[38;5;28;01mNone\u001b[39;00m:\n",
      "File \u001b[0;32m/Library/Frameworks/Python.framework/Versions/3.12/lib/python3.12/site-packages/matplotlib/text.py:748\u001b[0m, in \u001b[0;36mText.draw\u001b[0;34m(self, renderer)\u001b[0m\n\u001b[1;32m    745\u001b[0m renderer\u001b[38;5;241m.\u001b[39mopen_group(\u001b[38;5;124m'\u001b[39m\u001b[38;5;124mtext\u001b[39m\u001b[38;5;124m'\u001b[39m, \u001b[38;5;28mself\u001b[39m\u001b[38;5;241m.\u001b[39mget_gid())\n\u001b[1;32m    747\u001b[0m \u001b[38;5;28;01mwith\u001b[39;00m \u001b[38;5;28mself\u001b[39m\u001b[38;5;241m.\u001b[39m_cm_set(text\u001b[38;5;241m=\u001b[39m\u001b[38;5;28mself\u001b[39m\u001b[38;5;241m.\u001b[39m_get_wrapped_text()):\n\u001b[0;32m--> 748\u001b[0m     bbox, info, descent \u001b[38;5;241m=\u001b[39m \u001b[38;5;28;43mself\u001b[39;49m\u001b[38;5;241;43m.\u001b[39;49m\u001b[43m_get_layout\u001b[49m\u001b[43m(\u001b[49m\u001b[43mrenderer\u001b[49m\u001b[43m)\u001b[49m\n\u001b[1;32m    749\u001b[0m     trans \u001b[38;5;241m=\u001b[39m \u001b[38;5;28mself\u001b[39m\u001b[38;5;241m.\u001b[39mget_transform()\n\u001b[1;32m    751\u001b[0m     \u001b[38;5;66;03m# don't use self.get_position here, which refers to text\u001b[39;00m\n\u001b[1;32m    752\u001b[0m     \u001b[38;5;66;03m# position in Text:\u001b[39;00m\n",
      "File \u001b[0;32m/Library/Frameworks/Python.framework/Versions/3.12/lib/python3.12/site-packages/matplotlib/text.py:381\u001b[0m, in \u001b[0;36mText._get_layout\u001b[0;34m(self, renderer)\u001b[0m\n\u001b[1;32m    379\u001b[0m clean_line, ismath \u001b[38;5;241m=\u001b[39m \u001b[38;5;28mself\u001b[39m\u001b[38;5;241m.\u001b[39m_preprocess_math(line)\n\u001b[1;32m    380\u001b[0m \u001b[38;5;28;01mif\u001b[39;00m clean_line:\n\u001b[0;32m--> 381\u001b[0m     w, h, d \u001b[38;5;241m=\u001b[39m \u001b[43m_get_text_metrics_with_cache\u001b[49m\u001b[43m(\u001b[49m\n\u001b[1;32m    382\u001b[0m \u001b[43m        \u001b[49m\u001b[43mrenderer\u001b[49m\u001b[43m,\u001b[49m\u001b[43m \u001b[49m\u001b[43mclean_line\u001b[49m\u001b[43m,\u001b[49m\u001b[43m \u001b[49m\u001b[38;5;28;43mself\u001b[39;49m\u001b[38;5;241;43m.\u001b[39;49m\u001b[43m_fontproperties\u001b[49m\u001b[43m,\u001b[49m\n\u001b[1;32m    383\u001b[0m \u001b[43m        \u001b[49m\u001b[43mismath\u001b[49m\u001b[38;5;241;43m=\u001b[39;49m\u001b[43mismath\u001b[49m\u001b[43m,\u001b[49m\u001b[43m \u001b[49m\u001b[43mdpi\u001b[49m\u001b[38;5;241;43m=\u001b[39;49m\u001b[38;5;28;43mself\u001b[39;49m\u001b[38;5;241;43m.\u001b[39;49m\u001b[43mfigure\u001b[49m\u001b[38;5;241;43m.\u001b[39;49m\u001b[43mdpi\u001b[49m\u001b[43m)\u001b[49m\n\u001b[1;32m    384\u001b[0m \u001b[38;5;28;01melse\u001b[39;00m:\n\u001b[1;32m    385\u001b[0m     w \u001b[38;5;241m=\u001b[39m h \u001b[38;5;241m=\u001b[39m d \u001b[38;5;241m=\u001b[39m \u001b[38;5;241m0\u001b[39m\n",
      "File \u001b[0;32m/Library/Frameworks/Python.framework/Versions/3.12/lib/python3.12/site-packages/matplotlib/text.py:69\u001b[0m, in \u001b[0;36m_get_text_metrics_with_cache\u001b[0;34m(renderer, text, fontprop, ismath, dpi)\u001b[0m\n\u001b[1;32m     66\u001b[0m \u001b[38;5;250m\u001b[39m\u001b[38;5;124;03m\"\"\"Call ``renderer.get_text_width_height_descent``, caching the results.\"\"\"\u001b[39;00m\n\u001b[1;32m     67\u001b[0m \u001b[38;5;66;03m# Cached based on a copy of fontprop so that later in-place mutations of\u001b[39;00m\n\u001b[1;32m     68\u001b[0m \u001b[38;5;66;03m# the passed-in argument do not mess up the cache.\u001b[39;00m\n\u001b[0;32m---> 69\u001b[0m \u001b[38;5;28;01mreturn\u001b[39;00m \u001b[43m_get_text_metrics_with_cache_impl\u001b[49m\u001b[43m(\u001b[49m\n\u001b[1;32m     70\u001b[0m \u001b[43m    \u001b[49m\u001b[43mweakref\u001b[49m\u001b[38;5;241;43m.\u001b[39;49m\u001b[43mref\u001b[49m\u001b[43m(\u001b[49m\u001b[43mrenderer\u001b[49m\u001b[43m)\u001b[49m\u001b[43m,\u001b[49m\u001b[43m \u001b[49m\u001b[43mtext\u001b[49m\u001b[43m,\u001b[49m\u001b[43m \u001b[49m\u001b[43mfontprop\u001b[49m\u001b[38;5;241;43m.\u001b[39;49m\u001b[43mcopy\u001b[49m\u001b[43m(\u001b[49m\u001b[43m)\u001b[49m\u001b[43m,\u001b[49m\u001b[43m \u001b[49m\u001b[43mismath\u001b[49m\u001b[43m,\u001b[49m\u001b[43m \u001b[49m\u001b[43mdpi\u001b[49m\u001b[43m)\u001b[49m\n",
      "File \u001b[0;32m/Library/Frameworks/Python.framework/Versions/3.12/lib/python3.12/site-packages/matplotlib/text.py:77\u001b[0m, in \u001b[0;36m_get_text_metrics_with_cache_impl\u001b[0;34m(renderer_ref, text, fontprop, ismath, dpi)\u001b[0m\n\u001b[1;32m     73\u001b[0m \u001b[38;5;129m@functools\u001b[39m\u001b[38;5;241m.\u001b[39mlru_cache(\u001b[38;5;241m4096\u001b[39m)\n\u001b[1;32m     74\u001b[0m \u001b[38;5;28;01mdef\u001b[39;00m \u001b[38;5;21m_get_text_metrics_with_cache_impl\u001b[39m(\n\u001b[1;32m     75\u001b[0m         renderer_ref, text, fontprop, ismath, dpi):\n\u001b[1;32m     76\u001b[0m     \u001b[38;5;66;03m# dpi is unused, but participates in cache invalidation (via the renderer).\u001b[39;00m\n\u001b[0;32m---> 77\u001b[0m     \u001b[38;5;28;01mreturn\u001b[39;00m \u001b[43mrenderer_ref\u001b[49m\u001b[43m(\u001b[49m\u001b[43m)\u001b[49m\u001b[38;5;241;43m.\u001b[39;49m\u001b[43mget_text_width_height_descent\u001b[49m\u001b[43m(\u001b[49m\u001b[43mtext\u001b[49m\u001b[43m,\u001b[49m\u001b[43m \u001b[49m\u001b[43mfontprop\u001b[49m\u001b[43m,\u001b[49m\u001b[43m \u001b[49m\u001b[43mismath\u001b[49m\u001b[43m)\u001b[49m\n",
      "File \u001b[0;32m/Library/Frameworks/Python.framework/Versions/3.12/lib/python3.12/site-packages/matplotlib/backends/backend_agg.py:217\u001b[0m, in \u001b[0;36mRendererAgg.get_text_width_height_descent\u001b[0;34m(self, s, prop, ismath)\u001b[0m\n\u001b[1;32m    213\u001b[0m     \u001b[38;5;28;01mreturn\u001b[39;00m \u001b[38;5;28msuper\u001b[39m()\u001b[38;5;241m.\u001b[39mget_text_width_height_descent(s, prop, ismath)\n\u001b[1;32m    215\u001b[0m \u001b[38;5;28;01mif\u001b[39;00m ismath:\n\u001b[1;32m    216\u001b[0m     ox, oy, width, height, descent, font_image \u001b[38;5;241m=\u001b[39m \\\n\u001b[0;32m--> 217\u001b[0m         \u001b[38;5;28;43mself\u001b[39;49m\u001b[38;5;241;43m.\u001b[39;49m\u001b[43mmathtext_parser\u001b[49m\u001b[38;5;241;43m.\u001b[39;49m\u001b[43mparse\u001b[49m\u001b[43m(\u001b[49m\u001b[43ms\u001b[49m\u001b[43m,\u001b[49m\u001b[43m \u001b[49m\u001b[38;5;28;43mself\u001b[39;49m\u001b[38;5;241;43m.\u001b[39;49m\u001b[43mdpi\u001b[49m\u001b[43m,\u001b[49m\u001b[43m \u001b[49m\u001b[43mprop\u001b[49m\u001b[43m)\u001b[49m\n\u001b[1;32m    218\u001b[0m     \u001b[38;5;28;01mreturn\u001b[39;00m width, height, descent\n\u001b[1;32m    220\u001b[0m font \u001b[38;5;241m=\u001b[39m \u001b[38;5;28mself\u001b[39m\u001b[38;5;241m.\u001b[39m_prepare_font(prop)\n",
      "File \u001b[0;32m/Library/Frameworks/Python.framework/Versions/3.12/lib/python3.12/site-packages/matplotlib/mathtext.py:79\u001b[0m, in \u001b[0;36mMathTextParser.parse\u001b[0;34m(self, s, dpi, prop, antialiased)\u001b[0m\n\u001b[1;32m     77\u001b[0m prop \u001b[38;5;241m=\u001b[39m prop\u001b[38;5;241m.\u001b[39mcopy() \u001b[38;5;28;01mif\u001b[39;00m prop \u001b[38;5;129;01mis\u001b[39;00m \u001b[38;5;129;01mnot\u001b[39;00m \u001b[38;5;28;01mNone\u001b[39;00m \u001b[38;5;28;01melse\u001b[39;00m \u001b[38;5;28;01mNone\u001b[39;00m\n\u001b[1;32m     78\u001b[0m antialiased \u001b[38;5;241m=\u001b[39m mpl\u001b[38;5;241m.\u001b[39m_val_or_rc(antialiased, \u001b[38;5;124m'\u001b[39m\u001b[38;5;124mtext.antialiased\u001b[39m\u001b[38;5;124m'\u001b[39m)\n\u001b[0;32m---> 79\u001b[0m \u001b[38;5;28;01mreturn\u001b[39;00m \u001b[38;5;28;43mself\u001b[39;49m\u001b[38;5;241;43m.\u001b[39;49m\u001b[43m_parse_cached\u001b[49m\u001b[43m(\u001b[49m\u001b[43ms\u001b[49m\u001b[43m,\u001b[49m\u001b[43m \u001b[49m\u001b[43mdpi\u001b[49m\u001b[43m,\u001b[49m\u001b[43m \u001b[49m\u001b[43mprop\u001b[49m\u001b[43m,\u001b[49m\u001b[43m \u001b[49m\u001b[43mantialiased\u001b[49m\u001b[43m)\u001b[49m\n",
      "File \u001b[0;32m/Library/Frameworks/Python.framework/Versions/3.12/lib/python3.12/site-packages/matplotlib/mathtext.py:100\u001b[0m, in \u001b[0;36mMathTextParser._parse_cached\u001b[0;34m(self, s, dpi, prop, antialiased)\u001b[0m\n\u001b[1;32m     97\u001b[0m \u001b[38;5;28;01mif\u001b[39;00m \u001b[38;5;28mself\u001b[39m\u001b[38;5;241m.\u001b[39m_parser \u001b[38;5;129;01mis\u001b[39;00m \u001b[38;5;28;01mNone\u001b[39;00m:  \u001b[38;5;66;03m# Cache the parser globally.\u001b[39;00m\n\u001b[1;32m     98\u001b[0m     \u001b[38;5;28mself\u001b[39m\u001b[38;5;241m.\u001b[39m\u001b[38;5;18m__class__\u001b[39m\u001b[38;5;241m.\u001b[39m_parser \u001b[38;5;241m=\u001b[39m _mathtext\u001b[38;5;241m.\u001b[39mParser()\n\u001b[0;32m--> 100\u001b[0m box \u001b[38;5;241m=\u001b[39m \u001b[38;5;28;43mself\u001b[39;49m\u001b[38;5;241;43m.\u001b[39;49m\u001b[43m_parser\u001b[49m\u001b[38;5;241;43m.\u001b[39;49m\u001b[43mparse\u001b[49m\u001b[43m(\u001b[49m\u001b[43ms\u001b[49m\u001b[43m,\u001b[49m\u001b[43m \u001b[49m\u001b[43mfontset\u001b[49m\u001b[43m,\u001b[49m\u001b[43m \u001b[49m\u001b[43mfontsize\u001b[49m\u001b[43m,\u001b[49m\u001b[43m \u001b[49m\u001b[43mdpi\u001b[49m\u001b[43m)\u001b[49m\n\u001b[1;32m    101\u001b[0m output \u001b[38;5;241m=\u001b[39m _mathtext\u001b[38;5;241m.\u001b[39mship(box)\n\u001b[1;32m    102\u001b[0m \u001b[38;5;28;01mif\u001b[39;00m \u001b[38;5;28mself\u001b[39m\u001b[38;5;241m.\u001b[39m_output_type \u001b[38;5;241m==\u001b[39m \u001b[38;5;124m\"\u001b[39m\u001b[38;5;124mvector\u001b[39m\u001b[38;5;124m\"\u001b[39m:\n",
      "File \u001b[0;32m/Library/Frameworks/Python.framework/Versions/3.12/lib/python3.12/site-packages/matplotlib/_mathtext.py:2165\u001b[0m, in \u001b[0;36mParser.parse\u001b[0;34m(self, s, fonts_object, fontsize, dpi)\u001b[0m\n\u001b[1;32m   2162\u001b[0m     result \u001b[38;5;241m=\u001b[39m \u001b[38;5;28mself\u001b[39m\u001b[38;5;241m.\u001b[39m_expression\u001b[38;5;241m.\u001b[39mparseString(s)\n\u001b[1;32m   2163\u001b[0m \u001b[38;5;28;01mexcept\u001b[39;00m ParseBaseException \u001b[38;5;28;01mas\u001b[39;00m err:\n\u001b[1;32m   2164\u001b[0m     \u001b[38;5;66;03m# explain becomes a plain method on pyparsing 3 (err.explain(0)).\u001b[39;00m\n\u001b[0;32m-> 2165\u001b[0m     \u001b[38;5;28;01mraise\u001b[39;00m \u001b[38;5;167;01mValueError\u001b[39;00m(\u001b[38;5;124m\"\u001b[39m\u001b[38;5;130;01m\\n\u001b[39;00m\u001b[38;5;124m\"\u001b[39m \u001b[38;5;241m+\u001b[39m ParseException\u001b[38;5;241m.\u001b[39mexplain(err, \u001b[38;5;241m0\u001b[39m)) \u001b[38;5;28;01mfrom\u001b[39;00m \u001b[38;5;28;01mNone\u001b[39;00m\n\u001b[1;32m   2166\u001b[0m \u001b[38;5;28mself\u001b[39m\u001b[38;5;241m.\u001b[39m_state_stack \u001b[38;5;241m=\u001b[39m []\n\u001b[1;32m   2167\u001b[0m \u001b[38;5;28mself\u001b[39m\u001b[38;5;241m.\u001b[39m_in_subscript_or_superscript \u001b[38;5;241m=\u001b[39m \u001b[38;5;28;01mFalse\u001b[39;00m\n",
      "\u001b[0;31mValueError\u001b[0m: \n$Sag240109}$\n^\nParseException: Expected end of text, found '$'  (at char 0), (line:1, col:1)"
     ]
    },
    {
     "ename": "ValueError",
     "evalue": "\n$Sag240109}$\n^\nParseException: Expected end of text, found '$'  (at char 0), (line:1, col:1)",
     "output_type": "error",
     "traceback": [
      "\u001b[0;31m---------------------------------------------------------------------------\u001b[0m",
      "\u001b[0;31mValueError\u001b[0m                                Traceback (most recent call last)",
      "File \u001b[0;32m/Library/Frameworks/Python.framework/Versions/3.12/lib/python3.12/site-packages/IPython/core/formatters.py:343\u001b[0m, in \u001b[0;36mBaseFormatter.__call__\u001b[0;34m(self, obj)\u001b[0m\n\u001b[1;32m    341\u001b[0m     \u001b[38;5;28;01mpass\u001b[39;00m\n\u001b[1;32m    342\u001b[0m \u001b[38;5;28;01melse\u001b[39;00m:\n\u001b[0;32m--> 343\u001b[0m     \u001b[38;5;28;01mreturn\u001b[39;00m \u001b[43mprinter\u001b[49m\u001b[43m(\u001b[49m\u001b[43mobj\u001b[49m\u001b[43m)\u001b[49m\n\u001b[1;32m    344\u001b[0m \u001b[38;5;66;03m# Finally look for special method names\u001b[39;00m\n\u001b[1;32m    345\u001b[0m method \u001b[38;5;241m=\u001b[39m get_real_method(obj, \u001b[38;5;28mself\u001b[39m\u001b[38;5;241m.\u001b[39mprint_method)\n",
      "File \u001b[0;32m/Library/Frameworks/Python.framework/Versions/3.12/lib/python3.12/site-packages/IPython/core/pylabtools.py:170\u001b[0m, in \u001b[0;36mprint_figure\u001b[0;34m(fig, fmt, bbox_inches, base64, **kwargs)\u001b[0m\n\u001b[1;32m    167\u001b[0m     \u001b[38;5;28;01mfrom\u001b[39;00m \u001b[38;5;21;01mmatplotlib\u001b[39;00m\u001b[38;5;21;01m.\u001b[39;00m\u001b[38;5;21;01mbackend_bases\u001b[39;00m \u001b[38;5;28;01mimport\u001b[39;00m FigureCanvasBase\n\u001b[1;32m    168\u001b[0m     FigureCanvasBase(fig)\n\u001b[0;32m--> 170\u001b[0m \u001b[43mfig\u001b[49m\u001b[38;5;241;43m.\u001b[39;49m\u001b[43mcanvas\u001b[49m\u001b[38;5;241;43m.\u001b[39;49m\u001b[43mprint_figure\u001b[49m\u001b[43m(\u001b[49m\u001b[43mbytes_io\u001b[49m\u001b[43m,\u001b[49m\u001b[43m \u001b[49m\u001b[38;5;241;43m*\u001b[39;49m\u001b[38;5;241;43m*\u001b[39;49m\u001b[43mkw\u001b[49m\u001b[43m)\u001b[49m\n\u001b[1;32m    171\u001b[0m data \u001b[38;5;241m=\u001b[39m bytes_io\u001b[38;5;241m.\u001b[39mgetvalue()\n\u001b[1;32m    172\u001b[0m \u001b[38;5;28;01mif\u001b[39;00m fmt \u001b[38;5;241m==\u001b[39m \u001b[38;5;124m'\u001b[39m\u001b[38;5;124msvg\u001b[39m\u001b[38;5;124m'\u001b[39m:\n",
      "File \u001b[0;32m/Library/Frameworks/Python.framework/Versions/3.12/lib/python3.12/site-packages/matplotlib/backend_bases.py:2164\u001b[0m, in \u001b[0;36mFigureCanvasBase.print_figure\u001b[0;34m(self, filename, dpi, facecolor, edgecolor, orientation, format, bbox_inches, pad_inches, bbox_extra_artists, backend, **kwargs)\u001b[0m\n\u001b[1;32m   2161\u001b[0m     \u001b[38;5;66;03m# we do this instead of `self.figure.draw_without_rendering`\u001b[39;00m\n\u001b[1;32m   2162\u001b[0m     \u001b[38;5;66;03m# so that we can inject the orientation\u001b[39;00m\n\u001b[1;32m   2163\u001b[0m     \u001b[38;5;28;01mwith\u001b[39;00m \u001b[38;5;28mgetattr\u001b[39m(renderer, \u001b[38;5;124m\"\u001b[39m\u001b[38;5;124m_draw_disabled\u001b[39m\u001b[38;5;124m\"\u001b[39m, nullcontext)():\n\u001b[0;32m-> 2164\u001b[0m         \u001b[38;5;28;43mself\u001b[39;49m\u001b[38;5;241;43m.\u001b[39;49m\u001b[43mfigure\u001b[49m\u001b[38;5;241;43m.\u001b[39;49m\u001b[43mdraw\u001b[49m\u001b[43m(\u001b[49m\u001b[43mrenderer\u001b[49m\u001b[43m)\u001b[49m\n\u001b[1;32m   2165\u001b[0m \u001b[38;5;28;01mif\u001b[39;00m bbox_inches:\n\u001b[1;32m   2166\u001b[0m     \u001b[38;5;28;01mif\u001b[39;00m bbox_inches \u001b[38;5;241m==\u001b[39m \u001b[38;5;124m\"\u001b[39m\u001b[38;5;124mtight\u001b[39m\u001b[38;5;124m\"\u001b[39m:\n",
      "File \u001b[0;32m/Library/Frameworks/Python.framework/Versions/3.12/lib/python3.12/site-packages/matplotlib/artist.py:95\u001b[0m, in \u001b[0;36m_finalize_rasterization.<locals>.draw_wrapper\u001b[0;34m(artist, renderer, *args, **kwargs)\u001b[0m\n\u001b[1;32m     93\u001b[0m \u001b[38;5;129m@wraps\u001b[39m(draw)\n\u001b[1;32m     94\u001b[0m \u001b[38;5;28;01mdef\u001b[39;00m \u001b[38;5;21mdraw_wrapper\u001b[39m(artist, renderer, \u001b[38;5;241m*\u001b[39margs, \u001b[38;5;241m*\u001b[39m\u001b[38;5;241m*\u001b[39mkwargs):\n\u001b[0;32m---> 95\u001b[0m     result \u001b[38;5;241m=\u001b[39m \u001b[43mdraw\u001b[49m\u001b[43m(\u001b[49m\u001b[43martist\u001b[49m\u001b[43m,\u001b[49m\u001b[43m \u001b[49m\u001b[43mrenderer\u001b[49m\u001b[43m,\u001b[49m\u001b[43m \u001b[49m\u001b[38;5;241;43m*\u001b[39;49m\u001b[43margs\u001b[49m\u001b[43m,\u001b[49m\u001b[43m \u001b[49m\u001b[38;5;241;43m*\u001b[39;49m\u001b[38;5;241;43m*\u001b[39;49m\u001b[43mkwargs\u001b[49m\u001b[43m)\u001b[49m\n\u001b[1;32m     96\u001b[0m     \u001b[38;5;28;01mif\u001b[39;00m renderer\u001b[38;5;241m.\u001b[39m_rasterizing:\n\u001b[1;32m     97\u001b[0m         renderer\u001b[38;5;241m.\u001b[39mstop_rasterizing()\n",
      "File \u001b[0;32m/Library/Frameworks/Python.framework/Versions/3.12/lib/python3.12/site-packages/matplotlib/artist.py:72\u001b[0m, in \u001b[0;36mallow_rasterization.<locals>.draw_wrapper\u001b[0;34m(artist, renderer)\u001b[0m\n\u001b[1;32m     69\u001b[0m     \u001b[38;5;28;01mif\u001b[39;00m artist\u001b[38;5;241m.\u001b[39mget_agg_filter() \u001b[38;5;129;01mis\u001b[39;00m \u001b[38;5;129;01mnot\u001b[39;00m \u001b[38;5;28;01mNone\u001b[39;00m:\n\u001b[1;32m     70\u001b[0m         renderer\u001b[38;5;241m.\u001b[39mstart_filter()\n\u001b[0;32m---> 72\u001b[0m     \u001b[38;5;28;01mreturn\u001b[39;00m \u001b[43mdraw\u001b[49m\u001b[43m(\u001b[49m\u001b[43martist\u001b[49m\u001b[43m,\u001b[49m\u001b[43m \u001b[49m\u001b[43mrenderer\u001b[49m\u001b[43m)\u001b[49m\n\u001b[1;32m     73\u001b[0m \u001b[38;5;28;01mfinally\u001b[39;00m:\n\u001b[1;32m     74\u001b[0m     \u001b[38;5;28;01mif\u001b[39;00m artist\u001b[38;5;241m.\u001b[39mget_agg_filter() \u001b[38;5;129;01mis\u001b[39;00m \u001b[38;5;129;01mnot\u001b[39;00m \u001b[38;5;28;01mNone\u001b[39;00m:\n",
      "File \u001b[0;32m/Library/Frameworks/Python.framework/Versions/3.12/lib/python3.12/site-packages/matplotlib/figure.py:3154\u001b[0m, in \u001b[0;36mFigure.draw\u001b[0;34m(self, renderer)\u001b[0m\n\u001b[1;32m   3151\u001b[0m         \u001b[38;5;66;03m# ValueError can occur when resizing a window.\u001b[39;00m\n\u001b[1;32m   3153\u001b[0m \u001b[38;5;28mself\u001b[39m\u001b[38;5;241m.\u001b[39mpatch\u001b[38;5;241m.\u001b[39mdraw(renderer)\n\u001b[0;32m-> 3154\u001b[0m \u001b[43mmimage\u001b[49m\u001b[38;5;241;43m.\u001b[39;49m\u001b[43m_draw_list_compositing_images\u001b[49m\u001b[43m(\u001b[49m\n\u001b[1;32m   3155\u001b[0m \u001b[43m    \u001b[49m\u001b[43mrenderer\u001b[49m\u001b[43m,\u001b[49m\u001b[43m \u001b[49m\u001b[38;5;28;43mself\u001b[39;49m\u001b[43m,\u001b[49m\u001b[43m \u001b[49m\u001b[43martists\u001b[49m\u001b[43m,\u001b[49m\u001b[43m \u001b[49m\u001b[38;5;28;43mself\u001b[39;49m\u001b[38;5;241;43m.\u001b[39;49m\u001b[43msuppressComposite\u001b[49m\u001b[43m)\u001b[49m\n\u001b[1;32m   3157\u001b[0m \u001b[38;5;28;01mfor\u001b[39;00m sfig \u001b[38;5;129;01min\u001b[39;00m \u001b[38;5;28mself\u001b[39m\u001b[38;5;241m.\u001b[39msubfigs:\n\u001b[1;32m   3158\u001b[0m     sfig\u001b[38;5;241m.\u001b[39mdraw(renderer)\n",
      "File \u001b[0;32m/Library/Frameworks/Python.framework/Versions/3.12/lib/python3.12/site-packages/matplotlib/image.py:132\u001b[0m, in \u001b[0;36m_draw_list_compositing_images\u001b[0;34m(renderer, parent, artists, suppress_composite)\u001b[0m\n\u001b[1;32m    130\u001b[0m \u001b[38;5;28;01mif\u001b[39;00m not_composite \u001b[38;5;129;01mor\u001b[39;00m \u001b[38;5;129;01mnot\u001b[39;00m has_images:\n\u001b[1;32m    131\u001b[0m     \u001b[38;5;28;01mfor\u001b[39;00m a \u001b[38;5;129;01min\u001b[39;00m artists:\n\u001b[0;32m--> 132\u001b[0m         \u001b[43ma\u001b[49m\u001b[38;5;241;43m.\u001b[39;49m\u001b[43mdraw\u001b[49m\u001b[43m(\u001b[49m\u001b[43mrenderer\u001b[49m\u001b[43m)\u001b[49m\n\u001b[1;32m    133\u001b[0m \u001b[38;5;28;01melse\u001b[39;00m:\n\u001b[1;32m    134\u001b[0m     \u001b[38;5;66;03m# Composite any adjacent images together\u001b[39;00m\n\u001b[1;32m    135\u001b[0m     image_group \u001b[38;5;241m=\u001b[39m []\n",
      "File \u001b[0;32m/Library/Frameworks/Python.framework/Versions/3.12/lib/python3.12/site-packages/matplotlib/artist.py:72\u001b[0m, in \u001b[0;36mallow_rasterization.<locals>.draw_wrapper\u001b[0;34m(artist, renderer)\u001b[0m\n\u001b[1;32m     69\u001b[0m     \u001b[38;5;28;01mif\u001b[39;00m artist\u001b[38;5;241m.\u001b[39mget_agg_filter() \u001b[38;5;129;01mis\u001b[39;00m \u001b[38;5;129;01mnot\u001b[39;00m \u001b[38;5;28;01mNone\u001b[39;00m:\n\u001b[1;32m     70\u001b[0m         renderer\u001b[38;5;241m.\u001b[39mstart_filter()\n\u001b[0;32m---> 72\u001b[0m     \u001b[38;5;28;01mreturn\u001b[39;00m \u001b[43mdraw\u001b[49m\u001b[43m(\u001b[49m\u001b[43martist\u001b[49m\u001b[43m,\u001b[49m\u001b[43m \u001b[49m\u001b[43mrenderer\u001b[49m\u001b[43m)\u001b[49m\n\u001b[1;32m     73\u001b[0m \u001b[38;5;28;01mfinally\u001b[39;00m:\n\u001b[1;32m     74\u001b[0m     \u001b[38;5;28;01mif\u001b[39;00m artist\u001b[38;5;241m.\u001b[39mget_agg_filter() \u001b[38;5;129;01mis\u001b[39;00m \u001b[38;5;129;01mnot\u001b[39;00m \u001b[38;5;28;01mNone\u001b[39;00m:\n",
      "File \u001b[0;32m/Library/Frameworks/Python.framework/Versions/3.12/lib/python3.12/site-packages/matplotlib/axes/_base.py:3070\u001b[0m, in \u001b[0;36m_AxesBase.draw\u001b[0;34m(self, renderer)\u001b[0m\n\u001b[1;32m   3067\u001b[0m \u001b[38;5;28;01mif\u001b[39;00m artists_rasterized:\n\u001b[1;32m   3068\u001b[0m     _draw_rasterized(\u001b[38;5;28mself\u001b[39m\u001b[38;5;241m.\u001b[39mfigure, artists_rasterized, renderer)\n\u001b[0;32m-> 3070\u001b[0m \u001b[43mmimage\u001b[49m\u001b[38;5;241;43m.\u001b[39;49m\u001b[43m_draw_list_compositing_images\u001b[49m\u001b[43m(\u001b[49m\n\u001b[1;32m   3071\u001b[0m \u001b[43m    \u001b[49m\u001b[43mrenderer\u001b[49m\u001b[43m,\u001b[49m\u001b[43m \u001b[49m\u001b[38;5;28;43mself\u001b[39;49m\u001b[43m,\u001b[49m\u001b[43m \u001b[49m\u001b[43martists\u001b[49m\u001b[43m,\u001b[49m\u001b[43m \u001b[49m\u001b[38;5;28;43mself\u001b[39;49m\u001b[38;5;241;43m.\u001b[39;49m\u001b[43mfigure\u001b[49m\u001b[38;5;241;43m.\u001b[39;49m\u001b[43msuppressComposite\u001b[49m\u001b[43m)\u001b[49m\n\u001b[1;32m   3073\u001b[0m renderer\u001b[38;5;241m.\u001b[39mclose_group(\u001b[38;5;124m'\u001b[39m\u001b[38;5;124maxes\u001b[39m\u001b[38;5;124m'\u001b[39m)\n\u001b[1;32m   3074\u001b[0m \u001b[38;5;28mself\u001b[39m\u001b[38;5;241m.\u001b[39mstale \u001b[38;5;241m=\u001b[39m \u001b[38;5;28;01mFalse\u001b[39;00m\n",
      "File \u001b[0;32m/Library/Frameworks/Python.framework/Versions/3.12/lib/python3.12/site-packages/matplotlib/image.py:132\u001b[0m, in \u001b[0;36m_draw_list_compositing_images\u001b[0;34m(renderer, parent, artists, suppress_composite)\u001b[0m\n\u001b[1;32m    130\u001b[0m \u001b[38;5;28;01mif\u001b[39;00m not_composite \u001b[38;5;129;01mor\u001b[39;00m \u001b[38;5;129;01mnot\u001b[39;00m has_images:\n\u001b[1;32m    131\u001b[0m     \u001b[38;5;28;01mfor\u001b[39;00m a \u001b[38;5;129;01min\u001b[39;00m artists:\n\u001b[0;32m--> 132\u001b[0m         \u001b[43ma\u001b[49m\u001b[38;5;241;43m.\u001b[39;49m\u001b[43mdraw\u001b[49m\u001b[43m(\u001b[49m\u001b[43mrenderer\u001b[49m\u001b[43m)\u001b[49m\n\u001b[1;32m    133\u001b[0m \u001b[38;5;28;01melse\u001b[39;00m:\n\u001b[1;32m    134\u001b[0m     \u001b[38;5;66;03m# Composite any adjacent images together\u001b[39;00m\n\u001b[1;32m    135\u001b[0m     image_group \u001b[38;5;241m=\u001b[39m []\n",
      "File \u001b[0;32m/Library/Frameworks/Python.framework/Versions/3.12/lib/python3.12/site-packages/matplotlib/artist.py:72\u001b[0m, in \u001b[0;36mallow_rasterization.<locals>.draw_wrapper\u001b[0;34m(artist, renderer)\u001b[0m\n\u001b[1;32m     69\u001b[0m     \u001b[38;5;28;01mif\u001b[39;00m artist\u001b[38;5;241m.\u001b[39mget_agg_filter() \u001b[38;5;129;01mis\u001b[39;00m \u001b[38;5;129;01mnot\u001b[39;00m \u001b[38;5;28;01mNone\u001b[39;00m:\n\u001b[1;32m     70\u001b[0m         renderer\u001b[38;5;241m.\u001b[39mstart_filter()\n\u001b[0;32m---> 72\u001b[0m     \u001b[38;5;28;01mreturn\u001b[39;00m \u001b[43mdraw\u001b[49m\u001b[43m(\u001b[49m\u001b[43martist\u001b[49m\u001b[43m,\u001b[49m\u001b[43m \u001b[49m\u001b[43mrenderer\u001b[49m\u001b[43m)\u001b[49m\n\u001b[1;32m     73\u001b[0m \u001b[38;5;28;01mfinally\u001b[39;00m:\n\u001b[1;32m     74\u001b[0m     \u001b[38;5;28;01mif\u001b[39;00m artist\u001b[38;5;241m.\u001b[39mget_agg_filter() \u001b[38;5;129;01mis\u001b[39;00m \u001b[38;5;129;01mnot\u001b[39;00m \u001b[38;5;28;01mNone\u001b[39;00m:\n",
      "File \u001b[0;32m/Library/Frameworks/Python.framework/Versions/3.12/lib/python3.12/site-packages/matplotlib/text.py:748\u001b[0m, in \u001b[0;36mText.draw\u001b[0;34m(self, renderer)\u001b[0m\n\u001b[1;32m    745\u001b[0m renderer\u001b[38;5;241m.\u001b[39mopen_group(\u001b[38;5;124m'\u001b[39m\u001b[38;5;124mtext\u001b[39m\u001b[38;5;124m'\u001b[39m, \u001b[38;5;28mself\u001b[39m\u001b[38;5;241m.\u001b[39mget_gid())\n\u001b[1;32m    747\u001b[0m \u001b[38;5;28;01mwith\u001b[39;00m \u001b[38;5;28mself\u001b[39m\u001b[38;5;241m.\u001b[39m_cm_set(text\u001b[38;5;241m=\u001b[39m\u001b[38;5;28mself\u001b[39m\u001b[38;5;241m.\u001b[39m_get_wrapped_text()):\n\u001b[0;32m--> 748\u001b[0m     bbox, info, descent \u001b[38;5;241m=\u001b[39m \u001b[38;5;28;43mself\u001b[39;49m\u001b[38;5;241;43m.\u001b[39;49m\u001b[43m_get_layout\u001b[49m\u001b[43m(\u001b[49m\u001b[43mrenderer\u001b[49m\u001b[43m)\u001b[49m\n\u001b[1;32m    749\u001b[0m     trans \u001b[38;5;241m=\u001b[39m \u001b[38;5;28mself\u001b[39m\u001b[38;5;241m.\u001b[39mget_transform()\n\u001b[1;32m    751\u001b[0m     \u001b[38;5;66;03m# don't use self.get_position here, which refers to text\u001b[39;00m\n\u001b[1;32m    752\u001b[0m     \u001b[38;5;66;03m# position in Text:\u001b[39;00m\n",
      "File \u001b[0;32m/Library/Frameworks/Python.framework/Versions/3.12/lib/python3.12/site-packages/matplotlib/text.py:381\u001b[0m, in \u001b[0;36mText._get_layout\u001b[0;34m(self, renderer)\u001b[0m\n\u001b[1;32m    379\u001b[0m clean_line, ismath \u001b[38;5;241m=\u001b[39m \u001b[38;5;28mself\u001b[39m\u001b[38;5;241m.\u001b[39m_preprocess_math(line)\n\u001b[1;32m    380\u001b[0m \u001b[38;5;28;01mif\u001b[39;00m clean_line:\n\u001b[0;32m--> 381\u001b[0m     w, h, d \u001b[38;5;241m=\u001b[39m \u001b[43m_get_text_metrics_with_cache\u001b[49m\u001b[43m(\u001b[49m\n\u001b[1;32m    382\u001b[0m \u001b[43m        \u001b[49m\u001b[43mrenderer\u001b[49m\u001b[43m,\u001b[49m\u001b[43m \u001b[49m\u001b[43mclean_line\u001b[49m\u001b[43m,\u001b[49m\u001b[43m \u001b[49m\u001b[38;5;28;43mself\u001b[39;49m\u001b[38;5;241;43m.\u001b[39;49m\u001b[43m_fontproperties\u001b[49m\u001b[43m,\u001b[49m\n\u001b[1;32m    383\u001b[0m \u001b[43m        \u001b[49m\u001b[43mismath\u001b[49m\u001b[38;5;241;43m=\u001b[39;49m\u001b[43mismath\u001b[49m\u001b[43m,\u001b[49m\u001b[43m \u001b[49m\u001b[43mdpi\u001b[49m\u001b[38;5;241;43m=\u001b[39;49m\u001b[38;5;28;43mself\u001b[39;49m\u001b[38;5;241;43m.\u001b[39;49m\u001b[43mfigure\u001b[49m\u001b[38;5;241;43m.\u001b[39;49m\u001b[43mdpi\u001b[49m\u001b[43m)\u001b[49m\n\u001b[1;32m    384\u001b[0m \u001b[38;5;28;01melse\u001b[39;00m:\n\u001b[1;32m    385\u001b[0m     w \u001b[38;5;241m=\u001b[39m h \u001b[38;5;241m=\u001b[39m d \u001b[38;5;241m=\u001b[39m \u001b[38;5;241m0\u001b[39m\n",
      "File \u001b[0;32m/Library/Frameworks/Python.framework/Versions/3.12/lib/python3.12/site-packages/matplotlib/text.py:69\u001b[0m, in \u001b[0;36m_get_text_metrics_with_cache\u001b[0;34m(renderer, text, fontprop, ismath, dpi)\u001b[0m\n\u001b[1;32m     66\u001b[0m \u001b[38;5;250m\u001b[39m\u001b[38;5;124;03m\"\"\"Call ``renderer.get_text_width_height_descent``, caching the results.\"\"\"\u001b[39;00m\n\u001b[1;32m     67\u001b[0m \u001b[38;5;66;03m# Cached based on a copy of fontprop so that later in-place mutations of\u001b[39;00m\n\u001b[1;32m     68\u001b[0m \u001b[38;5;66;03m# the passed-in argument do not mess up the cache.\u001b[39;00m\n\u001b[0;32m---> 69\u001b[0m \u001b[38;5;28;01mreturn\u001b[39;00m \u001b[43m_get_text_metrics_with_cache_impl\u001b[49m\u001b[43m(\u001b[49m\n\u001b[1;32m     70\u001b[0m \u001b[43m    \u001b[49m\u001b[43mweakref\u001b[49m\u001b[38;5;241;43m.\u001b[39;49m\u001b[43mref\u001b[49m\u001b[43m(\u001b[49m\u001b[43mrenderer\u001b[49m\u001b[43m)\u001b[49m\u001b[43m,\u001b[49m\u001b[43m \u001b[49m\u001b[43mtext\u001b[49m\u001b[43m,\u001b[49m\u001b[43m \u001b[49m\u001b[43mfontprop\u001b[49m\u001b[38;5;241;43m.\u001b[39;49m\u001b[43mcopy\u001b[49m\u001b[43m(\u001b[49m\u001b[43m)\u001b[49m\u001b[43m,\u001b[49m\u001b[43m \u001b[49m\u001b[43mismath\u001b[49m\u001b[43m,\u001b[49m\u001b[43m \u001b[49m\u001b[43mdpi\u001b[49m\u001b[43m)\u001b[49m\n",
      "File \u001b[0;32m/Library/Frameworks/Python.framework/Versions/3.12/lib/python3.12/site-packages/matplotlib/text.py:77\u001b[0m, in \u001b[0;36m_get_text_metrics_with_cache_impl\u001b[0;34m(renderer_ref, text, fontprop, ismath, dpi)\u001b[0m\n\u001b[1;32m     73\u001b[0m \u001b[38;5;129m@functools\u001b[39m\u001b[38;5;241m.\u001b[39mlru_cache(\u001b[38;5;241m4096\u001b[39m)\n\u001b[1;32m     74\u001b[0m \u001b[38;5;28;01mdef\u001b[39;00m \u001b[38;5;21m_get_text_metrics_with_cache_impl\u001b[39m(\n\u001b[1;32m     75\u001b[0m         renderer_ref, text, fontprop, ismath, dpi):\n\u001b[1;32m     76\u001b[0m     \u001b[38;5;66;03m# dpi is unused, but participates in cache invalidation (via the renderer).\u001b[39;00m\n\u001b[0;32m---> 77\u001b[0m     \u001b[38;5;28;01mreturn\u001b[39;00m \u001b[43mrenderer_ref\u001b[49m\u001b[43m(\u001b[49m\u001b[43m)\u001b[49m\u001b[38;5;241;43m.\u001b[39;49m\u001b[43mget_text_width_height_descent\u001b[49m\u001b[43m(\u001b[49m\u001b[43mtext\u001b[49m\u001b[43m,\u001b[49m\u001b[43m \u001b[49m\u001b[43mfontprop\u001b[49m\u001b[43m,\u001b[49m\u001b[43m \u001b[49m\u001b[43mismath\u001b[49m\u001b[43m)\u001b[49m\n",
      "File \u001b[0;32m/Library/Frameworks/Python.framework/Versions/3.12/lib/python3.12/site-packages/matplotlib/backends/backend_agg.py:217\u001b[0m, in \u001b[0;36mRendererAgg.get_text_width_height_descent\u001b[0;34m(self, s, prop, ismath)\u001b[0m\n\u001b[1;32m    213\u001b[0m     \u001b[38;5;28;01mreturn\u001b[39;00m \u001b[38;5;28msuper\u001b[39m()\u001b[38;5;241m.\u001b[39mget_text_width_height_descent(s, prop, ismath)\n\u001b[1;32m    215\u001b[0m \u001b[38;5;28;01mif\u001b[39;00m ismath:\n\u001b[1;32m    216\u001b[0m     ox, oy, width, height, descent, font_image \u001b[38;5;241m=\u001b[39m \\\n\u001b[0;32m--> 217\u001b[0m         \u001b[38;5;28;43mself\u001b[39;49m\u001b[38;5;241;43m.\u001b[39;49m\u001b[43mmathtext_parser\u001b[49m\u001b[38;5;241;43m.\u001b[39;49m\u001b[43mparse\u001b[49m\u001b[43m(\u001b[49m\u001b[43ms\u001b[49m\u001b[43m,\u001b[49m\u001b[43m \u001b[49m\u001b[38;5;28;43mself\u001b[39;49m\u001b[38;5;241;43m.\u001b[39;49m\u001b[43mdpi\u001b[49m\u001b[43m,\u001b[49m\u001b[43m \u001b[49m\u001b[43mprop\u001b[49m\u001b[43m)\u001b[49m\n\u001b[1;32m    218\u001b[0m     \u001b[38;5;28;01mreturn\u001b[39;00m width, height, descent\n\u001b[1;32m    220\u001b[0m font \u001b[38;5;241m=\u001b[39m \u001b[38;5;28mself\u001b[39m\u001b[38;5;241m.\u001b[39m_prepare_font(prop)\n",
      "File \u001b[0;32m/Library/Frameworks/Python.framework/Versions/3.12/lib/python3.12/site-packages/matplotlib/mathtext.py:79\u001b[0m, in \u001b[0;36mMathTextParser.parse\u001b[0;34m(self, s, dpi, prop, antialiased)\u001b[0m\n\u001b[1;32m     77\u001b[0m prop \u001b[38;5;241m=\u001b[39m prop\u001b[38;5;241m.\u001b[39mcopy() \u001b[38;5;28;01mif\u001b[39;00m prop \u001b[38;5;129;01mis\u001b[39;00m \u001b[38;5;129;01mnot\u001b[39;00m \u001b[38;5;28;01mNone\u001b[39;00m \u001b[38;5;28;01melse\u001b[39;00m \u001b[38;5;28;01mNone\u001b[39;00m\n\u001b[1;32m     78\u001b[0m antialiased \u001b[38;5;241m=\u001b[39m mpl\u001b[38;5;241m.\u001b[39m_val_or_rc(antialiased, \u001b[38;5;124m'\u001b[39m\u001b[38;5;124mtext.antialiased\u001b[39m\u001b[38;5;124m'\u001b[39m)\n\u001b[0;32m---> 79\u001b[0m \u001b[38;5;28;01mreturn\u001b[39;00m \u001b[38;5;28;43mself\u001b[39;49m\u001b[38;5;241;43m.\u001b[39;49m\u001b[43m_parse_cached\u001b[49m\u001b[43m(\u001b[49m\u001b[43ms\u001b[49m\u001b[43m,\u001b[49m\u001b[43m \u001b[49m\u001b[43mdpi\u001b[49m\u001b[43m,\u001b[49m\u001b[43m \u001b[49m\u001b[43mprop\u001b[49m\u001b[43m,\u001b[49m\u001b[43m \u001b[49m\u001b[43mantialiased\u001b[49m\u001b[43m)\u001b[49m\n",
      "File \u001b[0;32m/Library/Frameworks/Python.framework/Versions/3.12/lib/python3.12/site-packages/matplotlib/mathtext.py:100\u001b[0m, in \u001b[0;36mMathTextParser._parse_cached\u001b[0;34m(self, s, dpi, prop, antialiased)\u001b[0m\n\u001b[1;32m     97\u001b[0m \u001b[38;5;28;01mif\u001b[39;00m \u001b[38;5;28mself\u001b[39m\u001b[38;5;241m.\u001b[39m_parser \u001b[38;5;129;01mis\u001b[39;00m \u001b[38;5;28;01mNone\u001b[39;00m:  \u001b[38;5;66;03m# Cache the parser globally.\u001b[39;00m\n\u001b[1;32m     98\u001b[0m     \u001b[38;5;28mself\u001b[39m\u001b[38;5;241m.\u001b[39m\u001b[38;5;18m__class__\u001b[39m\u001b[38;5;241m.\u001b[39m_parser \u001b[38;5;241m=\u001b[39m _mathtext\u001b[38;5;241m.\u001b[39mParser()\n\u001b[0;32m--> 100\u001b[0m box \u001b[38;5;241m=\u001b[39m \u001b[38;5;28;43mself\u001b[39;49m\u001b[38;5;241;43m.\u001b[39;49m\u001b[43m_parser\u001b[49m\u001b[38;5;241;43m.\u001b[39;49m\u001b[43mparse\u001b[49m\u001b[43m(\u001b[49m\u001b[43ms\u001b[49m\u001b[43m,\u001b[49m\u001b[43m \u001b[49m\u001b[43mfontset\u001b[49m\u001b[43m,\u001b[49m\u001b[43m \u001b[49m\u001b[43mfontsize\u001b[49m\u001b[43m,\u001b[49m\u001b[43m \u001b[49m\u001b[43mdpi\u001b[49m\u001b[43m)\u001b[49m\n\u001b[1;32m    101\u001b[0m output \u001b[38;5;241m=\u001b[39m _mathtext\u001b[38;5;241m.\u001b[39mship(box)\n\u001b[1;32m    102\u001b[0m \u001b[38;5;28;01mif\u001b[39;00m \u001b[38;5;28mself\u001b[39m\u001b[38;5;241m.\u001b[39m_output_type \u001b[38;5;241m==\u001b[39m \u001b[38;5;124m\"\u001b[39m\u001b[38;5;124mvector\u001b[39m\u001b[38;5;124m\"\u001b[39m:\n",
      "File \u001b[0;32m/Library/Frameworks/Python.framework/Versions/3.12/lib/python3.12/site-packages/matplotlib/_mathtext.py:2165\u001b[0m, in \u001b[0;36mParser.parse\u001b[0;34m(self, s, fonts_object, fontsize, dpi)\u001b[0m\n\u001b[1;32m   2162\u001b[0m     result \u001b[38;5;241m=\u001b[39m \u001b[38;5;28mself\u001b[39m\u001b[38;5;241m.\u001b[39m_expression\u001b[38;5;241m.\u001b[39mparseString(s)\n\u001b[1;32m   2163\u001b[0m \u001b[38;5;28;01mexcept\u001b[39;00m ParseBaseException \u001b[38;5;28;01mas\u001b[39;00m err:\n\u001b[1;32m   2164\u001b[0m     \u001b[38;5;66;03m# explain becomes a plain method on pyparsing 3 (err.explain(0)).\u001b[39;00m\n\u001b[0;32m-> 2165\u001b[0m     \u001b[38;5;28;01mraise\u001b[39;00m \u001b[38;5;167;01mValueError\u001b[39;00m(\u001b[38;5;124m\"\u001b[39m\u001b[38;5;130;01m\\n\u001b[39;00m\u001b[38;5;124m\"\u001b[39m \u001b[38;5;241m+\u001b[39m ParseException\u001b[38;5;241m.\u001b[39mexplain(err, \u001b[38;5;241m0\u001b[39m)) \u001b[38;5;28;01mfrom\u001b[39;00m \u001b[38;5;28;01mNone\u001b[39;00m\n\u001b[1;32m   2166\u001b[0m \u001b[38;5;28mself\u001b[39m\u001b[38;5;241m.\u001b[39m_state_stack \u001b[38;5;241m=\u001b[39m []\n\u001b[1;32m   2167\u001b[0m \u001b[38;5;28mself\u001b[39m\u001b[38;5;241m.\u001b[39m_in_subscript_or_superscript \u001b[38;5;241m=\u001b[39m \u001b[38;5;28;01mFalse\u001b[39;00m\n",
      "\u001b[0;31mValueError\u001b[0m: \n$Sag240109}$\n^\nParseException: Expected end of text, found '$'  (at char 0), (line:1, col:1)"
     ]
    },
    {
     "data": {
      "text/plain": [
       "<Figure size 2000x2000 with 1 Axes>"
      ]
     },
     "metadata": {},
     "output_type": "display_data"
    }
   ],
   "source": [
    "ax,figs = represent_waypoints(gpx,109,150)\n",
    "#graphes.save_figs(figs,savedir=savefolder,prefix='Carte_Generale',suffix='labeled',frmt='pdf',overwrite=True)"
   ]
  },
  {
   "cell_type": "code",
   "execution_count": null,
   "metadata": {},
   "outputs": [],
   "source": []
  },
  {
   "cell_type": "code",
   "execution_count": 261,
   "metadata": {},
   "outputs": [
    {
     "data": {
      "text/plain": [
       "GPXWaypoint(48.365506, -70.697383, elevation=1.292548, time=datetime.datetime(2024, 2, 10, 12, 21, 46, tzinfo=SimpleTZ(\"Z\")), name='Sag240063', symbol='Flag, Blue')"
      ]
     },
     "execution_count": 261,
     "metadata": {},
     "output_type": "execute_result"
    }
   ],
   "source": [
    "gpx.waypoints[0]"
   ]
  },
  {
   "cell_type": "code",
   "execution_count": null,
   "metadata": {},
   "outputs": [],
   "source": []
  },
  {
   "cell_type": "code",
   "execution_count": 56,
   "metadata": {},
   "outputs": [
    {
     "name": "stdout",
     "output_type": "stream",
     "text": [
      "[['#', 'X', 'Y', 'Z'], ['G_101', 0, 0, 0], ['G_102', 3, 0, 0], ['G_103', 6, 0, 0], ['G_104', 9, 0, 0], ['G_105', 12, 0, 0], ['G_106', 15, 0, 0], ['G_107', 18, 0, 0], ['G_108', 21, 0, 0], ['G_109', 24, 0, 0], ['G_110', 27, 0, 0], ['G_111', 30, 0, 0], ['G_112', 33, 0, 0], ['G_113', 36, 0, 0], ['G_114', 39, 0, 0], ['G_115', 42, 0, 0], ['G_116', 45, 0, 0], ['S_101', -5, 0, 0], ['S_102', -8, 0, 0], ['S_103', -11, 0, 0], ['S_104', 50, 0, 0], ['S_105', 53, 0, 0], ['S_106', 56, 0, 0]]\n",
      "[['#', 'X', 'Y', 'Z'], ['G_201', 0, 0, 0], ['G_202', 0, -3, 0], ['G_203', 0, -6, 0], ['G_204', 0, -9, 0], ['G_205', 0, -12, 0], ['G_206', 0, -15, 0], ['G_207', 0, -18, 0], ['G_208', 0, -21, 0], ['G_209', 0, -24, 0], ['G_210', 0, -27, 0], ['G_211', 0, -30, 0], ['G_212', 0, -33, 0], ['G_213', 0, -36, 0], ['G_214', 0, -39, 0], ['G_215', 0, -42, 0], ['G_216', 0, -45, 0], ['S_201', 0, 5, 0], ['S_202', 0, 8, 0], ['S_203', 0, 11, 0], ['S_204', 0, -50, 0], ['S_205', 0, -53, 0], ['S_206', 0, -56, 0]]\n",
      "[['#', 'X', 'Y', 'Z'], ['G_301', 0, -45, 0], ['G_302', 3, -45, 0], ['G_303', 6, -45, 0], ['G_304', 9, -45, 0], ['G_305', 12, -45, 0], ['G_306', 15, -45, 0], ['G_307', 18, -45, 0], ['G_308', 21, -45, 0], ['G_309', 24, -45, 0], ['G_310', 27, -45, 0], ['G_311', 30, -45, 0], ['G_312', 33, -45, 0], ['G_313', 36, -45, 0], ['G_314', 39, -45, 0], ['G_315', 42, -45, 0], ['G_316', 45, -45, 0], ['S_301', -5, -45, 0], ['S_302', -8, -45, 0], ['S_303', -11, -45, 0], ['S_304', 50, -45, 0], ['S_305', 53, -45, 0], ['S_306', 56, -45, 0]]\n"
     ]
    },
    {
     "data": {
      "image/png": "[encoded data removed]",
      "text/plain": [
       "<Figure size 720x720 with 1 Axes>"
      ]
     },
     "metadata": {
      "needs_background": "light"
     },
     "output_type": "display_data"
    }
   ],
   "source": [
    "import icewave.geometry.experiment_2024_0211 as experiment\n",
    "\n",
    "base = '/Users/stephane/Documents/git/icewave/icewave/field/Bicwin2024/Data/'\n",
    "date = '2024_0211'\n",
    "datesave=date.replace('_','/')\n",
    "\n",
    "figs,geom = experiment.Sag24_0211()\n",
    "graphes.save_figs(figs,savedir=savefolder,prefix='geometry_'+date,suffix='_general',overwrite=True)\n",
    "#print(figs)"
   ]
  },
  {
   "cell_type": "code",
   "execution_count": 287,
   "metadata": {},
   "outputs": [
    {
     "data": {
      "text/plain": [
       "[['#', 'X', 'Y', 'Z'],\n",
       " ['G_01', 0, 0, 0],\n",
       " ['G_02', 3, 0, 0],\n",
       " ['G_03', 6, 0, 0],\n",
       " ['G_04', 9, 0, 0],\n",
       " ['G_05', 12, 0, 0],\n",
       " ['G_06', 15, 0, 0],\n",
       " ['G_07', 18, 0, 0],\n",
       " ['G_08', 21, 0, 0],\n",
       " ['G_09', 24, 0, 0],\n",
       " ['G_10', 27, 0, 0],\n",
       " ['G_11', 30, 0, 0],\n",
       " ['G_12', 33, 0, 0],\n",
       " ['G_13', 36, 0, 0],\n",
       " ['G_14', 39, 0, 0],\n",
       " ['G_15', 42, 0, 0],\n",
       " ['G_16', 45, 0, 0],\n",
       " ['S_101', -5, 0, 0],\n",
       " ['S_102', -8, 0, 0],\n",
       " ['S_103', -11, 0, 0],\n",
       " ['S_104', 50, 0, 0],\n",
       " ['S_105', 53, 0, 0],\n",
       " ['S_106', 56, 0, 0],\n",
       " ['G_01', 0, 0, 0],\n",
       " ['G_02', 0, -3, 0],\n",
       " ['G_03', 0, -6, 0],\n",
       " ['G_04', 0, -9, 0],\n",
       " ['G_05', 0, -12, 0],\n",
       " ['G_06', 0, -15, 0],\n",
       " ['G_07', 0, -18, 0],\n",
       " ['G_08', 0, -21, 0],\n",
       " ['G_09', 0, -24, 0],\n",
       " ['G_10', 0, -27, 0],\n",
       " ['G_11', 0, -30, 0],\n",
       " ['G_12', 0, -33, 0],\n",
       " ['G_13', 0, -36, 0],\n",
       " ['G_14', 0, -39, 0],\n",
       " ['G_15', 0, -42, 0],\n",
       " ['G_16', 0, -45, 0],\n",
       " ['S_201', 0, 5, 0],\n",
       " ['S_202', 0, 8, 0],\n",
       " ['S_203', 0, 11, 0],\n",
       " ['S_204', 0, -50, 0],\n",
       " ['S_205', 0, -53, 0],\n",
       " ['S_206', 0, -56, 0],\n",
       " ['G_01', 0, -45, 0],\n",
       " ['G_02', 3, -45, 0],\n",
       " ['G_03', 6, -45, 0],\n",
       " ['G_04', 9, -45, 0],\n",
       " ['G_05', 12, -45, 0],\n",
       " ['G_06', 15, -45, 0],\n",
       " ['G_07', 18, -45, 0],\n",
       " ['G_08', 21, -45, 0],\n",
       " ['G_09', 24, -45, 0],\n",
       " ['G_10', 27, -45, 0],\n",
       " ['G_11', 30, -45, 0],\n",
       " ['G_12', 33, -45, 0],\n",
       " ['G_13', 36, -45, 0],\n",
       " ['G_14', 39, -45, 0],\n",
       " ['G_15', 42, -45, 0],\n",
       " ['G_16', 45, -45, 0],\n",
       " ['S_301', -5, -45, 0],\n",
       " ['S_302', -8, -45, 0],\n",
       " ['S_303', -11, -45, 0],\n",
       " ['S_304', 50, -45, 0],\n",
       " ['S_305', 53, -45, 0],\n",
       " ['S_306', 56, -45, 0],\n",
       " ['T_01', 0, 0, 0],\n",
       " ['T_06', 0, 0, 0],\n",
       " ['T_07', 0, 0, 0],\n",
       " ['T_13', 0, 0, 0],\n",
       " ['T_16', 0, 0, 0],\n",
       " ['T_17', 0, 0, 0],\n",
       " ['T_18', 0, 0, 0],\n",
       " ['T_12', 0, -22.5, 0],\n",
       " ['T_04', 22.5, -22.5, 0],\n",
       " ['T_08', 0, -45, 0],\n",
       " ['T_09', 22.5, -45, 0],\n",
       " ['T_11', 45, -45, 0],\n",
       " ['B_02', 0, -22.5, 0],\n",
       " ['B_05', 22.5, -22.5, 0]]"
      ]
     },
     "execution_count": 287,
     "metadata": {},
     "output_type": "execute_result"
    }
   ],
   "source": [
    "geom"
   ]
  },
  {
   "cell_type": "code",
   "execution_count": 293,
   "metadata": {},
   "outputs": [
    {
     "name": "stdout",
     "output_type": "stream",
     "text": [
      "<map object at 0x110a2fa20>\n",
      "<map object at 0x110a7f550>\n",
      "<map object at 0x110a2f748>\n",
      "<map object at 0x110a7f7b8>\n",
      "<map object at 0x110a2fa20>\n",
      "<map object at 0x110a7f550>\n",
      "<map object at 0x110a2f748>\n",
      "<map object at 0x110a7f7b8>\n",
      "<map object at 0x110a2fa20>\n",
      "<map object at 0x110a7f550>\n",
      "<map object at 0x110a2f748>\n",
      "<map object at 0x110a7f7b8>\n",
      "<map object at 0x110a2fa20>\n",
      "<map object at 0x110a7f550>\n",
      "<map object at 0x110a2f748>\n",
      "<map object at 0x110a7f7b8>\n",
      "<map object at 0x110a2fa20>\n",
      "<map object at 0x110a7f550>\n",
      "<map object at 0x110a2f748>\n",
      "<map object at 0x110a7f7b8>\n",
      "<map object at 0x110a2fa20>\n",
      "<map object at 0x110a7f550>\n",
      "<map object at 0x110a2f748>\n",
      "<map object at 0x110a7f7b8>\n",
      "<map object at 0x110a2fa20>\n",
      "<map object at 0x110a7f550>\n",
      "<map object at 0x110a2f748>\n",
      "<map object at 0x110a7f7b8>\n",
      "<map object at 0x110a2fa20>\n",
      "<map object at 0x110a7f550>\n",
      "<map object at 0x110a2f748>\n",
      "<map object at 0x110a7f7b8>\n",
      "<map object at 0x110a2fa20>\n",
      "<map object at 0x110a7f550>\n",
      "<map object at 0x110a2f748>\n",
      "<map object at 0x110a7f7b8>\n",
      "<map object at 0x110a2fa20>\n",
      "<map object at 0x110a7f550>\n",
      "<map object at 0x110a2f748>\n",
      "<map object at 0x110a7f7b8>\n",
      "<map object at 0x110a2fa20>\n",
      "<map object at 0x110a7f550>\n",
      "<map object at 0x110a2f748>\n",
      "<map object at 0x110a7f7b8>\n",
      "<map object at 0x110a2fa20>\n",
      "<map object at 0x110a7f550>\n",
      "<map object at 0x110a2f748>\n",
      "<map object at 0x110a7f7b8>\n",
      "<map object at 0x110a2fa20>\n",
      "<map object at 0x110a7f550>\n",
      "<map object at 0x110a2f748>\n",
      "<map object at 0x110a7f7b8>\n",
      "<map object at 0x110a2fa20>\n",
      "<map object at 0x110a7f550>\n",
      "<map object at 0x110a2f748>\n",
      "<map object at 0x110a7f7b8>\n",
      "<map object at 0x110a2fa20>\n",
      "<map object at 0x110a7f550>\n",
      "<map object at 0x110a2f748>\n",
      "<map object at 0x110a7f7b8>\n",
      "<map object at 0x110a2fa20>\n",
      "<map object at 0x110a7f940>\n",
      "<map object at 0x110a2f748>\n",
      "<map object at 0x110a7f550>\n",
      "<map object at 0x110a7fb00>\n",
      "<map object at 0x110a7fdd8>\n",
      "<map object at 0x110a7f940>\n",
      "<map object at 0x110a7f550>\n",
      "<map object at 0x110a7fb00>\n",
      "<map object at 0x110a7fdd8>\n",
      "<map object at 0x110a7f940>\n",
      "<map object at 0x110a7f550>\n",
      "<map object at 0x110a7fb00>\n",
      "<map object at 0x110a7fdd8>\n",
      "<map object at 0x110a7f940>\n",
      "<map object at 0x110a7fdd8>\n",
      "<map object at 0x110a7f940>\n",
      "<map object at 0x110a7fdd8>\n",
      "<map object at 0x110a7fc18>\n",
      "<map object at 0x110a7fdd8>\n",
      "<map object at 0x110a7f940>\n"
     ]
    }
   ],
   "source": [
    "import icewave.geometry.save as geom_save\n",
    "\n",
    "filename = savefolder + 'Geom_table.txt'\n",
    "\n",
    "#pprint(geom)\n",
    "\n",
    "geom_save.save(geom,filename)"
   ]
  },
  {
   "cell_type": "code",
   "execution_count": null,
   "metadata": {},
   "outputs": [],
   "source": []
  },
  {
   "cell_type": "code",
   "execution_count": null,
   "metadata": {},
   "outputs": [],
   "source": []
  }
 ],
 "metadata": {
  "kernelspec": {
   "display_name": "Python 3 (ipykernel)",
   "language": "python",
   "name": "python3"
  },
  "language_info": {
   "codemirror_mode": {
    "name": "ipython",
    "version": 3
   },
   "file_extension": ".py",
   "mimetype": "text/x-python",
   "name": "python",
   "nbconvert_exporter": "python",
   "pygments_lexer": "ipython3",
   "version": "3.12.3"
  }
 },
 "nbformat": 4,
 "nbformat_minor": 4
}
