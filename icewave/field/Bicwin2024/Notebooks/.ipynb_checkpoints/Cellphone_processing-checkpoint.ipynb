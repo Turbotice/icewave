{
 "cells": [
  {
   "cell_type": "code",
   "execution_count": 2,
   "metadata": {},
   "outputs": [],
   "source": [
    "%load_ext autoreload\n",
    "%autoreload 2\n",
    "%matplotlib inline"
   ]
  },
  {
   "cell_type": "code",
   "execution_count": 3,
   "metadata": {},
   "outputs": [],
   "source": [
    "import numpy as np\n",
    "import pylab as plt\n",
    "import glob\n",
    "import os\n",
    "import shutil\n",
    "from pprint import pprint\n",
    "import zipfile"
   ]
  },
  {
   "cell_type": "code",
   "execution_count": 4,
   "metadata": {},
   "outputs": [],
   "source": [
    "import stephane.display.graphes as graphes\n",
    "import stephane.tools.Smath as smath\n"
   ]
  },
  {
   "cell_type": "code",
   "execution_count": 5,
   "metadata": {},
   "outputs": [
    {
     "name": "stdout",
     "output_type": "stream",
     "text": [
      "/Users/stephane/Documents/git/icewave/icewave/field/Bicwin2024/Data/2024/0210/Telephones/Sag24_S101_2024_0210\n"
     ]
    }
   ],
   "source": [
    "date = '2024_0210'\n",
    "year,day = date.split('_')\n",
    "\n",
    "base = '/Users/stephane/Documents/git/icewave/icewave/field/Bicwin2024/'\n",
    "folder = base+'Data/'+year+'/'+day+'/Telephones/Sag24*/'\n",
    "norme_folder = base + 'Nomenclature/'\n",
    "\n",
    "filelist = glob.glob(folder+'*.zip')\n",
    "folder = os.path.dirname(filelist[0])\n",
    "print(folder)"
   ]
  },
  {
   "cell_type": "code",
   "execution_count": null,
   "metadata": {},
   "outputs": [],
   "source": [
    "data = {}\n",
    "for filename in filelist:\n",
    "    with zipfile.ZipFile(filename,\"r\") as zip_ref:\n",
    "        foldersave = filename.split('.')[0]\n",
    "        zip_ref.extractall(foldersave)"
   ]
  },
  {
   "cell_type": "code",
   "execution_count": 12,
   "metadata": {},
   "outputs": [
    {
     "name": "stdout",
     "output_type": "stream",
     "text": [
      "/Users/stephane/Documents/git/icewave/icewave/field/Bicwin2024/Data/2024/0210/Telephones/Sag24_S101_2024_0210/0000_01_Accelero_Gyro_Magneto_GPS 2024-02-10_19-10-30/\n",
      "/Users/stephane/Documents/git/icewave/icewave/field/Bicwin2024/Data/2024/0210/Telephones/Sag24_S101_2024_0210/0000_04_192_168_0_104/\n",
      "/Users/stephane/Documents/git/icewave/icewave/field/Bicwin2024/Data/2024/0210/Telephones/Sag24_S101_2024_0210/0000_06_Accelero_Gyro_Magneto_GPS 2024-02-10_18-55-25/\n",
      "/Users/stephane/Documents/git/icewave/icewave/field/Bicwin2024/Data/2024/0210/Telephones/Sag24_S101_2024_0210/0000_07_Accelero_Gyro_Magneto_GPS 2022-04-10_11-00-32/\n",
      "/Users/stephane/Documents/git/icewave/icewave/field/Bicwin2024/Data/2024/0210/Telephones/Sag24_S101_2024_0210/0000_08_Accelero_Gyro_Magneto_GPS 2024-02-10_18-38-02/\n",
      "/Users/stephane/Documents/git/icewave/icewave/field/Bicwin2024/Data/2024/0210/Telephones/Sag24_S101_2024_0210/0000_09_Accelero_Gyro_Magneto_GPS 2024-02-10_18-40-35/\n",
      "/Users/stephane/Documents/git/icewave/icewave/field/Bicwin2024/Data/2024/0210/Telephones/Sag24_S101_2024_0210/0000_11_Accelero_Gyro_Magneto_GPS 2024-02-10_18-30-56/\n",
      "/Users/stephane/Documents/git/icewave/icewave/field/Bicwin2024/Data/2024/0210/Telephones/Sag24_S101_2024_0210/0000_12_Accelero_Gyro_Magneto_GPS 2024-02-10_18-41-49/\n",
      "/Users/stephane/Documents/git/icewave/icewave/field/Bicwin2024/Data/2024/0210/Telephones/Sag24_S101_2024_0210/0000_13_Accelero_Gyro_Magneto_GPS 2022-04-09_05-43-50/\n",
      "/Users/stephane/Documents/git/icewave/icewave/field/Bicwin2024/Data/2024/0210/Telephones/Sag24_S101_2024_0210/0000_16_test_192_168_0_116/\n",
      "/Users/stephane/Documents/git/icewave/icewave/field/Bicwin2024/Data/2024/0210/Telephones/Sag24_S101_2024_0210/0000_17_Accelero_Gyro_Magneto_GPS 2024-02-10_18-49-54/\n",
      "/Users/stephane/Documents/git/icewave/icewave/field/Bicwin2024/Data/2024/0210/Telephones/Sag24_S101_2024_0210/0000_18_Accelero_Gyro_Magneto_GPS 2022-04-09_06-19-40/\n"
     ]
    }
   ],
   "source": [
    "folderlist = glob.glob(folder+'/*/')\n",
    "\n",
    "data = {}\n",
    "for fold in folderlist:\n",
    "    print(fold)\n",
    "    d,key = phone.read_data(fold)"
   ]
  },
  {
   "cell_type": "code",
   "execution_count": null,
   "metadata": {},
   "outputs": [],
   "source": []
  }
 ],
 "metadata": {
  "kernelspec": {
   "display_name": "Python 3",
   "language": "python",
   "name": "python3"
  },
  "language_info": {
   "codemirror_mode": {
    "name": "ipython",
    "version": 3
   },
   "file_extension": ".py",
   "mimetype": "text/x-python",
   "name": "python",
   "nbconvert_exporter": "python",
   "pygments_lexer": "ipython3",
   "version": "3.7.1"
  }
 },
 "nbformat": 4,
 "nbformat_minor": 2
}
