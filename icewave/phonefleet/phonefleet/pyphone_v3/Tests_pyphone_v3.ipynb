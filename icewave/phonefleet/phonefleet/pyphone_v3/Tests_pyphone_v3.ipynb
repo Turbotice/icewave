{
 "cells": [
  {
   "cell_type": "code",
   "execution_count": 3,
   "id": "af175e54",
   "metadata": {},
   "outputs": [
    {
     "name": "stdout",
     "output_type": "stream",
     "text": [
      "The autoreload extension is already loaded. To reload it, use:\n",
      "  %reload_ext autoreload\n"
     ]
    }
   ],
   "source": [
    "%load_ext autoreload\n",
    "%autoreload 2\n",
    "%matplotlib inline"
   ]
  },
  {
   "cell_type": "code",
   "execution_count": 25,
   "id": "ca8690ad",
   "metadata": {},
   "outputs": [],
   "source": [
    "import phone as pyphone\n",
    "import glob"
   ]
  },
  {
   "cell_type": "code",
   "execution_count": 43,
   "id": "f7a7e296",
   "metadata": {},
   "outputs": [
    {
     "name": "stdout",
     "output_type": "stream",
     "text": [
      "Phone 100 not phyphox connected\n",
      "[#100] Initializing... Available on network: False\n"
     ]
    }
   ],
   "source": [
    "phone = pyphone.Phone(100)"
   ]
  },
  {
   "cell_type": "code",
   "execution_count": 46,
   "id": "34b30a9e",
   "metadata": {},
   "outputs": [
    {
     "name": "stdout",
     "output_type": "stream",
     "text": [
      "\n"
     ]
    }
   ],
   "source": [
    "phone.is_adb"
   ]
  },
  {
   "cell_type": "code",
   "execution_count": 45,
   "id": "ed6c978c",
   "metadata": {},
   "outputs": [],
   "source": [
    "filename = 'adb_usb_liste'\n",
    "import csv"
   ]
  },
  {
   "cell_type": "code",
   "execution_count": 50,
   "id": "69248951",
   "metadata": {},
   "outputs": [
    {
     "name": "stdout",
     "output_type": "stream",
     "text": [
      "b'/storage/self/primary/Download/Accelero_Gyro_Magneto_GPS\\ 2022-04-07\\ 03-58-16/'\n"
     ]
    }
   ],
   "source": [
    "filename = \"b'/storage/self/primary/Download/Accelero_Gyro_Magneto_GPS 2022-04-07 03-58-16/'\"\n",
    "print(filename.replace(' ','\\ '))"
   ]
  },
  {
   "cell_type": "code",
   "execution_count": 39,
   "id": "08276a14",
   "metadata": {
    "scrolled": true
   },
   "outputs": [
    {
     "data": {
      "text/plain": [
       "{99: 'HCW0001811023932',\n",
       " 81: 'RZ8T805210W',\n",
       " 0: '68982cdc0611',\n",
       " 1: '353b2d300608',\n",
       " 2: '15982dd80608',\n",
       " 3: '4df2980f0602',\n",
       " 4: '953425640606',\n",
       " 5: '9468259f0606',\n",
       " 6: '7487393e0602',\n",
       " 7: 'e5f904400602',\n",
       " 8: '758538740602',\n",
       " 9: '88a93edd0602',\n",
       " 10: '945c3e710602',\n",
       " 11: '19083fb60603',\n",
       " 12: '1964179f0603',\n",
       " 13: '94d33f4e0602',\n",
       " 14: '13d62dc70603',\n",
       " 15: '88b351d10602',\n",
       " 16: 'e5f904c40602',\n",
       " 17: '94f23f7e0602',\n",
       " 18: '75b539700602',\n",
       " 19: '882051670602',\n",
       " 20: '64df9e140602',\n",
       " 21: 'e5f9043e0602',\n",
       " 22: '19083fb70603',\n",
       " 23: '85ac3e060602',\n",
       " 24: '13c62c450603',\n",
       " 25: '5b6b93490602',\n",
       " 26: '94d33fc60602',\n",
       " 27: '95763e380602',\n",
       " 28: '648f9e7a0602',\n",
       " 29: '142816880603',\n",
       " 30: '645a9fbc0602',\n",
       " 31: '5cc492930602',\n",
       " 32: '182105b40603',\n",
       " 33: '64149ea00602',\n",
       " 34: '645a9e230602',\n",
       " 35: '64e002990510',\n",
       " 36: '19173e360603',\n",
       " 37: '656a03d80510',\n",
       " 38: '410e23010510',\n",
       " 39: '646b9f190602',\n",
       " 40: '145d2c550603',\n",
       " 41: '64e002460510',\n",
       " 42: '146d2dd20603',\n",
       " 43: '645a9f420602',\n",
       " 44: '95663f240602',\n",
       " 45: '94d33e580602',\n",
       " 46: '64a09e110602',\n",
       " 47: '64a09f110602',\n",
       " 48: '88993ff60602',\n",
       " 49: '645a9ecf0602',\n",
       " 50: '656a03b70510',\n",
       " 51: '183102e90601',\n",
       " 52: '630e9e1d0602',\n",
       " 53: '63539fa60602',\n",
       " 54: '958a3f0a0602',\n",
       " 55: '99b843af0602',\n",
       " 56: '1ced03850510',\n",
       " 57: '40ea239e0510',\n",
       " 58: '88473edf0602',\n",
       " 59: '183102310601',\n",
       " 60: '14f32d180603',\n",
       " 61: '1846025c0601',\n",
       " 62: '135f2cfa0603',\n",
       " 63: '13932c460603',\n",
       " 64: '15b703ea0601',\n",
       " 65: '646a9e7e0602'}"
      ]
     },
     "execution_count": 39,
     "metadata": {},
     "output_type": "execute_result"
    }
   ],
   "source": [
    "id_list"
   ]
  },
  {
   "cell_type": "code",
   "execution_count": null,
   "id": "204b4f68",
   "metadata": {},
   "outputs": [],
   "source": []
  }
 ],
 "metadata": {
  "kernelspec": {
   "display_name": "Python 3 (ipykernel)",
   "language": "python",
   "name": "python3"
  },
  "language_info": {
   "codemirror_mode": {
    "name": "ipython",
    "version": 3
   },
   "file_extension": ".py",
   "mimetype": "text/x-python",
   "name": "python",
   "nbconvert_exporter": "python",
   "pygments_lexer": "ipython3",
   "version": "3.11.4"
  }
 },
 "nbformat": 4,
 "nbformat_minor": 5
}
