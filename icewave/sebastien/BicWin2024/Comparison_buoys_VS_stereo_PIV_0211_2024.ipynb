{
 "cells": [
  {
   "cell_type": "code",
   "execution_count": null,
   "id": "68dcab44-20a0-47f4-8098-46b138da36ed",
   "metadata": {},
   "outputs": [],
   "source": []
  }
 ],
 "metadata": {
  "kernelspec": {
   "display_name": "",
   "name": ""
  },
  "language_info": {
   "name": ""
  }
 },
 "nbformat": 4,
 "nbformat_minor": 5
}
