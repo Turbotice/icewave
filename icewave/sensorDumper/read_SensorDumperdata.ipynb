{
 "cells": [
  {
   "cell_type": "code",
   "execution_count": 76,
   "metadata": {},
   "outputs": [
    {
     "name": "stdout",
     "output_type": "stream",
     "text": [
      "The autoreload extension is already loaded. To reload it, use:\n",
      "  %reload_ext autoreload\n"
     ]
    }
   ],
   "source": [
    "%load_ext autoreload\n",
    "%autoreload 2\n",
    "%matplotlib inline"
   ]
  },
  {
   "cell_type": "code",
   "execution_count": 77,
   "metadata": {},
   "outputs": [],
   "source": [
    "import numpy as np\n",
    "import pylab as plt\n",
    "import glob\n",
    "import os\n",
    "from pprint import pprint\n",
    "import scipy.integrate as inte\n",
    "import scipy.special as special\n",
    "import scipy.interpolate as interp\n",
    "import scipy.signal as sig"
   ]
  },
  {
   "cell_type": "code",
   "execution_count": 78,
   "metadata": {},
   "outputs": [],
   "source": [
    "import stephane.display.graphes as graphes\n",
    "import stephane.tools.Smath as smath\n",
    "\n",
    "import icewave.tools.datafolders as df\n",
    "import icewave.tools.rw_data as rw_data\n",
    "\n",
    "#import sympy #symoblic python\n",
    "#import mpmath as math\n",
    "#import cv2\n",
    "import glob\n",
    "import csv\n",
    "import os\n",
    "\n",
    "import icewave.phone.rw_pyphone as rw\n",
    "import icewave.field.multi_instruments as multi"
   ]
  },
  {
   "cell_type": "code",
   "execution_count": 79,
   "metadata": {},
   "outputs": [],
   "source": [
    "import urllib"
   ]
  },
  {
   "cell_type": "code",
   "execution_count": 31,
   "metadata": {},
   "outputs": [
    {
     "name": "stdout",
     "output_type": "stream",
     "text": [
      "PING 192.168.2.133 (192.168.2.133): 56 data bytes\n",
      "64 bytes from 192.168.2.133: icmp_seq=0 ttl=64 time=82.973 ms\n",
      "64 bytes from 192.168.2.133: icmp_seq=1 ttl=64 time=27.036 ms\n",
      "64 bytes from 192.168.2.133: icmp_seq=2 ttl=64 time=259.400 ms\n",
      "64 bytes from 192.168.2.133: icmp_seq=3 ttl=64 time=56.633 ms\n",
      "64 bytes from 192.168.2.133: icmp_seq=4 ttl=64 time=100.711 ms\n",
      "\n",
      "--- 192.168.2.133 ping statistics ---\n",
      "5 packets transmitted, 5 packets received, 0.0% packet loss\n",
      "round-trip min/avg/max/stddev = 27.036/105.351/259.400/80.945 ms\n",
      "CompletedProcess(args=['ping', '-c', '5', '192.168.2.133'], returncode=0)\n",
      "PING 192.168.2.134 (192.168.2.134): 56 data bytes\n",
      "64 bytes from 192.168.2.134: icmp_seq=0 ttl=64 time=303.060 ms\n",
      "64 bytes from 192.168.2.134: icmp_seq=1 ttl=64 time=229.330 ms\n",
      "64 bytes from 192.168.2.134: icmp_seq=2 ttl=64 time=104.426 ms\n",
      "64 bytes from 192.168.2.134: icmp_seq=3 ttl=64 time=65.763 ms\n",
      "64 bytes from 192.168.2.134: icmp_seq=4 ttl=64 time=285.385 ms\n",
      "\n",
      "--- 192.168.2.134 ping statistics ---\n",
      "5 packets transmitted, 5 packets received, 0.0% packet loss\n",
      "round-trip min/avg/max/stddev = 65.763/197.593/303.060/95.809 ms\n",
      "CompletedProcess(args=['ping', '-c', '5', '192.168.2.134'], returncode=0)\n",
      "PING 192.168.2.135 (192.168.2.135): 56 data bytes\n",
      "64 bytes from 192.168.2.135: icmp_seq=0 ttl=64 time=4.038 ms\n",
      "64 bytes from 192.168.2.135: icmp_seq=1 ttl=64 time=211.297 ms\n",
      "64 bytes from 192.168.2.135: icmp_seq=2 ttl=64 time=92.629 ms\n",
      "64 bytes from 192.168.2.135: icmp_seq=3 ttl=64 time=11.775 ms\n",
      "64 bytes from 192.168.2.135: icmp_seq=4 ttl=64 time=239.491 ms\n",
      "\n",
      "--- 192.168.2.135 ping statistics ---\n",
      "5 packets transmitted, 5 packets received, 0.0% packet loss\n",
      "round-trip min/avg/max/stddev = 4.038/111.846/239.491/98.173 ms\n",
      "CompletedProcess(args=['ping', '-c', '5', '192.168.2.135'], returncode=0)\n",
      "PING 192.168.2.136 (192.168.2.136): 56 data bytes\n",
      "64 bytes from 192.168.2.136: icmp_seq=0 ttl=64 time=316.681 ms\n",
      "64 bytes from 192.168.2.136: icmp_seq=1 ttl=64 time=203.104 ms\n",
      "64 bytes from 192.168.2.136: icmp_seq=2 ttl=64 time=121.678 ms\n",
      "64 bytes from 192.168.2.136: icmp_seq=3 ttl=64 time=79.607 ms\n",
      "64 bytes from 192.168.2.136: icmp_seq=4 ttl=64 time=293.808 ms\n",
      "\n",
      "--- 192.168.2.136 ping statistics ---\n",
      "5 packets transmitted, 5 packets received, 0.0% packet loss\n",
      "round-trip min/avg/max/stddev = 79.607/202.976/316.681/92.745 ms\n",
      "CompletedProcess(args=['ping', '-c', '5', '192.168.2.136'], returncode=0)\n",
      "PING 192.168.2.137 (192.168.2.137): 56 data bytes\n",
      "64 bytes from 192.168.2.137: icmp_seq=0 ttl=64 time=275.719 ms\n",
      "64 bytes from 192.168.2.137: icmp_seq=1 ttl=64 time=181.000 ms\n",
      "64 bytes from 192.168.2.137: icmp_seq=2 ttl=64 time=102.146 ms\n",
      "64 bytes from 192.168.2.137: icmp_seq=3 ttl=64 time=19.245 ms\n",
      "64 bytes from 192.168.2.137: icmp_seq=4 ttl=64 time=256.352 ms\n",
      "\n",
      "--- 192.168.2.137 ping statistics ---\n",
      "5 packets transmitted, 5 packets received, 0.0% packet loss\n",
      "round-trip min/avg/max/stddev = 19.245/166.892/275.719/95.955 ms\n",
      "CompletedProcess(args=['ping', '-c', '5', '192.168.2.137'], returncode=0)\n",
      "PING 192.168.2.138 (192.168.2.138): 56 data bytes\n",
      "64 bytes from 192.168.2.138: icmp_seq=0 ttl=64 time=13.958 ms\n",
      "64 bytes from 192.168.2.138: icmp_seq=1 ttl=64 time=241.383 ms\n",
      "64 bytes from 192.168.2.138: icmp_seq=2 ttl=64 time=151.402 ms\n",
      "64 bytes from 192.168.2.138: icmp_seq=3 ttl=64 time=37.394 ms\n",
      "64 bytes from 192.168.2.138: icmp_seq=4 ttl=64 time=264.630 ms\n",
      "\n",
      "--- 192.168.2.138 ping statistics ---\n",
      "5 packets transmitted, 5 packets received, 0.0% packet loss\n",
      "round-trip min/avg/max/stddev = 13.958/141.753/264.630/102.314 ms\n",
      "CompletedProcess(args=['ping', '-c', '5', '192.168.2.138'], returncode=0)\n",
      "PING 192.168.2.139 (192.168.2.139): 56 data bytes\n",
      "64 bytes from 192.168.2.139: icmp_seq=0 ttl=64 time=293.001 ms\n",
      "64 bytes from 192.168.2.139: icmp_seq=1 ttl=64 time=211.756 ms\n",
      "64 bytes from 192.168.2.139: icmp_seq=2 ttl=64 time=128.070 ms\n",
      "64 bytes from 192.168.2.139: icmp_seq=3 ttl=64 time=53.918 ms\n",
      "64 bytes from 192.168.2.139: icmp_seq=4 ttl=64 time=283.780 ms\n",
      "\n",
      "--- 192.168.2.139 ping statistics ---\n",
      "5 packets transmitted, 5 packets received, 0.0% packet loss\n",
      "round-trip min/avg/max/stddev = 53.918/194.105/293.001/91.811 ms\n",
      "CompletedProcess(args=['ping', '-c', '5', '192.168.2.139'], returncode=0)\n",
      "PING 192.168.2.142 (192.168.2.142): 56 data bytes\n",
      "64 bytes from 192.168.2.142: icmp_seq=0 ttl=64 time=18.304 ms\n",
      "64 bytes from 192.168.2.142: icmp_seq=1 ttl=64 time=336.145 ms\n",
      "64 bytes from 192.168.2.142: icmp_seq=2 ttl=64 time=267.192 ms\n",
      "64 bytes from 192.168.2.142: icmp_seq=3 ttl=64 time=40.308 ms\n",
      "64 bytes from 192.168.2.142: icmp_seq=4 ttl=64 time=267.911 ms\n",
      "\n",
      "--- 192.168.2.142 ping statistics ---\n",
      "5 packets transmitted, 5 packets received, 0.0% packet loss\n",
      "round-trip min/avg/max/stddev = 18.304/185.972/336.145/130.532 ms\n",
      "CompletedProcess(args=['ping', '-c', '5', '192.168.2.142'], returncode=0)\n",
      "PING 192.168.2.143 (192.168.2.143): 56 data bytes\n",
      "64 bytes from 192.168.2.143: icmp_seq=0 ttl=64 time=292.726 ms\n",
      "64 bytes from 192.168.2.143: icmp_seq=1 ttl=64 time=209.691 ms\n",
      "64 bytes from 192.168.2.143: icmp_seq=2 ttl=64 time=130.169 ms\n",
      "64 bytes from 192.168.2.143: icmp_seq=3 ttl=64 time=85.172 ms\n",
      "64 bytes from 192.168.2.143: icmp_seq=4 ttl=64 time=314.962 ms\n",
      "\n",
      "--- 192.168.2.143 ping statistics ---\n",
      "5 packets transmitted, 5 packets received, 0.0% packet loss\n",
      "round-trip min/avg/max/stddev = 85.172/206.544/314.962/89.170 ms\n",
      "CompletedProcess(args=['ping', '-c', '5', '192.168.2.143'], returncode=0)\n",
      "PING 192.168.2.144 (192.168.2.144): 56 data bytes\n",
      "64 bytes from 192.168.2.144: icmp_seq=0 ttl=64 time=248.315 ms\n",
      "64 bytes from 192.168.2.144: icmp_seq=1 ttl=64 time=200.986 ms\n",
      "64 bytes from 192.168.2.144: icmp_seq=2 ttl=64 time=115.920 ms\n",
      "64 bytes from 192.168.2.144: icmp_seq=3 ttl=64 time=311.881 ms\n",
      "64 bytes from 192.168.2.144: icmp_seq=4 ttl=64 time=229.995 ms\n",
      "CompletedProcess(args=['ping', '-c', '5', '192.168.2.144'], returncode=0)\n",
      "\n",
      "--- 192.168.2.144 ping statistics ---\n",
      "5 packets transmitted, 5 packets received, 0.0% packet loss\n",
      "round-trip min/avg/max/stddev = 115.920/221.419/311.881/64.075 ms\n",
      "PING 192.168.2.145 (192.168.2.145): 56 data bytes\n",
      "64 bytes from 192.168.2.145: icmp_seq=0 ttl=64 time=288.035 ms\n",
      "64 bytes from 192.168.2.145: icmp_seq=1 ttl=64 time=204.435 ms\n",
      "64 bytes from 192.168.2.145: icmp_seq=2 ttl=64 time=165.939 ms\n",
      "64 bytes from 192.168.2.145: icmp_seq=3 ttl=64 time=69.791 ms\n",
      "64 bytes from 192.168.2.145: icmp_seq=4 ttl=64 time=296.121 ms\n",
      "\n",
      "--- 192.168.2.145 ping statistics ---\n",
      "5 packets transmitted, 5 packets received, 0.0% packet loss\n",
      "round-trip min/avg/max/stddev = 69.791/204.864/296.121/83.672 ms\n",
      "CompletedProcess(args=['ping', '-c', '5', '192.168.2.145'], returncode=0)\n",
      "PING 192.168.2.146 (192.168.2.146): 56 data bytes\n",
      "64 bytes from 192.168.2.146: icmp_seq=0 ttl=64 time=290.948 ms\n",
      "64 bytes from 192.168.2.146: icmp_seq=1 ttl=64 time=207.701 ms\n",
      "64 bytes from 192.168.2.146: icmp_seq=2 ttl=64 time=94.837 ms\n",
      "64 bytes from 192.168.2.146: icmp_seq=3 ttl=64 time=14.356 ms\n",
      "64 bytes from 192.168.2.146: icmp_seq=4 ttl=64 time=3.272 ms\n",
      "\n",
      "--- 192.168.2.146 ping statistics ---\n",
      "5 packets transmitted, 5 packets received, 0.0% packet loss\n",
      "round-trip min/avg/max/stddev = 3.272/122.223/290.948/111.633 ms\n",
      "CompletedProcess(args=['ping', '-c', '5', '192.168.2.146'], returncode=0)\n",
      "PING 192.168.2.147 (192.168.2.147): 56 data bytes\n",
      "64 bytes from 192.168.2.147: icmp_seq=0 ttl=64 time=220.685 ms\n",
      "64 bytes from 192.168.2.147: icmp_seq=1 ttl=64 time=171.880 ms\n",
      "64 bytes from 192.168.2.147: icmp_seq=2 ttl=64 time=84.240 ms\n",
      "64 bytes from 192.168.2.147: icmp_seq=3 ttl=64 time=311.634 ms\n",
      "64 bytes from 192.168.2.147: icmp_seq=4 ttl=64 time=207.293 ms\n",
      "\n",
      "--- 192.168.2.147 ping statistics ---\n",
      "5 packets transmitted, 5 packets received, 0.0% packet loss\n",
      "round-trip min/avg/max/stddev = 84.240/199.146/311.634/73.662 ms\n",
      "CompletedProcess(args=['ping', '-c', '5', '192.168.2.147'], returncode=0)\n",
      "PING 192.168.2.148 (192.168.2.148): 56 data bytes\n",
      "64 bytes from 192.168.2.148: icmp_seq=0 ttl=64 time=286.911 ms\n",
      "64 bytes from 192.168.2.148: icmp_seq=1 ttl=64 time=203.856 ms\n",
      "64 bytes from 192.168.2.148: icmp_seq=2 ttl=64 time=175.029 ms\n",
      "64 bytes from 192.168.2.148: icmp_seq=3 ttl=64 time=41.479 ms\n",
      "64 bytes from 192.168.2.148: icmp_seq=4 ttl=64 time=289.783 ms\n",
      "\n",
      "--- 192.168.2.148 ping statistics ---\n",
      "5 packets transmitted, 5 packets received, 0.0% packet loss\n",
      "round-trip min/avg/max/stddev = 41.479/199.412/289.783/90.973 ms\n",
      "CompletedProcess(args=['ping', '-c', '5', '192.168.2.148'], returncode=0)\n"
     ]
    },
    {
     "name": "stdout",
     "output_type": "stream",
     "text": [
      "PING 192.168.2.149 (192.168.2.149): 56 data bytes\n",
      "64 bytes from 192.168.2.149: icmp_seq=0 ttl=64 time=309.822 ms\n",
      "64 bytes from 192.168.2.149: icmp_seq=1 ttl=64 time=209.112 ms\n",
      "64 bytes from 192.168.2.149: icmp_seq=2 ttl=64 time=108.079 ms\n",
      "64 bytes from 192.168.2.149: icmp_seq=3 ttl=64 time=27.786 ms\n",
      "64 bytes from 192.168.2.149: icmp_seq=4 ttl=64 time=253.292 ms\n",
      "\n",
      "--- 192.168.2.149 ping statistics ---\n",
      "5 packets transmitted, 5 packets received, 0.0% packet loss\n",
      "round-trip min/avg/max/stddev = 27.786/181.618/309.822/101.392 ms\n",
      "CompletedProcess(args=['ping', '-c', '5', '192.168.2.149'], returncode=0)\n"
     ]
    }
   ],
   "source": [
    "import urllib.request\n",
    "import subprocess\n",
    "\n",
    "\n",
    "\n",
    "for phone in phonelist:\n",
    "    a = subprocess.run(['ping','-c','5',f'192.168.2.1{phone}'],text=True,stdout=True)\n",
    "    print(a)\n"
   ]
  },
  {
   "cell_type": "code",
   "execution_count": 37,
   "metadata": {},
   "outputs": [
    {
     "data": {
      "text/plain": [
       "15"
      ]
     },
     "execution_count": 37,
     "metadata": {},
     "output_type": "execute_result"
    }
   ],
   "source": [
    "len(phonelist)"
   ]
  },
  {
   "cell_type": "code",
   "execution_count": 35,
   "metadata": {},
   "outputs": [
    {
     "name": "stdout",
     "output_type": "stream",
     "text": [
      "33\n",
      "34\n",
      "35\n",
      "36\n",
      "37\n",
      "38\n",
      "39\n",
      "42\n",
      "43\n",
      "44\n",
      "45\n",
      "46\n",
      "47\n",
      "48\n",
      "49\n"
     ]
    }
   ],
   "source": [
    "# Poor-man sync. when the accelerometer (in x / directions) will pass the threshold, each phone will take that point in time as its origin\n",
    "phonelist = [33,34,35,36,37,38,39,42,43,44,45,46,47,48,49]\n",
    "for phone in phonelist:\n",
    "    print(phone)\n",
    "    urllib.request.urlopen(f\"http://192.168.2.1{phone}:8080/init?threshold=0.5\").read()"
   ]
  },
  {
   "cell_type": "code",
   "execution_count": 52,
   "metadata": {},
   "outputs": [
    {
     "data": {
      "text/plain": [
       "['-1', ' NaN', ' NaN', ' NaN', ' ']"
      ]
     },
     "execution_count": 52,
     "metadata": {},
     "output_type": "execute_result"
    }
   ],
   "source": []
  },
  {
   "cell_type": "code",
   "execution_count": 36,
   "metadata": {},
   "outputs": [
    {
     "name": "stdout",
     "output_type": "stream",
     "text": [
      "33\n",
      "34\n",
      "35\n",
      "36\n",
      "37\n",
      "38\n",
      "39\n",
      "42\n",
      "43\n",
      "44\n",
      "45\n",
      "46\n",
      "47\n",
      "48\n",
      "49\n"
     ]
    }
   ],
   "source": [
    "port = 8080\n",
    "name = 'experiment'\n",
    "for phone in phonelist:\n",
    "    print(phone)\n",
    "    ip = f'192.168.2.1{phone}'\n",
    "# Start recording. name is just for naming the files. Not mandatory\n",
    "    urllib.request.urlopen(f\"http://{ip}:{port}/start?name={name}\").read()"
   ]
  },
  {
   "cell_type": "code",
   "execution_count": 40,
   "metadata": {},
   "outputs": [
    {
     "name": "stdout",
     "output_type": "stream",
     "text": [
      "47\n",
      "48\n",
      "49\n"
     ]
    }
   ],
   "source": [
    "port = 8080\n",
    "name = 'experiment'\n",
    "for phone in phonelist[12:]:\n",
    "    print(phone)\n",
    "    ip = f'192.168.2.1{phone}'\n",
    "# Start recording. name is just for naming the files. Not mandatory\n",
    "#    urllib.request.urlopen(f\"http://{ip}:{port}/start?name={name}\").read()\n",
    "    urllib.request.urlopen(f\"http://{ip}:{port}/stop\").read()"
   ]
  },
  {
   "cell_type": "code",
   "execution_count": 42,
   "metadata": {},
   "outputs": [
    {
     "name": "stdout",
     "output_type": "stream",
     "text": [
      "33\n",
      "['storage/self/primary/Download/SensorDumper/experiment-2024-11-22T21_06_51-android.sensor.accelerometer-3--1--1.csv']\n",
      "34\n",
      "['storage/self/primary/Download/SensorDumper/experiment-2024-11-22T21_06_52-android.sensor.accelerometer-4--1--1.csv']\n",
      "35\n",
      "['storage/self/primary/Download/SensorDumper/experiment-2024-11-22T21_06_54-android.sensor.accelerometer-2--1--1.csv']\n",
      "36\n",
      "['storage/self/primary/Download/SensorDumper/experiment-2024-11-22T21_06_56-android.sensor.accelerometer-2--1--1.csv']\n",
      "37\n",
      "['storage/self/primary/Download/SensorDumper/experiment-2024-11-22T21_06_57-android.sensor.accelerometer-2--1--1.csv']\n",
      "38\n",
      "['storage/self/primary/Download/SensorDumper/experiment-2024-11-22T21_06_58-android.sensor.accelerometer-2--1--1.csv', 'storage/self/primary/Download/SensorDumper/experiment-2024-11-22T21_06_58-android.sensor.accelerometer-2-73530737--1.csv']\n",
      "39\n",
      "['storage/self/primary/Download/SensorDumper/experiment-2024-11-22T21_06_58-android.sensor.accelerometer-2--1--1.csv']\n",
      "42\n",
      "['storage/self/primary/Download/SensorDumper/experiment-2024-11-22T21_07_00-android.sensor.accelerometer-1--1--1.csv']\n",
      "43\n",
      "['storage/self/primary/Download/SensorDumper/experiment-2024-11-22T21_07_01-android.sensor.accelerometer-2--1--1.csv']\n",
      "44\n",
      "['storage/self/primary/Download/SensorDumper/experiment-2024-11-22T21_07_02-android.sensor.accelerometer-1--1--1.csv', 'storage/self/primary/Download/SensorDumper/experiment-2024-11-22T21_07_02-android.sensor.accelerometer-1-121072575--1.csv']\n",
      "45\n",
      "['storage/self/primary/Download/SensorDumper/experiment-2024-11-22T21_07_04-android.sensor.accelerometer-2--1--1.csv', 'storage/self/primary/Download/SensorDumper/experiment-2024-11-22T21_07_04-android.sensor.accelerometer-2-137951692--1.csv']\n",
      "46\n",
      "[\"', stderr='adb: device offline\"]\n",
      "47\n",
      "['storage/self/primary/Download/SensorDumper/experiment-2024-11-22T21_07_05-android.sensor.accelerometer-2--1--1.csv', 'storage/self/primary/Download/SensorDumper/experiment-2024-11-22T21_07_05-android.sensor.accelerometer-2-138087247--1.csv']\n",
      "48\n",
      "['storage/self/primary/Download/SensorDumper/experiment-2024-11-22T21_07_10-android.sensor.accelerometer-1--1--1.csv']\n",
      "49\n",
      "['storage/self/primary/Download/SensorDumper/experiment-2024-11-22T21_07_11-android.sensor.accelerometer-1--1--1.csv']\n"
     ]
    }
   ],
   "source": [
    "# get the data\n",
    "import subprocess\n",
    "\n",
    "filelist = {}\n",
    "for phone in phonelist:\n",
    "    print(phone)\n",
    "    ip = f'192.168.2.1{phone}'\n",
    "    files = subprocess.run(['adb','-s',ip, 'shell','ls','storage/self/primary/Download/SensorDumper/*21_*accelero*.csv'],text=True,capture_output = True)#,stdout=True,stderr=True)\n",
    "    lines = str(files).split(\"stdout='\")[1].split('\\\\n')\n",
    "    print(lines[:-1])\n",
    "    filelist[phone]=lines[:-1]\n",
    "\n",
    "#adb -s 192.168.2.133 push ~/Documents/Telephones/2024_Jules_Caso/app-release.apk /storage/self/primary/Download/app_JC_20112024.pak"
   ]
  },
  {
   "cell_type": "code",
   "execution_count": 45,
   "metadata": {},
   "outputs": [
    {
     "name": "stdout",
     "output_type": "stream",
     "text": [
      "33\n",
      "34\n",
      "35\n",
      "36\n",
      "37\n",
      "38\n",
      "39\n",
      "42\n",
      "43\n",
      "44\n",
      "45\n",
      "46\n",
      "test_round_table/Run2/46_', stderr='adb: device offline\n",
      "adb: error: failed to stat remote object '', stderr='adb: device offline': No such file or directory\n",
      "47\n",
      "48\n",
      "49\n"
     ]
    }
   ],
   "source": [
    "folder = \"test_round_table/Run2/\"\n",
    "for phone in filelist.keys():\n",
    "    print(phone)\n",
    "    if phone==46:\n",
    "        ip = f'192.168.2.1{phone}'\n",
    "        for filename in filelist[phone]:\n",
    "            #print(filename)\n",
    "            savefile = folder+f\"{phone}_\"+filename.split('/')[-1]\n",
    "            print(savefile)\n",
    "            subprocess.run(['adb','-s',ip, 'pull',filename,savefile],text=True,stdout=True,)"
   ]
  },
  {
   "cell_type": "code",
   "execution_count": 46,
   "metadata": {},
   "outputs": [
    {
     "name": "stdout",
     "output_type": "stream",
     "text": [
      "33\n",
      "34\n",
      "35\n",
      "36\n",
      "37\n",
      "38\n",
      "38\n",
      "39\n",
      "42\n",
      "43\n",
      "44\n",
      "44\n",
      "45\n",
      "45\n",
      "47\n",
      "47\n",
      "48\n",
      "49\n"
     ]
    }
   ],
   "source": [
    "filelist = glob.glob(folder+'*.csv')\n",
    "\n",
    "data = {}\n",
    "for filename in filelist:\n",
    "    phone = int(filename.split('/')[-1][:2])\n",
    "    print(phone)\n",
    "    d = rw_data.read_csv(filename)\n",
    "    if phone in data.keys():\n",
    "        data[phone]=data[phone]+d\n",
    "    else:\n",
    "        data[phone]=d"
   ]
  },
  {
   "cell_type": "code",
   "execution_count": 51,
   "metadata": {},
   "outputs": [
    {
     "data": {
      "text/plain": [
       "['-1', ' NaN', ' NaN', ' NaN', ' ']"
      ]
     },
     "execution_count": 51,
     "metadata": {},
     "output_type": "execute_result"
    }
   ],
   "source": [
    "data[33][0]"
   ]
  },
  {
   "cell_type": "code",
   "execution_count": 58,
   "metadata": {},
   "outputs": [
    {
     "name": "stdout",
     "output_type": "stream",
     "text": [
      "33\n",
      "33 0.0\n",
      "34\n",
      "34 0.0\n",
      "35\n",
      "35 0.0\n",
      "36\n",
      "36 0.0\n",
      "37\n",
      "37 0.0\n",
      "38\n",
      "38 8303.7256606305\n",
      "39\n",
      "39 0.0\n",
      "42\n",
      "42 0.0\n",
      "43\n",
      "43 0.0\n",
      "44\n",
      "44 1673.1497131303\n",
      "45\n",
      "45 632.8303770079999\n",
      "47\n",
      "47 6281.1104444935\n",
      "48\n",
      "48 0.0\n",
      "49\n",
      "49 0.0\n"
     ]
    },
    {
     "data": {
      "image/png": "[encoded data removed]",
      "text/plain": [
       "<Figure size 640x480 with 1 Axes>"
      ]
     },
     "metadata": {},
     "output_type": "display_data"
    }
   ],
   "source": [
    "\n",
    "for phone in data.keys():\n",
    "    print(phone)\n",
    "    N = len(data[phone])\n",
    "    a = np.zeros(N)\n",
    "    t = np.zeros(N)\n",
    "    for i in range(N):\n",
    "        a[i] = data[phone][i][1]\n",
    "        t[i] = data[phone][i][0]\n",
    "\n",
    "    print(phone,np.nansum(a))\n",
    "    plt.plot(t,a)\n",
    "#plt.xlim([3.5*10**8,6*10**8])"
   ]
  },
  {
   "cell_type": "code",
   "execution_count": 68,
   "metadata": {},
   "outputs": [
    {
     "name": "stdout",
     "output_type": "stream",
     "text": [
      "720000\n",
      "11258\n"
     ]
    }
   ],
   "source": [
    "phone = 44\n",
    "N = len(data[phone])\n",
    "print(N)\n",
    "a = []\n",
    "t = []\n",
    "for i in range(N):\n",
    "    if float(data[phone][i][0])>0:\n",
    "        a.append(float(data[phone][i][1]))\n",
    "        t.append(float(data[phone][i][0]))\n",
    "print(len(t))\n",
    "#plt.plot(t,a)"
   ]
  },
  {
   "cell_type": "code",
   "execution_count": 75,
   "metadata": {},
   "outputs": [
    {
     "data": {
      "text/plain": [
       "(0.0, 5000.0)"
      ]
     },
     "execution_count": 75,
     "metadata": {},
     "output_type": "execute_result"
    },
    {
     "data": {
      "image/png": "[encoded data removed]",
      "text/plain": [
       "<Figure size 640x480 with 1 Axes>"
      ]
     },
     "metadata": {},
     "output_type": "display_data"
    }
   ],
   "source": [
    "t = np.asarray(t)\n",
    "a = np.asarray(a)\n",
    "plt.plot((t-t[0])/1000,a)\n",
    "plt.xlim([0,5*10**3])"
   ]
  },
  {
   "cell_type": "code",
   "execution_count": null,
   "metadata": {},
   "outputs": [],
   "source": [
    "filelist = subprocess.run(['adb','devices'],text=True,stdout=True)"
   ]
  },
  {
   "cell_type": "code",
   "execution_count": null,
   "metadata": {},
   "outputs": [],
   "source": [
    "name = 'experiment-2024-11-21T17_53_17-android.sensor.gyroscope-1-7082360130--1.csv'\n",
    "savefile = \"/Users/stephane/Documents/Telephones/2024_Jules_Caso/gyroscope.csv\"\n",
    "filelist = subprocess.run(['adb','-s',ip, 'pull',f\"storage/self/primary/Download/SensorDumper/{name}\",savefile],text=True,stdout=True,)"
   ]
  },
  {
   "cell_type": "code",
   "execution_count": null,
   "metadata": {},
   "outputs": [],
   "source": [
    "import icewave.tools.rw_data as rw_data\n",
    "\n",
    "filename = \"/Users/stephane/Documents/Telephones/2024_Jules_Caso/gyroscope.csv\"\n",
    "data = rw_data.read_csv(filename)"
   ]
  },
  {
   "cell_type": "code",
   "execution_count": null,
   "metadata": {},
   "outputs": [],
   "source": [
    "data = np.asarray(data)\n",
    "plt.plot(data[:100,1].astype(float))"
   ]
  },
  {
   "cell_type": "code",
   "execution_count": null,
   "metadata": {},
   "outputs": [],
   "source": [
    "a = plt.hist(np.diff(data[:10000,0].astype(int))/1000,100)\n",
    "np.mean(np.diff(data[:10000,0].astype(int))/1000)"
   ]
  },
  {
   "cell_type": "code",
   "execution_count": null,
   "metadata": {},
   "outputs": [],
   "source": []
  },
  {
   "cell_type": "code",
   "execution_count": null,
   "metadata": {},
   "outputs": [],
   "source": [
    "np.mean(np.diff(np.asarray(data)[0,:10000].astype(int)))"
   ]
  },
  {
   "cell_type": "code",
   "execution_count": null,
   "metadata": {},
   "outputs": [],
   "source": [
    "data = np.asarray(data)\n",
    "data.shape"
   ]
  },
  {
   "cell_type": "code",
   "execution_count": null,
   "metadata": {},
   "outputs": [],
   "source": [
    "data[0,:]"
   ]
  },
  {
   "cell_type": "code",
   "execution_count": null,
   "metadata": {},
   "outputs": [],
   "source": [
    "t = data[:,0].astype(int)\n",
    "acx = data[:,1].astype(float)\n",
    "acy = data[:,2].astype(float)\n",
    "acz = data[:,3].astype(float)\n",
    "\n",
    "fig,ax = plt.subplots(figsize=(20,5))\n",
    "ax.plot((t-t[0])/1000000,acz)\n",
    "plt.xlim([0,1200])\n",
    "g = 9.81\n",
    "plt.ylim([-0.2+g,0.2+g])"
   ]
  },
  {
   "cell_type": "code",
   "execution_count": null,
   "metadata": {},
   "outputs": [],
   "source": []
  }
 ],
 "metadata": {
  "kernelspec": {
   "display_name": "Python 3 (ipykernel)",
   "language": "python",
   "name": "python3"
  },
  "language_info": {
   "codemirror_mode": {
    "name": "ipython",
    "version": 3
   },
   "file_extension": ".py",
   "mimetype": "text/x-python",
   "name": "python",
   "nbconvert_exporter": "python",
   "pygments_lexer": "ipython3",
   "version": "3.11.9"
  }
 },
 "nbformat": 4,
 "nbformat_minor": 2
}
