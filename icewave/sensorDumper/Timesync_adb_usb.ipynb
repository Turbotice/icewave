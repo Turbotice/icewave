{
 "cells": [
  {
   "cell_type": "code",
   "execution_count": 106,
   "metadata": {},
   "outputs": [
    {
     "name": "stdout",
     "output_type": "stream",
     "text": [
      "The autoreload extension is already loaded. To reload it, use:\n",
      "  %reload_ext autoreload\n"
     ]
    }
   ],
   "source": [
    "%load_ext autoreload\n",
    "%autoreload 2\n",
    "%matplotlib inline"
   ]
  },
  {
   "cell_type": "code",
   "execution_count": 107,
   "metadata": {},
   "outputs": [],
   "source": [
    "import subprocess\n",
    "import urllib.request\n",
    "\n",
    "import numpy as np\n",
    "import pylab as plt\n",
    "import glob\n",
    "import os\n",
    "from pprint import pprint\n",
    "import scipy.integrate as inte\n",
    "import scipy.special as special\n",
    "import scipy.interpolate as interp\n",
    "import scipy.signal as sig\n",
    "\n",
    "import time"
   ]
  },
  {
   "cell_type": "code",
   "execution_count": 108,
   "metadata": {},
   "outputs": [],
   "source": [
    "import stephane.display.graphes as graphes\n",
    "import stephane.tools.Smath as smath\n",
    "\n",
    "import icewave.tools.datafolders as df\n",
    "import icewave.tools.rw_data as rw_data\n",
    "\n",
    "#import sympy #symoblic python\n",
    "#import mpmath as math\n",
    "#import cv2\n",
    "import glob\n",
    "import csv\n",
    "import os\n",
    "\n",
    "import icewave.phone.rw_pyphone as rw\n",
    "import icewave.field.multi_instruments as multi"
   ]
  },
  {
   "cell_type": "code",
   "execution_count": 109,
   "metadata": {},
   "outputs": [],
   "source": [
    "folder = '/Users/stephane/Documents/git/icewave/icewave/sensorDumper'"
   ]
  },
  {
   "cell_type": "code",
   "execution_count": 74,
   "metadata": {},
   "outputs": [],
   "source": []
  },
  {
   "cell_type": "code",
   "execution_count": 114,
   "metadata": {},
   "outputs": [
    {
     "name": "stdout",
     "output_type": "stream",
     "text": [
      "['100', '101', '103', '104', '105']\n",
      "PING 192.168.2.100 (192.168.2.100) 56(84) bytes of data.\n",
      "64 bytes from 192.168.2.100: icmp_seq=1 ttl=64 time=364 ms\n",
      "64 bytes from 192.168.2.100: icmp_seq=2 ttl=64 time=92.1 ms\n",
      "\n",
      "--- 192.168.2.100 ping statistics ---\n",
      "2 packets transmitted, 2 received, 0% packet loss, time 1001ms\n",
      "rtt min/avg/max/mdev = 92.146/228.271/364.397/136.125 ms\n",
      "PING 192.168.2.101 (192.168.2.101) 56(84) bytes of data.\n",
      "64 bytes from 192.168.2.101: icmp_seq=1 ttl=64 time=96.8 ms\n",
      "64 bytes from 192.168.2.101: icmp_seq=2 ttl=64 time=206 ms\n",
      "\n",
      "--- 192.168.2.101 ping statistics ---\n",
      "2 packets transmitted, 2 received, 0% packet loss, time 1002ms\n",
      "rtt min/avg/max/mdev = 96.809/151.416/206.024/54.607 ms\n",
      "PING 192.168.2.103 (192.168.2.103) 56(84) bytes of data.\n",
      "64 bytes from 192.168.2.103: icmp_seq=1 ttl=64 time=203 ms\n",
      "64 bytes from 192.168.2.103: icmp_seq=2 ttl=64 time=22.4 ms\n",
      "\n",
      "--- 192.168.2.103 ping statistics ---\n",
      "2 packets transmitted, 2 received, 0% packet loss, time 1000ms\n",
      "rtt min/avg/max/mdev = 22.399/112.728/203.058/90.329 ms\n",
      "PING 192.168.2.104 (192.168.2.104) 56(84) bytes of data.\n",
      "64 bytes from 192.168.2.104: icmp_seq=1 ttl=64 time=405 ms\n",
      "64 bytes from 192.168.2.104: icmp_seq=2 ttl=64 time=18.7 ms\n",
      "\n",
      "--- 192.168.2.104 ping statistics ---\n",
      "2 packets transmitted, 2 received, 0% packet loss, time 1000ms\n",
      "rtt min/avg/max/mdev = 18.740/211.643/404.547/192.903 ms\n",
      "PING 192.168.2.105 (192.168.2.105) 56(84) bytes of data.\n",
      "64 bytes from 192.168.2.105: icmp_seq=1 ttl=64 time=1223 ms\n",
      "\n",
      "--- 192.168.2.105 ping statistics ---\n",
      "2 packets transmitted, 1 received, 50% packet loss, time 1062ms\n",
      "rtt min/avg/max/mdev = 1223.497/1223.497/1223.497/0.000 ms, pipe 2\n"
     ]
    }
   ],
   "source": [
    "phonelist = ['00','01','03','04','05']\n",
    "numlist = []\n",
    "for phone in phonelist:\n",
    "    numlist.append('1'+phone)\n",
    "print(numlist)\n",
    "#numlist =  ['219','139','148','122','243']\n",
    "\n",
    "network = 2\n",
    "\n",
    "import urllib.request\n",
    "import subprocess\n",
    "\n",
    "for phone in numlist:\n",
    "    ip = f'192.168.{network}.{phone}'\n",
    "    a = subprocess.run(['ping','-c','2',ip],text=True,stdout=True)\n",
    "    "
   ]
  },
  {
   "cell_type": "code",
   "execution_count": null,
   "metadata": {},
   "outputs": [],
   "source": []
  },
  {
   "cell_type": "code",
   "execution_count": null,
   "metadata": {},
   "outputs": [],
   "source": []
  },
  {
   "cell_type": "code",
   "execution_count": 118,
   "metadata": {},
   "outputs": [
    {
     "ename": "OSError",
     "evalue": "[Errno 9] Bad file descriptor",
     "output_type": "error",
     "traceback": [
      "\u001b[0;31m---------------------------------------------------------------------------\u001b[0m",
      "\u001b[0;31mOSError\u001b[0m                                   Traceback (most recent call last)",
      "Cell \u001b[0;32mIn[118], line 24\u001b[0m\n\u001b[1;32m     22\u001b[0m sock_receive \u001b[38;5;241m=\u001b[39m socket\u001b[38;5;241m.\u001b[39msocket(socket\u001b[38;5;241m.\u001b[39mAF_INET, socket\u001b[38;5;241m.\u001b[39mSOCK_DGRAM)\n\u001b[1;32m     23\u001b[0m sock_receive\u001b[38;5;241m.\u001b[39mclose()\n\u001b[0;32m---> 24\u001b[0m sock_receive\u001b[38;5;241m.\u001b[39mbind((\u001b[38;5;124m\"\u001b[39m\u001b[38;5;124m\"\u001b[39m, \u001b[38;5;241m5001\u001b[39m))\n\u001b[1;32m     26\u001b[0m sock_send\u001b[38;5;241m.\u001b[39msendto(do_nothing_command, (address, \u001b[38;5;241m5000\u001b[39m))\n\u001b[1;32m     28\u001b[0m \u001b[38;5;66;03m# first query to warm up\u001b[39;00m\n\u001b[1;32m     29\u001b[0m \u001b[38;5;66;03m#except:\u001b[39;00m\n\u001b[1;32m     30\u001b[0m \u001b[38;5;66;03m#    print('initialisation fail')\u001b[39;00m\n\u001b[1;32m     31\u001b[0m \u001b[38;5;66;03m# activate udp sync on phone\u001b[39;00m\n",
      "\u001b[0;31mOSError\u001b[0m: [Errno 9] Bad file descriptor"
     ]
    }
   ],
   "source": [
    "import socket, time,  urllib.request\n",
    "import icewave.sensorDumper.time_sync as tsync\n",
    "\n",
    "network = '2'\n",
    "\n",
    "for phone in numlist:\n",
    "    address = f\"192.168.{network}.{phone}\" # phone address\n",
    "\n",
    "    #protocol command\n",
    "\n",
    "    do_nothing = 0\n",
    "    do_nothing_command = do_nothing.to_bytes(4, 'big', signed=False)\n",
    "    respond = 1\n",
    "    respond_command = respond.to_bytes(4, 'big', signed=False)\n",
    "    stop = 2\n",
    "    stop_command = stop.to_bytes(4, 'big', signed=False)\n",
    "\n",
    "    socket.socket(socket.SOL_SOCKET, socket.SO_REUSEADDR, 1)\n",
    "    \n",
    "    sock_send = socket.socket(socket.AF_INET, socket.SOCK_DGRAM)\n",
    "\n",
    "    sock_receive.close()\n",
    "    sock_receive = socket.socket(socket.AF_INET, socket.SOCK_DGRAM)\n",
    "    sock_receive.bind((\"\", 5001))\n",
    "\n",
    "    sock_send.sendto(do_nothing_command, (address, 5000))\n",
    "\n",
    "    # first query to warm up\n",
    "    #except:\n",
    "    #    print('initialisation fail')\n",
    "    # activate udp sync on phone\n",
    "\n",
    "    urllib.request.urlopen(\"http://\" + address + \":8080/udp-sync\").read()\n",
    "\n",
    "    Dt = {}\n",
    "    duration = []\n",
    "    for i in range(1,4):\n",
    "        Dt[i]=[]\n",
    "\n",
    "    t0 = time.time()\n",
    "    for i in range(200):\n",
    "        #print(i)\n",
    "        if np.mod(i,100)==0:\n",
    "            print(i)\n",
    "        t1 = time.time_ns()\n",
    "        sock_send.sendto(respond_command, (address, 5000))\n",
    "        t2 = time.time_ns()\n",
    "        t_phone_bytes = sock_receive.recv(8)\n",
    "        t3 = time.time_ns()\n",
    "        #print(t3)\n",
    "        t_phone = int.from_bytes(t_phone_bytes, byteorder='big')\n",
    "        #print(str((t_phone-t1)/1000000) + \"    \" + str((t3-t_phone)/1000000) + \"    \" + str((t3-t1)/1000000))\n",
    "        duration.append((t3-t1)*10**(-6))\n",
    "        Dt[1].append((t1-t_phone)*10**(-6))\n",
    "        Dt[2].append((t2-t_phone)*10**(-6))\n",
    "        Dt[3].append((t3-t_phone)*10**(-6))\n",
    "        # stop sync\n",
    "    sock_send.sendto(stop_command, (address, 5000))\n",
    "\n",
    "    tend = time.time()\n",
    "    print(tend-t0)\n",
    "    tlag = tsync.get_lag(Dt,duration)\n",
    "    \n",
    "    print(tlag)"
   ]
  },
  {
   "cell_type": "code",
   "execution_count": 91,
   "metadata": {},
   "outputs": [
    {
     "ename": "OSError",
     "evalue": "[Errno 98] Address already in use",
     "output_type": "error",
     "traceback": [
      "\u001b[0;31m---------------------------------------------------------------------------\u001b[0m",
      "\u001b[0;31mOSError\u001b[0m                                   Traceback (most recent call last)",
      "Cell \u001b[0;32mIn[91], line 2\u001b[0m\n\u001b[1;32m      1\u001b[0m \u001b[38;5;28;01mfor\u001b[39;00m (num,phone) \u001b[38;5;129;01min\u001b[39;00m \u001b[38;5;28mzip\u001b[39m(numlist,phonelist):\n\u001b[0;32m----> 2\u001b[0m     tlag \u001b[38;5;241m=\u001b[39m get_lag(network,num)\n\u001b[1;32m      3\u001b[0m     \u001b[38;5;28mprint\u001b[39m(phone,tlag)\n",
      "Cell \u001b[0;32mIn[90], line 63\u001b[0m, in \u001b[0;36mget_lag\u001b[0;34m(network, phone, n)\u001b[0m\n\u001b[1;32m     62\u001b[0m \u001b[38;5;28;01mdef\u001b[39;00m \u001b[38;5;21mget_lag\u001b[39m(network,phone,n\u001b[38;5;241m=\u001b[39m\u001b[38;5;241m200\u001b[39m):\n\u001b[0;32m---> 63\u001b[0m     Dt,duration \u001b[38;5;241m=\u001b[39m time_sync(network,phone,n\u001b[38;5;241m=\u001b[39mn)\n\u001b[1;32m     65\u001b[0m     tmedian \u001b[38;5;241m=\u001b[39m np\u001b[38;5;241m.\u001b[39mmedian(duration)\n\u001b[1;32m     66\u001b[0m     tmax \u001b[38;5;241m=\u001b[39m tmedian\u001b[38;5;241m*\u001b[39m\u001b[38;5;241m0.8\u001b[39m\n",
      "Cell \u001b[0;32mIn[90], line 12\u001b[0m, in \u001b[0;36mtime_sync\u001b[0;34m(network, phone, n)\u001b[0m\n\u001b[1;32m     10\u001b[0m sock_send \u001b[38;5;241m=\u001b[39m socket\u001b[38;5;241m.\u001b[39msocket(socket\u001b[38;5;241m.\u001b[39mAF_INET, socket\u001b[38;5;241m.\u001b[39mSOCK_DGRAM)\n\u001b[1;32m     11\u001b[0m sock_receive \u001b[38;5;241m=\u001b[39m socket\u001b[38;5;241m.\u001b[39msocket(socket\u001b[38;5;241m.\u001b[39mAF_INET, socket\u001b[38;5;241m.\u001b[39mSOCK_DGRAM)\n\u001b[0;32m---> 12\u001b[0m sock_receive\u001b[38;5;241m.\u001b[39mbind((\u001b[38;5;124m\"\u001b[39m\u001b[38;5;124m\"\u001b[39m, \u001b[38;5;241m5001\u001b[39m))\n\u001b[1;32m     14\u001b[0m do_nothing \u001b[38;5;241m=\u001b[39m \u001b[38;5;241m0\u001b[39m\n\u001b[1;32m     15\u001b[0m do_nothing_command \u001b[38;5;241m=\u001b[39m do_nothing\u001b[38;5;241m.\u001b[39mto_bytes(\u001b[38;5;241m4\u001b[39m, \u001b[38;5;124m'\u001b[39m\u001b[38;5;124mbig\u001b[39m\u001b[38;5;124m'\u001b[39m, signed\u001b[38;5;241m=\u001b[39m\u001b[38;5;28;01mFalse\u001b[39;00m)\n",
      "\u001b[0;31mOSError\u001b[0m: [Errno 98] Address already in use"
     ]
    }
   ],
   "source": [
    "for (num,phone) in zip(numlist,phonelist):\n",
    "    tlag = get_lag(network,num)\n",
    "    print(phone,tlag)"
   ]
  },
  {
   "cell_type": "code",
   "execution_count": 20,
   "metadata": {},
   "outputs": [
    {
     "name": "stdout",
     "output_type": "stream",
     "text": [
      "Elapsed time : 98.18975377082825\n"
     ]
    }
   ],
   "source": [
    "import icewave.tools.rw_data as rw_data\n",
    "\n",
    "\n",
    "ti = time.time()\n",
    "duration = []\n",
    "Dt = []\n",
    "for i in range(1000):\n",
    "#    print(i)\n",
    "    a = subprocess.run(['bash','./autosyn.sh'],text=True,stdout=True)\n",
    "    data = rw_data.read_csv('timelog/t0.txt')\n",
    "    \n",
    "    t0 = np.asarray(data[0][0]).astype(float)\n",
    "    tphone = np.asarray(data[2][0]).astype(float)\n",
    "    t1 = np.asarray(data[-1][0]).astype(float)\n",
    "    duration.append(t1-t0)\n",
    "    \n",
    "    Dt.append(tphone-(t1+t0)/2)\n",
    "    \n",
    "tf = time.time()\n",
    "\n",
    "print(f\"Elapsed time : {tf-ti}\")"
   ]
  },
  {
   "cell_type": "code",
   "execution_count": 26,
   "metadata": {},
   "outputs": [
    {
     "data": {
      "text/plain": [
       "[['1732271640.101387000'],\n",
       " [],\n",
       " ['1732271610.194995'],\n",
       " ['real 0.012988'],\n",
       " ['user 0.008403'],\n",
       " ['sys 0.004201'],\n",
       " [],\n",
       " [],\n",
       " ['real\\t0m0.072s'],\n",
       " ['user\\t0m0.004s'],\n",
       " ['sys\\t0m0.003s'],\n",
       " ['1732271640.182078000']]"
      ]
     },
     "execution_count": 26,
     "metadata": {},
     "output_type": "execute_result"
    }
   ],
   "source": [
    "data"
   ]
  },
  {
   "cell_type": "code",
   "execution_count": 27,
   "metadata": {},
   "outputs": [],
   "source": [
    "Dt = np.asarray(Dt)\n",
    "duration = np.asarray(duration)"
   ]
  },
  {
   "cell_type": "code",
   "execution_count": 34,
   "metadata": {},
   "outputs": [
    {
     "data": {
      "image/png": "[encoded data removed]",
      "text/plain": [
       "<Figure size 1200x600 with 2 Axes>"
      ]
     },
     "metadata": {},
     "output_type": "display_data"
    }
   ],
   "source": [
    "fig,axs = plt.subplots(figsize=(12,6),ncols=2)\n",
    "\n",
    "axs[0].hist(duration,100)\n",
    "\n",
    "tmedian = np.median(duration)\n",
    "tmax = tmedian\n",
    "\n",
    "indices = np.where(duration<tmax)[0]\n",
    "#print(indices)\n",
    "n = axs[1].hist(Dt[indices],100)"
   ]
  },
  {
   "cell_type": "code",
   "execution_count": 23,
   "metadata": {},
   "outputs": [
    {
     "name": "stdout",
     "output_type": "stream",
     "text": [
      "0.07779860496520996\n"
     ]
    }
   ],
   "source": [
    "print(tmedian)"
   ]
  },
  {
   "cell_type": "code",
   "execution_count": 35,
   "metadata": {},
   "outputs": [
    {
     "name": "stdout",
     "output_type": "stream",
     "text": [
      "-29.94907578420639 2.2956260554095897 0.10266351821631084\n"
     ]
    }
   ],
   "source": [
    "moy = np.mean(Dt[indices])\n",
    "std = np.std(Dt[indices])\n",
    "\n",
    "print(moy,std*1000,std/np.sqrt(len(indices))*1000)"
   ]
  },
  {
   "cell_type": "code",
   "execution_count": 97,
   "metadata": {},
   "outputs": [
    {
     "ename": "NameError",
     "evalue": "name 'sync' is not defined",
     "output_type": "error",
     "traceback": [
      "\u001b[0;31m---------------------------------------------------------------------------\u001b[0m",
      "\u001b[0;31mNameError\u001b[0m                                 Traceback (most recent call last)",
      "Cell \u001b[0;32mIn[97], line 1\u001b[0m\n\u001b[0;32m----> 1\u001b[0m sync\u001b[38;5;241m.\u001b[39mget_lag\n\u001b[1;32m      2\u001b[0m \u001b[38;5;28mprint\u001b[39m(t1\u001b[38;5;241m-\u001b[39mt0)\n",
      "\u001b[0;31mNameError\u001b[0m: name 'sync' is not defined"
     ]
    }
   ],
   "source": [
    "sync.get_lag\n",
    "print(t1-t0)"
   ]
  },
  {
   "cell_type": "code",
   "execution_count": 48,
   "metadata": {},
   "outputs": [],
   "source": [
    "network = '57'\n",
    "phone = '219'\n",
    "for phone in numlist:\n",
    "    address = f\"192.168.{network}.{phone}\" # phone address\n",
    "    urllib.request.urlopen(\"http://\" + address + \":8080/udp-sync\").read()"
   ]
  },
  {
   "cell_type": "code",
   "execution_count": 49,
   "metadata": {},
   "outputs": [
    {
     "ename": "ModuleNotFoundError",
     "evalue": "No module named 'SimpleHTTPServer'",
     "output_type": "error",
     "traceback": [
      "\u001b[0;31m---------------------------------------------------------------------------\u001b[0m",
      "\u001b[0;31mModuleNotFoundError\u001b[0m                       Traceback (most recent call last)",
      "Cell \u001b[0;32mIn[49], line 2\u001b[0m\n\u001b[1;32m      1\u001b[0m \u001b[38;5;28;01mimport\u001b[39;00m \u001b[38;5;21;01msocket\u001b[39;00m\n\u001b[0;32m----> 2\u001b[0m \u001b[38;5;28;01mimport\u001b[39;00m \u001b[38;5;21;01mSimpleHTTPServer\u001b[39;00m\n\u001b[1;32m      3\u001b[0m \u001b[38;5;28;01mimport\u001b[39;00m \u001b[38;5;21;01msocketserver\u001b[39;00m \u001b[38;5;66;03m# If using Python 3.0 or higher\u001b[39;00m\n\u001b[1;32m      4\u001b[0m \u001b[38;5;66;03m# import SocketServer # If using Python 2.7, \u001b[39;00m\n\u001b[1;32m      5\u001b[0m \u001b[38;5;66;03m# import os # Uncomment if you want to change directories within the program\u001b[39;00m\n",
      "\u001b[0;31mModuleNotFoundError\u001b[0m: No module named 'SimpleHTTPServer'"
     ]
    }
   ],
   "source": [
    "import socket\n",
    "import SimpleHTTPServer\n",
    "import socketserver # If using Python 3.0 or higher\n",
    "# import SocketServer # If using Python 2.7, \n",
    "# import os # Uncomment if you want to change directories within the program\n",
    "\n",
    "PORT = 8000\n",
    "\n",
    "# Absolutely essential!  This ensures that socket resuse is setup BEFORE\n",
    "# it is bound.  Will avoid the TIME_WAIT issue\n",
    "\n",
    "class MyTCPServer(SocketServer.TCPServer):\n",
    "    def server_bind(self):\n",
    "        self.socket.setsockopt(socket.SOL_SOCKET, socket.SO_REUSEADDR, 1)\n",
    "        self.socket.bind(self.server_address)\n",
    "    \n",
    "Handler = SimpleHTTPServer.SimpleHTTPRequestHandler\n",
    "    \n",
    "httpd = MyTCPServer((\"\", PORT), Handler)\n",
    "    \n",
    "# os.chdir(\"/My/Webpages/Live/here.html\")\n",
    "\n",
    "httpd.serve_forever()\n",
    "\n",
    "# httpd.shutdown() # If you want to programmatically shut off the server"
   ]
  },
  {
   "cell_type": "code",
   "execution_count": 57,
   "metadata": {},
   "outputs": [
    {
     "data": {
      "text/plain": [
       "b'Syncing via udp'"
      ]
     },
     "execution_count": 57,
     "metadata": {},
     "output_type": "execute_result"
    }
   ],
   "source": []
  },
  {
   "cell_type": "code",
   "execution_count": 96,
   "metadata": {},
   "outputs": [
    {
     "name": "stdout",
     "output_type": "stream",
     "text": [
      "0\n",
      "100\n",
      "1.298712968826294\n",
      "0\n",
      "100\n",
      "1.1574945449829102\n",
      "0\n",
      "100\n",
      "1.8824524879455566\n",
      "0\n",
      "100\n",
      "2.550691843032837\n",
      "0\n",
      "100\n",
      "1.644434928894043\n"
     ]
    }
   ],
   "source": []
  },
  {
   "cell_type": "code",
   "execution_count": 8,
   "metadata": {},
   "outputs": [],
   "source": [
    "duration = np.asarray(duration)\n",
    "for key in Dt.keys():\n",
    "    Dt[key] = np.asarray(Dt[key])"
   ]
  },
  {
   "cell_type": "code",
   "execution_count": 13,
   "metadata": {},
   "outputs": [
    {
     "data": {
      "image/png": "[encoded data removed]",
      "text/plain": [
       "<Figure size 640x480 with 1 Axes>"
      ]
     },
     "metadata": {},
     "output_type": "display_data"
    }
   ],
   "source": [
    "a = plt.hist(duration,100)\n",
    "plt.yscale('log')"
   ]
  },
  {
   "cell_type": "code",
   "execution_count": null,
   "metadata": {},
   "outputs": [],
   "source": []
  },
  {
   "cell_type": "code",
   "execution_count": 111,
   "metadata": {},
   "outputs": [
    {
     "name": "stdout",
     "output_type": "stream",
     "text": [
      "4.09\n",
      "194\n",
      "0.3263314602822092\n"
     ]
    },
    {
     "data": {
      "image/png": "[encoded data removed]",
      "text/plain": [
       "<Figure size 1200x600 with 2 Axes>"
      ]
     },
     "metadata": {},
     "output_type": "display_data"
    }
   ],
   "source": [
    "fig,axs = plt.subplots(figsize=(12,6),ncols=2)\n",
    "\n",
    "axs[0].hist(duration,100)\n",
    "\n",
    "tmedian = np.median(duration)\n",
    "tmax = tmedian*0.8\n",
    "\n",
    "print(tmax)\n",
    "\n",
    "indices = np.where(duration<tmax)[0]\n",
    "print(len(indices))\n",
    "i = 3\n",
    "n = axs[1].hist(Dt[i][indices],100)\n",
    "print(np.std(Dt[i][indices]))\n",
    "axs[1].set_yscale('log')\n",
    "#axs[1]"
   ]
  },
  {
   "cell_type": "code",
   "execution_count": 112,
   "metadata": {},
   "outputs": [
    {
     "data": {
      "text/plain": [
       "[<matplotlib.lines.Line2D at 0x11d707010>]"
      ]
     },
     "execution_count": 112,
     "metadata": {},
     "output_type": "execute_result"
    },
    {
     "data": {
      "image/png": "[encoded data removed]",
      "text/plain": [
       "<Figure size 640x480 with 1 Axes>"
      ]
     },
     "metadata": {},
     "output_type": "display_data"
    }
   ],
   "source": [
    "plt.plot(Dt[2][indices],Dt[3][indices],'ko')"
   ]
  },
  {
   "cell_type": "code",
   "execution_count": 114,
   "metadata": {},
   "outputs": [
    {
     "name": "stdout",
     "output_type": "stream",
     "text": [
      "0.48348348348348347\n"
     ]
    },
    {
     "data": {
      "image/png": "[encoded data removed]",
      "text/plain": [
       "<Figure size 640x480 with 1 Axes>"
      ]
     },
     "metadata": {},
     "output_type": "display_data"
    }
   ],
   "source": [
    "alphas = np.linspace(0,1,10**3)\n",
    "mu = np.zeros(len(alphas))\n",
    "for i,alpha in enumerate(alphas):\n",
    "    mu[i] = np.std(Dt[1][indices]*alpha+Dt[3][indices]*(1-alpha))\n",
    "\n",
    "plt.plot(alphas,mu,'ko')\n",
    "\n",
    "print(alphas[np.argmin(mu)])"
   ]
  },
  {
   "cell_type": "code",
   "execution_count": null,
   "metadata": {},
   "outputs": [],
   "source": []
  }
 ],
 "metadata": {
  "kernelspec": {
   "display_name": "Python 3 (ipykernel)",
   "language": "python",
   "name": "python3"
  },
  "language_info": {
   "codemirror_mode": {
    "name": "ipython",
    "version": 3
   },
   "file_extension": ".py",
   "mimetype": "text/x-python",
   "name": "python",
   "nbconvert_exporter": "python",
   "pygments_lexer": "ipython3",
   "version": "3.11.4"
  }
 },
 "nbformat": 4,
 "nbformat_minor": 2
}
